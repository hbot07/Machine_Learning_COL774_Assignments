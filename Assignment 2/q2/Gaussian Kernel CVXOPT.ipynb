{
 "cells": [
  {
   "cell_type": "code",
   "execution_count": 237,
   "id": "initial_id",
   "metadata": {
    "collapsed": true,
    "ExecuteTime": {
     "end_time": "2023-10-04T14:09:08.485119Z",
     "start_time": "2023-10-04T14:09:03.265817Z"
    }
   },
   "outputs": [
    {
     "data": {
      "text/plain": "((2380, 768), (2380, 768))"
     },
     "execution_count": 237,
     "metadata": {},
     "output_type": "execute_result"
    }
   ],
   "source": [
    "import os\n",
    "import cv2\n",
    "import numpy as np\n",
    "\n",
    "def load_images_from_folder(folder_path):\n",
    "    images = []\n",
    "    for filename in os.listdir(folder_path):\n",
    "        img = cv2.imread(os.path.join(folder_path, filename))\n",
    "        if img is not None:\n",
    "            # Resize and normalize\n",
    "            img_resized = cv2.resize(img, (16, 16)) / 255.0\n",
    "            # Flatten\n",
    "            img_flattened = img_resized.flatten()\n",
    "            images.append(img_flattened)\n",
    "    return np.array(images)\n",
    "\n",
    "# Load images for class 0 and 5\n",
    "class_0_images = load_images_from_folder(\"../data/svm/train/0\")\n",
    "class_5_images = load_images_from_folder(\"../data/svm/train/1\")\n",
    "\n",
    "class_0_images.shape, class_5_images.shape"
   ]
  },
  {
   "cell_type": "code",
   "execution_count": 238,
   "outputs": [],
   "source": [
    "X = np.concatenate((class_0_images, class_5_images), axis=0)\n",
    "y = np.concatenate((-1 * np.ones(class_0_images.shape[0]), np.ones(class_5_images.shape[0])), axis=0)"
   ],
   "metadata": {
    "collapsed": false,
    "ExecuteTime": {
     "end_time": "2023-10-04T14:09:08.542286Z",
     "start_time": "2023-10-04T14:09:08.481437Z"
    }
   },
   "id": "c4791a032a74fc40"
  },
  {
   "cell_type": "code",
   "execution_count": 239,
   "outputs": [],
   "source": [
    "def gaussian_kernel(x1, x2, gamma=0.001):\n",
    "    return np.exp(-gamma * np.linalg.norm(x1 - x2) ** 2)"
   ],
   "metadata": {
    "collapsed": false,
    "ExecuteTime": {
     "end_time": "2023-10-04T14:09:08.555828Z",
     "start_time": "2023-10-04T14:09:08.532296Z"
    }
   },
   "id": "49297590c5cfb3ec"
  },
  {
   "cell_type": "code",
   "execution_count": 240,
   "outputs": [],
   "source": [
    "from scipy.spatial.distance import cdist\n",
    "\n",
    "# Compute pairwise squared distances\n",
    "squared_dists = cdist(X, X, 'sqeuclidean')\n",
    "\n",
    "# Compute Gaussian Kernel values\n",
    "gamma = 0.001\n",
    "K = np.exp(-gamma * squared_dists)\n",
    "\n",
    "# Compute the P matrix\n",
    "P = np.outer(y, y) * K"
   ],
   "metadata": {
    "collapsed": false,
    "ExecuteTime": {
     "end_time": "2023-10-04T14:09:26.135041Z",
     "start_time": "2023-10-04T14:09:08.546340Z"
    }
   },
   "id": "49b98dea392f7851"
  },
  {
   "cell_type": "code",
   "execution_count": 241,
   "outputs": [
    {
     "name": "stdout",
     "output_type": "stream",
     "text": [
      "     pcost       dcost       gap    pres   dres\n",
      " 0: -1.9393e+03 -1.4696e+04  9e+04  4e+00  3e-13\n",
      " 1: -1.2731e+03 -1.0480e+04  2e+04  4e-01  4e-13\n",
      " 2: -1.1845e+03 -2.6743e+03  1e+03  9e-13  4e-13\n",
      " 3: -1.4357e+03 -2.1032e+03  7e+02  9e-13  3e-13\n",
      " 4: -1.5025e+03 -1.9941e+03  5e+02  4e-13  3e-13\n",
      " 5: -1.5733e+03 -1.8712e+03  3e+02  1e-13  3e-13\n",
      " 6: -1.6192e+03 -1.7957e+03  2e+02  8e-13  3e-13\n",
      " 7: -1.6452e+03 -1.7549e+03  1e+02  5e-13  3e-13\n",
      " 8: -1.6661e+03 -1.7225e+03  6e+01  2e-13  3e-13\n",
      " 9: -1.6769e+03 -1.7068e+03  3e+01  3e-13  3e-13\n",
      "10: -1.6857e+03 -1.6947e+03  9e+00  1e-13  4e-13\n",
      "11: -1.6890e+03 -1.6904e+03  1e+00  1e-12  4e-13\n",
      "12: -1.6896e+03 -1.6897e+03  7e-02  2e-14  4e-13\n",
      "13: -1.6896e+03 -1.6896e+03  2e-03  4e-12  4e-13\n",
      "14: -1.6896e+03 -1.6896e+03  3e-05  5e-12  4e-13\n",
      "Optimal solution found.\n"
     ]
    }
   ],
   "source": [
    "from cvxopt import matrix, solvers\n",
    "from numpy import double\n",
    "\n",
    "q = -np.ones((X.shape[0], 1))\n",
    "G = np.vstack([-np.eye(X.shape[0]), np.eye(X.shape[0])])\n",
    "h = np.hstack([np.zeros(X.shape[0]), np.ones(X.shape[0]) * 1.0])  # Considering C = 1.0\n",
    "A = y.reshape(1, -1)\n",
    "b = np.zeros(1)\n",
    "\n",
    "P = matrix(P)\n",
    "q = matrix(q)\n",
    "G = matrix(G)\n",
    "h = matrix(h)\n",
    "A = matrix(A)\n",
    "b = matrix(b)\n",
    "\n",
    "sol = solvers.qp(P, q, G, h, A, b)\n",
    "alphas = np.array(sol['x'])"
   ],
   "metadata": {
    "collapsed": false,
    "ExecuteTime": {
     "end_time": "2023-10-04T14:10:32.969110Z",
     "start_time": "2023-10-04T14:09:26.151309Z"
    }
   },
   "id": "422f1746f20e997c"
  },
  {
   "cell_type": "code",
   "execution_count": 242,
   "outputs": [],
   "source": [
    "class_0_val_images = load_images_from_folder(\"../data/svm/val/0\")\n",
    "class_5_val_images = load_images_from_folder(\"../data/svm/val/1\")\n",
    "\n",
    "X_val = np.concatenate((class_0_val_images, class_5_val_images), axis=0)\n",
    "y_val = np.concatenate((-1 * np.ones(class_0_val_images.shape[0]), np.ones(class_5_val_images.shape[0])), axis=0)"
   ],
   "metadata": {
    "collapsed": false,
    "ExecuteTime": {
     "end_time": "2023-10-04T14:10:33.245942Z",
     "start_time": "2023-10-04T14:10:32.971343Z"
    }
   },
   "id": "6c3aa54829de243"
  },
  {
   "cell_type": "code",
   "execution_count": 243,
   "outputs": [],
   "source": [
    "sv_indices = ((alphas > 1e-5) & (alphas < 1 - 1e-5)).flatten()\n",
    "support_vectors = X[sv_indices]\n",
    "support_vector_labels = y[sv_indices]\n",
    "alphas_sv = alphas[sv_indices]\n",
    "\n",
    "# Calculate kernel matrix for support vectors\n",
    "K_sv = np.exp(-0.001 * cdist(support_vectors, support_vectors, 'sqeuclidean'))\n",
    "\n",
    "# Calculate b for each support vector\n",
    "b_values = support_vector_labels - np.sum(alphas_sv * support_vector_labels * K_sv, axis=1)\n",
    "\n",
    "# Average over all b values\n",
    "b = np.mean(b_values)"
   ],
   "metadata": {
    "collapsed": false,
    "ExecuteTime": {
     "end_time": "2023-10-04T14:10:33.261058Z",
     "start_time": "2023-10-04T14:10:33.249974Z"
    }
   },
   "id": "7d7c06ed9ba77b2"
  },
  {
   "cell_type": "code",
   "execution_count": 246,
   "outputs": [],
   "source": [
    "b = -7.728114"
   ],
   "metadata": {
    "collapsed": false,
    "ExecuteTime": {
     "end_time": "2023-10-04T14:11:06.477723Z",
     "start_time": "2023-10-04T14:11:06.471456Z"
    }
   },
   "id": "644b70f648898d71"
  },
  {
   "cell_type": "code",
   "execution_count": 247,
   "outputs": [
    {
     "data": {
      "text/plain": "0.845"
     },
     "execution_count": 247,
     "metadata": {},
     "output_type": "execute_result"
    }
   ],
   "source": [
    "sv_indices = ((alphas > 1e-5)).flatten()\n",
    "support_vectors = X[sv_indices]\n",
    "support_vector_labels = y[sv_indices]\n",
    "alphas_sv = alphas[sv_indices]\n",
    "\n",
    "def predict_gaussian(X):\n",
    "    # Calculate Gaussian Kernel values between each point in X and the support vectors\n",
    "    K = np.exp(-0.001 * cdist(X, support_vectors, 'sqeuclidean'))\n",
    "    \n",
    "    # Calculate predictions using the kernel values, alphas, support vector labels, and b\n",
    "    predictions = np.dot(K, alphas_sv.flatten() * support_vector_labels.flatten()) + b\n",
    "    \n",
    "    return np.sign(predictions).flatten()\n",
    "\n",
    "y_val_pred = predict_gaussian(X_val)\n",
    "np.mean(y_val_pred == y_val)"
   ],
   "metadata": {
    "collapsed": false,
    "ExecuteTime": {
     "end_time": "2023-10-04T14:11:08.333353Z",
     "start_time": "2023-10-04T14:11:07.893893Z"
    }
   },
   "id": "dac56385d8b50760"
  }
 ],
 "metadata": {
  "kernelspec": {
   "display_name": "Python 3",
   "language": "python",
   "name": "python3"
  },
  "language_info": {
   "codemirror_mode": {
    "name": "ipython",
    "version": 2
   },
   "file_extension": ".py",
   "mimetype": "text/x-python",
   "name": "python",
   "nbconvert_exporter": "python",
   "pygments_lexer": "ipython2",
   "version": "2.7.6"
  }
 },
 "nbformat": 4,
 "nbformat_minor": 5
}
