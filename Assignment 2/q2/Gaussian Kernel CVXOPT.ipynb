{
 "cells": [
  {
   "cell_type": "code",
   "execution_count": 1,
   "id": "initial_id",
   "metadata": {
    "collapsed": true,
    "ExecuteTime": {
     "end_time": "2023-10-04T17:58:04.770149Z",
     "start_time": "2023-10-04T17:58:01.811518Z"
    }
   },
   "outputs": [
    {
     "data": {
      "text/plain": "((2380, 768), (2380, 768))"
     },
     "execution_count": 1,
     "metadata": {},
     "output_type": "execute_result"
    }
   ],
   "source": [
    "import os\n",
    "import cv2\n",
    "import numpy as np\n",
    "\n",
    "def load_images_from_folder(folder_path):\n",
    "    images = []\n",
    "    for filename in os.listdir(folder_path):\n",
    "        img = cv2.imread(os.path.join(folder_path, filename))\n",
    "        if img is not None:\n",
    "            # Resize and normalize\n",
    "            img_resized = cv2.resize(img, (16, 16)) / 255.0\n",
    "            # Flatten\n",
    "            img_flattened = img_resized.flatten()\n",
    "            images.append(img_flattened)\n",
    "    return np.array(images)\n",
    "\n",
    "# Load images for class 0 and 5\n",
    "class_0_images = load_images_from_folder(\"../data/svm/train/0\")\n",
    "class_5_images = load_images_from_folder(\"../data/svm/train/5\")\n",
    "\n",
    "class_0_images.shape, class_5_images.shape"
   ]
  },
  {
   "cell_type": "code",
   "execution_count": 2,
   "outputs": [],
   "source": [
    "X = np.concatenate((class_0_images, class_5_images), axis=0)\n",
    "y = np.concatenate((-1 * np.ones(class_0_images.shape[0]), np.ones(class_5_images.shape[0])), axis=0)"
   ],
   "metadata": {
    "collapsed": false,
    "ExecuteTime": {
     "end_time": "2023-10-04T17:58:04.804248Z",
     "start_time": "2023-10-04T17:58:04.767069Z"
    }
   },
   "id": "c4791a032a74fc40"
  },
  {
   "cell_type": "code",
   "execution_count": 3,
   "outputs": [],
   "source": [
    "def gaussian_kernel(x1, x2, gamma=0.001):\n",
    "    return np.exp(-gamma * np.linalg.norm(x1 - x2) ** 2)"
   ],
   "metadata": {
    "collapsed": false,
    "ExecuteTime": {
     "end_time": "2023-10-04T17:58:04.804726Z",
     "start_time": "2023-10-04T17:58:04.793383Z"
    }
   },
   "id": "49297590c5cfb3ec"
  },
  {
   "cell_type": "code",
   "execution_count": 4,
   "outputs": [],
   "source": [
    "from scipy.spatial.distance import cdist\n",
    "\n",
    "# Compute pairwise squared distances\n",
    "squared_dists = cdist(X, X, 'sqeuclidean')\n",
    "\n",
    "# Compute Gaussian Kernel values\n",
    "gamma = 0.001\n",
    "K = np.exp(-gamma * squared_dists)\n",
    "\n",
    "# Compute the P matrix\n",
    "P = np.outer(y, y) * K"
   ],
   "metadata": {
    "collapsed": false,
    "ExecuteTime": {
     "end_time": "2023-10-04T17:58:15.948134Z",
     "start_time": "2023-10-04T17:58:04.798014Z"
    }
   },
   "id": "49b98dea392f7851"
  },
  {
   "cell_type": "code",
   "execution_count": 5,
   "outputs": [
    {
     "name": "stdout",
     "output_type": "stream",
     "text": [
      "     pcost       dcost       gap    pres   dres\n",
      " 0: -3.0573e+03 -1.3944e+04  7e+04  3e+00  5e-13\n",
      " 1: -2.0948e+03 -1.0001e+04  1e+04  2e-01  6e-13\n",
      " 2: -2.2663e+03 -3.4451e+03  1e+03  2e-02  5e-13\n",
      " 3: -2.6058e+03 -3.0009e+03  4e+02  5e-03  5e-13\n",
      " 4: -2.7139e+03 -2.8783e+03  2e+02  2e-03  5e-13\n",
      " 5: -2.7605e+03 -2.8255e+03  7e+01  6e-04  6e-13\n",
      " 6: -2.7804e+03 -2.8029e+03  2e+01  2e-04  6e-13\n",
      " 7: -2.7888e+03 -2.7935e+03  5e+00  2e-05  6e-13\n",
      " 8: -2.7908e+03 -2.7913e+03  5e-01  2e-06  6e-13\n",
      " 9: -2.7910e+03 -2.7910e+03  2e-02  6e-08  6e-13\n",
      "10: -2.7910e+03 -2.7910e+03  7e-04  2e-09  6e-13\n",
      "Optimal solution found.\n"
     ]
    }
   ],
   "source": [
    "from cvxopt import matrix, solvers\n",
    "from numpy import double\n",
    "\n",
    "q = -np.ones((X.shape[0], 1))\n",
    "G = np.vstack([-np.eye(X.shape[0]), np.eye(X.shape[0])])\n",
    "h = np.hstack([np.zeros(X.shape[0]), np.ones(X.shape[0]) * 1.0])  # Considering C = 1.0\n",
    "A = y.reshape(1, -1)\n",
    "b = np.zeros(1)\n",
    "\n",
    "P = matrix(P)\n",
    "q = matrix(q)\n",
    "G = matrix(G)\n",
    "h = matrix(h)\n",
    "A = matrix(A)\n",
    "b = matrix(b)\n",
    "\n",
    "sol = solvers.qp(P, q, G, h, A, b)\n",
    "alphas = np.array(sol['x'])"
   ],
   "metadata": {
    "collapsed": false,
    "ExecuteTime": {
     "end_time": "2023-10-04T17:58:53.462664Z",
     "start_time": "2023-10-04T17:58:15.953490Z"
    }
   },
   "id": "422f1746f20e997c"
  },
  {
   "cell_type": "code",
   "execution_count": 6,
   "outputs": [],
   "source": [
    "class_0_val_images = load_images_from_folder(\"../data/svm/val/0\")\n",
    "class_5_val_images = load_images_from_folder(\"../data/svm/val/5\")\n",
    "\n",
    "X_val = np.concatenate((class_0_val_images, class_5_val_images), axis=0)\n",
    "y_val = np.concatenate((-1 * np.ones(class_0_val_images.shape[0]), np.ones(class_5_val_images.shape[0])), axis=0)"
   ],
   "metadata": {
    "collapsed": false,
    "ExecuteTime": {
     "end_time": "2023-10-04T17:58:53.701265Z",
     "start_time": "2023-10-04T17:58:53.464514Z"
    }
   },
   "id": "6c3aa54829de243"
  },
  {
   "cell_type": "code",
   "execution_count": 7,
   "outputs": [],
   "source": [
    "sv_indices = ((alphas > 1e-5) & (alphas < 1 - 1e-5)).flatten()\n",
    "support_vectors = X[sv_indices]\n",
    "support_vector_labels = y[sv_indices]\n",
    "alphas_sv = alphas[sv_indices]\n",
    "\n",
    "# Calculate kernel matrix for support vectors\n",
    "K_sv = np.exp(-0.001 * cdist(support_vectors, support_vectors, 'sqeuclidean'))\n",
    "\n",
    "# Calculate b for each support vector\n",
    "b_values = support_vector_labels - np.sum(alphas_sv * support_vector_labels * K_sv, axis=1)\n",
    "\n",
    "# Average over all b values\n",
    "b = np.mean(b_values)"
   ],
   "metadata": {
    "collapsed": false,
    "ExecuteTime": {
     "end_time": "2023-10-04T17:58:53.710880Z",
     "start_time": "2023-10-04T17:58:53.701691Z"
    }
   },
   "id": "7d7c06ed9ba77b2"
  },
  {
   "cell_type": "code",
   "execution_count": 8,
   "outputs": [],
   "source": [
    "b = -7.728114"
   ],
   "metadata": {
    "collapsed": false,
    "ExecuteTime": {
     "end_time": "2023-10-04T17:58:53.718931Z",
     "start_time": "2023-10-04T17:58:53.711720Z"
    }
   },
   "id": "644b70f648898d71"
  },
  {
   "cell_type": "code",
   "execution_count": 9,
   "outputs": [
    {
     "data": {
      "text/plain": "0.5"
     },
     "execution_count": 9,
     "metadata": {},
     "output_type": "execute_result"
    }
   ],
   "source": [
    "sv_indices = ((alphas > 1e-5)).flatten()\n",
    "support_vectors = X[sv_indices]\n",
    "support_vector_labels = y[sv_indices]\n",
    "alphas_sv = alphas[sv_indices]\n",
    "\n",
    "def predict_gaussian(X):\n",
    "    # Calculate Gaussian Kernel values between each point in X and the support vectors\n",
    "    K = np.exp(-0.001 * cdist(X, support_vectors, 'sqeuclidean'))\n",
    "    \n",
    "    # Calculate predictions using the kernel values, alphas, support vector labels, and b\n",
    "    predictions = np.dot(K, alphas_sv.flatten() * support_vector_labels.flatten()) + b\n",
    "    \n",
    "    return np.sign(predictions).flatten()\n",
    "\n",
    "y_val_pred = predict_gaussian(X_val)\n",
    "np.mean(y_val_pred == y_val)"
   ],
   "metadata": {
    "collapsed": false,
    "ExecuteTime": {
     "end_time": "2023-10-04T17:58:54.309288Z",
     "start_time": "2023-10-04T17:58:53.718772Z"
    }
   },
   "id": "dac56385d8b50760"
  }
 ],
 "metadata": {
  "kernelspec": {
   "display_name": "Python 3",
   "language": "python",
   "name": "python3"
  },
  "language_info": {
   "codemirror_mode": {
    "name": "ipython",
    "version": 2
   },
   "file_extension": ".py",
   "mimetype": "text/x-python",
   "name": "python",
   "nbconvert_exporter": "python",
   "pygments_lexer": "ipython2",
   "version": "2.7.6"
  }
 },
 "nbformat": 4,
 "nbformat_minor": 5
}
