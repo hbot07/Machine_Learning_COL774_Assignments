{
 "cells": [
  {
   "cell_type": "code",
   "execution_count": 52,
   "id": "initial_id",
   "metadata": {
    "collapsed": true,
    "ExecuteTime": {
     "end_time": "2023-10-03T18:46:25.853551Z",
     "start_time": "2023-10-03T18:46:22.615923Z"
    }
   },
   "outputs": [
    {
     "data": {
      "text/plain": "((2380, 768), (2380, 768))"
     },
     "execution_count": 52,
     "metadata": {},
     "output_type": "execute_result"
    }
   ],
   "source": [
    "import os\n",
    "import cv2\n",
    "import numpy as np\n",
    "\n",
    "def load_images_from_folder(folder_path):\n",
    "    images = []\n",
    "    for filename in os.listdir(folder_path):\n",
    "        img = cv2.imread(os.path.join(folder_path, filename))\n",
    "        if img is not None:\n",
    "            # Resize and normalize\n",
    "            img_resized = cv2.resize(img, (16, 16)) / 255.0\n",
    "            # Flatten\n",
    "            img_flattened = img_resized.flatten()\n",
    "            images.append(img_flattened)\n",
    "    return np.array(images)\n",
    "\n",
    "# Load images for class 0 and 5\n",
    "class_0_images = load_images_from_folder(\"../data/svm/train/0\")\n",
    "class_5_images = load_images_from_folder(\"../data/svm/train/5\")\n",
    "\n",
    "class_0_images.shape, class_5_images.shape\n"
   ]
  },
  {
   "cell_type": "markdown",
   "source": [
    "# CVXOPT Linear Kernel SVM"
   ],
   "metadata": {
    "collapsed": false
   },
   "id": "eb0ab70b6f06c424"
  },
  {
   "cell_type": "code",
   "execution_count": 53,
   "outputs": [
    {
     "data": {
      "text/plain": "(<4760x4760 matrix, tc='d'>,\n <4760x1 matrix, tc='d'>,\n <1x4760 matrix, tc='d'>,\n <1x1 matrix, tc='d'>,\n <9520x4760 matrix, tc='d'>,\n <9520x1 matrix, tc='d'>)"
     },
     "execution_count": 53,
     "metadata": {},
     "output_type": "execute_result"
    }
   ],
   "source": [
    "from cvxopt import matrix\n",
    "\n",
    "# Define labels for the two classes: class 0 as -1 and class 5 as +1\n",
    "y_0 = -1 * np.ones(class_0_images.shape[0])\n",
    "y_5 = np.ones(class_5_images.shape[0])\n",
    "\n",
    "# Combine data and labels\n",
    "X = np.vstack((class_0_images, class_5_images))\n",
    "y = np.hstack((y_0, y_5))\n",
    "\n",
    "P = np.outer(y, y) * np.dot(X, X.T)\n",
    "\n",
    "q = -1 * np.ones(X.shape[0])\n",
    "A = y\n",
    "b = 0.0\n",
    "G = np.vstack((-np.eye(X.shape[0]), np.eye(X.shape[0])))\n",
    "h = np.hstack((np.zeros(X.shape[0]), np.ones(X.shape[0]) * 1.0))  # C = 1.0\n",
    "\n",
    "P = matrix(P)\n",
    "q = matrix(q)\n",
    "A = matrix(A, (1, X.shape[0]))\n",
    "b = matrix(b)\n",
    "G = matrix(G)\n",
    "h = matrix(h)\n",
    "\n",
    "P, q, A, b, G, h"
   ],
   "metadata": {
    "collapsed": false,
    "ExecuteTime": {
     "end_time": "2023-10-03T18:46:28.087776Z",
     "start_time": "2023-10-03T18:46:25.854942Z"
    }
   },
   "id": "5e75f538e9e269f9"
  },
  {
   "cell_type": "code",
   "execution_count": 54,
   "outputs": [
    {
     "name": "stdout",
     "output_type": "stream",
     "text": [
      "     pcost       dcost       gap    pres   dres\n",
      " 0: -2.5963e+03 -1.3703e+04  7e+04  3e+00  1e-10\n",
      " 1: -1.7917e+03 -1.0056e+04  2e+04  5e-01  8e-11\n",
      " 2: -1.5840e+03 -5.2708e+03  5e+03  8e-02  6e-11\n",
      " 3: -1.7450e+03 -2.7358e+03  1e+03  2e-02  6e-11\n",
      " 4: -1.8993e+03 -2.3548e+03  5e+02  6e-03  6e-11\n",
      " 5: -1.9660e+03 -2.2023e+03  2e+02  3e-03  6e-11\n",
      " 6: -2.0104e+03 -2.1059e+03  1e+02  8e-04  7e-11\n",
      " 7: -2.0286e+03 -2.0666e+03  4e+01  8e-05  7e-11\n",
      " 8: -2.0403e+03 -2.0484e+03  8e+00  5e-06  8e-11\n",
      " 9: -2.0429e+03 -2.0448e+03  2e+00  9e-07  7e-11\n",
      "10: -2.0436e+03 -2.0439e+03  3e-01  1e-07  7e-11\n",
      "11: -2.0437e+03 -2.0438e+03  2e-02  7e-09  8e-11\n",
      "12: -2.0437e+03 -2.0437e+03  7e-04  2e-10  8e-11\n",
      "Optimal solution found.\n",
      "Weight vector (w): [-0.917249   -0.44200238  0.84523203 -0.84925474 -0.47666238  1.01249138\n",
      "  0.20687805 -0.79081624  0.58541163  0.01083122  0.29591497 -0.20428939\n",
      " -0.23601894 -0.13552678  0.00948478  0.2784127   0.25000897 -0.59609479\n",
      "  0.51654891 -0.00238444 -0.72837606  0.38641764  1.16391137 -0.7230097\n",
      "  0.59917949 -0.19686843  0.22879539  0.00548266 -0.00485189 -0.20635175\n",
      " -0.24939613  0.27754466 -0.10042862 -0.51068156  0.05413774  0.23309896\n",
      " -0.32542179 -0.50001089  1.03614665 -0.51392529  0.01316362  0.56835031\n",
      " -0.04939489  0.03226088 -0.08872812 -0.38552074 -0.50806367  0.67213466\n",
      " -0.02636468 -0.13882351  0.15677769 -0.33964974 -0.03108468  0.44170137\n",
      " -0.13756015 -0.05824047  0.21480715  0.67770761 -0.19013527 -1.07471117\n",
      "  0.00286474  0.05826787 -0.07360596 -0.05182642  0.30970803 -0.24139411\n",
      " -1.45793583  0.62065892  0.69815229  0.135206   -0.02020839 -0.20654098\n",
      "  0.1084027  -0.43200058  0.04193463 -0.73189424  0.49437739 -0.00917455\n",
      "  0.66627935 -0.07171418 -0.34792747 -0.88888776  0.60467451  0.3487918\n",
      "  0.17919042  0.12762302 -0.76635994  0.26104238 -0.02266487  0.0816993\n",
      " -0.28260878 -0.42724612  0.10732688 -0.55346603  0.18686543 -0.12072781\n",
      " -0.38232799 -0.32107573  0.60793121 -0.74673662  0.38671716  0.28959739\n",
      "  0.38471086 -0.00214024 -0.57325651 -0.41841874  0.39808975  0.54434486\n",
      " -0.33899052 -0.04693567  0.36371817 -0.35585039  0.120298    0.37426496\n",
      "  0.67597858 -0.02265261 -0.50928001  0.44147094 -0.49604559  0.08291195\n",
      " -0.21502201  0.29159973 -0.33251214  0.23599191  0.71453822 -0.6197377\n",
      " -0.61293363  0.2286565   0.35499815 -0.60834734  0.63775731  0.0075882\n",
      " -0.7403042   0.89607371 -0.16088353 -0.00734912 -0.53010066  0.85373868\n",
      "  0.29812172  0.08116052 -0.49634222 -0.20981875 -0.21633326  0.42782286\n",
      " -0.17373444  0.02932434  0.16721274  0.66027637  0.09132427 -0.48788108\n",
      "  0.45543321 -0.25538414 -0.14187451 -0.96766904  0.65864426  0.43083972\n",
      "  0.16883955 -0.41650659  0.39732827  0.3805682  -0.08938117 -0.06660592\n",
      "  0.74741644  0.14990373 -1.23927622  0.33299154 -0.38646534  0.61046918\n",
      "  0.39740123 -0.34765703  0.07905365 -0.73043677  0.19311332  0.36468923\n",
      "  0.78739032 -0.15530481 -0.45269098  0.45565836 -0.20499404  0.17167126\n",
      "  0.05101351 -0.8256173   0.37201019  0.05974176 -0.35082339  0.29203845\n",
      "  0.2615174  -0.65169017  0.28643864 -0.32670768  0.26297121 -0.42640314\n",
      "  0.00421039  0.11338259 -0.2832408  -0.62204426  0.6835723  -0.34570171\n",
      "  0.11801883 -0.20449831  0.21386769  0.04799717  0.14096043 -0.55657633\n",
      "  0.29708867  0.20310772 -0.12553505  0.42717261 -0.58204127  0.01596135\n",
      " -0.10402273  0.35201555  0.08135001  0.13186293  0.09564582 -0.32504334\n",
      " -0.03002008 -0.00749624  0.27060305  0.31946353 -0.44650335  0.18487395\n",
      "  0.52925958 -0.38541757 -0.13373884  0.20397764  0.19366069 -0.55694997\n",
      "  0.68118148  0.50690299 -0.84008559 -0.35164731  0.2691313  -0.13935588\n",
      " -0.54736362  0.50596029  0.3914472   0.19587088 -0.33633589  0.12487687\n",
      " -1.13373865  0.86255447  0.38976574 -0.32498144  0.3855169  -0.45445993\n",
      " -0.29909945  0.04233348 -0.00713066  0.12686821  0.40487084 -0.20977561\n",
      "  0.29319964 -0.55618115 -0.04339731  0.3244928   0.19213227 -0.43072194\n",
      " -0.38308419  0.63423639 -0.39541163  0.60148877  0.23648124 -0.86379911\n",
      " -0.27788384  0.1940389   0.11707652  0.71806132 -0.38176187 -0.06382079\n",
      " -0.08085752  0.46023659 -0.24446518 -0.77324495  0.59537257  0.08147696\n",
      " -0.51773919  0.41200155  0.33376403  0.21156059  0.38616478 -0.55051804\n",
      "  0.16675936  0.37528126 -0.50875489 -0.84901115 -0.04087381  0.87878748\n",
      " -0.2764832  -0.21711022  0.01518847 -0.36772741  0.06632579  0.25693014\n",
      "  0.12176682  0.42710179 -0.38518308 -0.54740247  0.76285954 -0.23726282\n",
      "  0.55400119 -0.18605482 -0.37493214  0.08076284 -0.27257709  0.55474349\n",
      " -0.6123348   0.62676264 -0.03322145 -0.35467155  0.99408578 -0.92351715\n",
      "  0.27537665  0.88299856 -0.64347111 -0.44258642 -0.04967206  0.27683476\n",
      " -0.53807951  0.19955614 -0.0241288  -0.13437612  0.64028762 -0.53726187\n",
      " -0.36450535  0.24429914  0.05465217  0.34789118  0.18226552 -0.65677978\n",
      " -1.00009241  0.02225491  0.49143393 -0.55605421  0.47123179 -0.2359957\n",
      " -0.29725484 -0.18500909  0.31182661 -0.5180125   0.33270698  0.28785241\n",
      " -0.78936391  0.43687245  0.24768534 -0.54268834  0.18092056  0.07010613\n",
      " -0.38036376  0.61368156 -0.34301135 -1.30181382  0.80616869  0.27286805\n",
      "  0.34038031  0.2142657  -0.28204547 -0.39424515  0.22153995 -0.21575511\n",
      " -1.01209489  0.8004266   0.31749498  0.01880424  0.39221962 -0.28833956\n",
      " -0.14903575  0.20359146  0.12477833  0.29168065 -0.03671865 -0.09533795\n",
      " -0.18212928 -0.04402301  0.27836578 -0.83663833  0.03349291  0.46992813\n",
      " -0.25595361  0.47461692  0.14057    -0.422634   -0.28653613  0.79744879\n",
      "  0.2169074  -0.23028853  0.10721863 -0.54218717  0.19392084  0.06175439\n",
      " -0.08918205  0.57857243 -0.49480303 -0.55328017  0.32300151 -0.1165071\n",
      " -0.70075932 -0.02222015  0.38785945 -0.48678775  0.86909556 -0.36868729\n",
      " -0.96615814  0.14009841  0.53635813  0.59530759 -0.01985472 -0.44293214\n",
      " -0.34076581  0.29828168 -0.04747529  0.78823033 -0.51603132 -0.54261964\n",
      " -0.67146538  0.23898486  0.25542704  0.08495165 -0.13730989 -0.17411847\n",
      " -0.44134227  0.02487286  0.58407296 -0.26858907 -0.04885583  0.25551141\n",
      "  0.32787863  0.07060501 -0.53950454  0.04279404  0.53798378 -0.81570641\n",
      "  0.28452952  0.08629045 -0.34186469 -0.0839578  -0.41779941  0.57352549\n",
      " -0.33625979  0.18770201 -0.05348915 -0.09370284 -0.11224301 -0.07533094\n",
      "  0.08187681  0.46676642 -0.18668332 -0.08475586 -0.32368866 -0.17922421\n",
      " -0.27005952  0.1916372   0.09333817  0.20698913 -0.98856883  0.61044528\n",
      "  0.40027936  0.16551545 -0.48515181 -0.08846712 -0.64062739  0.76624083\n",
      "  0.783213   -1.16886647  0.41387103  0.38734071  0.08699978 -0.31450951\n",
      "  0.69342598 -0.61244515 -0.41357716  0.10934619 -0.35289666  0.00489817\n",
      "  0.07904379 -0.73446397  0.8779447   0.83492678 -0.667268   -0.08540514\n",
      "  0.31055225 -0.9153022   0.30457199  0.36632771  0.0933869  -0.52795816\n",
      " -0.9883633   0.10083717  1.05953911  0.184356   -0.84627654  0.67056533\n",
      "  0.53198096 -0.15170805 -0.40283174 -0.13121332 -0.09052344  0.49801713\n",
      " -0.32483371  0.18341973 -0.19295382 -0.61852492 -0.00223483  0.75062667\n",
      "  0.1539551   0.30407324 -0.14699971  0.78871983 -0.00813104 -0.75074012\n",
      " -0.00352622 -0.45345144  0.38637438 -1.00044727  0.53571538  0.28801187\n",
      "  0.72427321 -0.0757025  -0.24448886 -0.66090982 -0.12823886  0.74974805\n",
      "  0.38956926  0.22190441 -0.56646244  0.55072784 -0.97640668  0.47128907\n",
      "  0.41282453 -0.43169364  0.10658594 -0.06287367  0.03910461  0.01475207\n",
      "  0.60766713 -0.23541218 -0.4760844   1.37732627 -1.21507602 -0.06701721\n",
      "  0.74730188 -0.75242243  0.20311136  0.36419779 -0.28400923  0.00500503\n",
      " -0.3344386   0.32216397 -0.32381718  0.66100683 -0.68973022 -0.0423496\n",
      " -0.30982842 -0.28734021  0.4358388  -0.18338108 -0.75815433  0.80643476\n",
      "  0.8841182  -0.66748967 -0.24837007 -0.57007415  0.27829262  0.10424697\n",
      " -0.96603555  0.10512901  0.66703539 -0.06054758  0.0777071   0.06794508\n",
      "  0.11690783  0.16746504 -0.2201817   0.83595972 -0.87580405 -0.34719976\n",
      " -0.13803666 -0.00286225  0.35187768 -0.33274505  0.09105253  0.16109128\n",
      "  0.6368233   0.04431094 -0.50983301 -0.20415677 -0.41451302  0.70214564\n",
      "  0.79049976 -0.3505715  -0.42975974  0.31956957 -0.06596238 -0.05865693\n",
      "  0.06380042  0.76588535 -0.34183852 -0.56255744  0.36717807  0.09208044\n",
      "  0.02135334 -0.46066093  0.52591898  0.97214961 -0.31686405 -0.5236045\n",
      "  0.11032244 -0.02962693  0.10533626  0.02416623 -0.87002147  0.65089079\n",
      "  0.65596634  0.18098902 -1.01521653 -0.35183031  0.13983416  0.49800078\n",
      "  0.33477228 -0.16358509 -0.16089661  1.06038815 -0.98013273  0.24413038\n",
      " -0.22312276  0.11117228 -0.13879504 -0.02396413  0.61636952 -0.70880295\n",
      "  0.31449412 -0.41196     0.07254939  0.26609953 -0.73732279  0.45931597\n",
      "  0.26145    -0.41590555 -0.37993951 -0.65583814  0.35794946  0.70373829\n",
      "  0.31713237  0.34888489 -0.66352967  0.42372939 -0.34397813 -0.03053055\n",
      " -0.69718459  0.3090801   0.44752297  0.20242898 -0.3744079   0.43951023\n",
      "  0.27898375 -0.48860864  0.11920075  0.52549409 -0.06685058 -0.41370656\n",
      "  0.3172653   0.21724671 -0.38177475 -0.11887252  0.70948653 -0.17761399\n",
      " -0.70881435 -0.08126208  0.79595434  0.1052623  -0.10224609 -0.310696\n",
      " -0.08257139 -0.21682709 -0.02872537  0.47910845 -0.1927199   0.21862294\n",
      "  0.56058811 -0.89105607  0.50510316  0.30729999 -0.69211811  0.04573534\n",
      "  0.31007121 -0.13253903  0.53745491  0.3711542  -0.49984331  0.26881285\n",
      "  0.42903389 -0.04852729 -0.41636048  0.32578987  0.23230407 -0.2635438\n",
      " -0.31198776 -0.66081082  1.07009289 -0.74466664 -0.70701118  1.28529607\n",
      "  1.05186311 -0.66465539 -0.24187946  1.46077439 -0.63251599 -0.26828315\n",
      " -0.43005805 -0.29297877  0.29811593 -0.87018741  0.64655286 -0.27208998\n",
      "  0.50555142  0.20768538 -0.49213852  0.29284726  0.39890313 -0.2419755\n",
      "  0.56123049 -0.45939689 -0.23206963 -0.16236306 -0.75066525  0.61187827\n",
      "  0.59859014 -0.71086885  0.31713448  0.17075274 -0.3381373   0.45913039\n",
      " -0.65272806  0.32990656  0.16627367  1.05135837 -0.02626617 -0.83872988\n",
      " -0.07097991 -0.02492818  0.0381406   0.3012944  -0.24884419  0.09382051\n",
      "  0.8031168   0.05409194 -0.93025547  0.95098276 -0.3515681  -0.10513116\n",
      " -0.10407746 -0.0345462   0.43661201  0.8307823  -0.75287072 -0.57702832\n",
      "  0.33359251 -0.17077488  0.26049826  0.11998493 -0.48292113  0.41226256\n",
      " -0.17432097 -0.26905572  0.34371739  0.00573097 -0.35798527  0.32152674]\n",
      "Intercept (b): 1.041890005986661\n"
     ]
    }
   ],
   "source": [
    "from cvxopt import solvers\n",
    "\n",
    "# Solve the QP problem\n",
    "solvers.options['show_progress'] = True\n",
    "solution = solvers.qp(P, q, G, h, A, b)\n",
    "\n",
    "# Extract alphas\n",
    "alphas = np.array(solution['x'])\n",
    "\n",
    "# Calculate w using the alphas\n",
    "w = np.sum(alphas * y[:, None] * X, axis=0)\n",
    "\n",
    "# Calculate b\n",
    "SV = (alphas > 1e-5).flatten()\n",
    "b = y[SV] - np.dot(X[SV], w)\n",
    "b = np.mean(b)\n",
    "\n",
    "# For predictions: np.sign(np.dot(X, w) + b)\n",
    "\n",
    "print(\"Weight vector (w):\", w)\n",
    "print(\"Intercept (b):\", b)"
   ],
   "metadata": {
    "collapsed": false,
    "ExecuteTime": {
     "end_time": "2023-10-03T18:47:10.380461Z",
     "start_time": "2023-10-03T18:46:30.786792Z"
    }
   },
   "id": "a308894ec5da7f23"
  },
  {
   "cell_type": "code",
   "execution_count": 55,
   "outputs": [
    {
     "data": {
      "text/plain": "(2383, 50.063025210084035)"
     },
     "execution_count": 55,
     "metadata": {},
     "output_type": "execute_result"
    }
   ],
   "source": [
    "# Extract boolean array indicating which samples are support vectors\n",
    "support_vector_indices = alphas > 1e-5\n",
    "\n",
    "# Count the number of support vectors\n",
    "num_support_vectors = np.sum(support_vector_indices)\n",
    "\n",
    "# Calculate the percentage of training samples that are support vectors\n",
    "percentage_support_vectors = (num_support_vectors / X.shape[0]) * 100\n",
    "\n",
    "num_support_vectors, percentage_support_vectors"
   ],
   "metadata": {
    "collapsed": false,
    "ExecuteTime": {
     "end_time": "2023-10-03T18:47:10.381876Z",
     "start_time": "2023-10-03T18:47:10.055990Z"
    }
   },
   "id": "fbed0936e753965b"
  },
  {
   "cell_type": "code",
   "execution_count": 56,
   "outputs": [
    {
     "data": {
      "text/plain": "array([ 1., -1., -1., ..., -1.,  1.,  1.])"
     },
     "execution_count": 56,
     "metadata": {},
     "output_type": "execute_result"
    }
   ],
   "source": [
    "np.sign(np.dot(X, w) + b)"
   ],
   "metadata": {
    "collapsed": false,
    "ExecuteTime": {
     "end_time": "2023-10-03T18:47:10.382419Z",
     "start_time": "2023-10-03T18:47:10.065771Z"
    }
   },
   "id": "a4fa7c5fb58d1f90"
  },
  {
   "cell_type": "code",
   "execution_count": 57,
   "outputs": [
    {
     "name": "stdout",
     "output_type": "stream",
     "text": [
      "Accuracy: 0.775\n"
     ]
    }
   ],
   "source": [
    "# Validation\n",
    "\n",
    "# load images for class 0 and 5\n",
    "class_0_images_val = load_images_from_folder(\"../data/svm/val/0\")\n",
    "class_5_images_val = load_images_from_folder(\"../data/svm/val/5\")\n",
    "\n",
    "# Define labels for the two classes: class 0 as -1 and class 5 as +1\n",
    "y_0_val = -1 * np.ones(class_0_images_val.shape[0])\n",
    "y_5_val = np.ones(class_5_images_val.shape[0])\n",
    "\n",
    "# Combine data and labels\n",
    "X_val = np.vstack((class_0_images_val, class_5_images_val))\n",
    "y_val = np.hstack((y_0_val, y_5_val))\n",
    "\n",
    "# Predict\n",
    "y_pred = np.sign(np.dot(X_val, w) + b)\n",
    "\n",
    "# Calculate accuracy\n",
    "accuracy = np.sum(y_pred == y_val) / y_val.shape[0]\n",
    "\n",
    "print(\"Accuracy:\", accuracy)"
   ],
   "metadata": {
    "collapsed": false,
    "ExecuteTime": {
     "end_time": "2023-10-03T18:47:10.382953Z",
     "start_time": "2023-10-03T18:47:10.078492Z"
    }
   },
   "id": "ad03db048c8b6e15"
  },
  {
   "cell_type": "code",
   "execution_count": 63,
   "outputs": [
    {
     "data": {
      "text/plain": "<Figure size 1500x500 with 6 Axes>",
      "image/png": "[encoded data removed]"
     },
     "metadata": {},
     "output_type": "display_data"
    },
    {
     "name": "stderr",
     "output_type": "stream",
     "text": [
      "Clipping input data to the valid range for imshow with RGB data ([0..1] for floats or [0..255] for integers).\n"
     ]
    },
    {
     "data": {
      "text/plain": "<Figure size 640x480 with 1 Axes>",
      "image/png": "[encoded data removed]"
     },
     "metadata": {},
     "output_type": "display_data"
    }
   ],
   "source": [
    "import matplotlib.pyplot as plt\n",
    "\n",
    "# Get support vectors and their coefficients from the dual solution\n",
    "support_vectors_dual = X[SV]\n",
    "dual_coefs = alphas[SV]\n",
    "\n",
    "# Get indices of top 6 coefficients\n",
    "top_indices_dual = np.argsort(dual_coefs)[-6:]\n",
    "\n",
    "# Reshape and plot the support vectors corresponding to top 6 coefficients\n",
    "fig, axes = plt.subplots(1, 6, figsize=(15, 5))\n",
    "for i, ax in enumerate(axes):\n",
    "    ax.imshow(support_vectors_dual[top_indices_dual[i]].reshape(16, 16, 3))\n",
    "    ax.axis('off')\n",
    "\n",
    "plt.suptitle(\"Top 6 Support Vectors (Dual SVM)\")\n",
    "plt.savefig(\"top_6_support_vectors_dual cvxopt linear.png\")\n",
    "plt.show()\n",
    "\n",
    "# Reshape and plot the weight vector w\n",
    "plt.imshow(w.reshape(16, 16, 3))\n",
    "plt.title(\"Weight Vector (w) from Dual SVM\")\n",
    "plt.axis('off')\n",
    "plt.savefig(\"weight_vector_dual cvxopt linear.png\")\n",
    "plt.show()\n"
   ],
   "metadata": {
    "collapsed": false,
    "ExecuteTime": {
     "end_time": "2023-10-03T18:58:39.322429Z",
     "start_time": "2023-10-03T18:58:38.866314Z"
    }
   },
   "id": "f2399d7d40fd95c5"
  },
  {
   "cell_type": "markdown",
   "source": [
    "# LIBSVM Linear Kernel SVM"
   ],
   "metadata": {
    "collapsed": false
   },
   "id": "a315ced01360e3e3"
  },
  {
   "cell_type": "code",
   "execution_count": 59,
   "outputs": [],
   "source": [
    "X_train = np.vstack((class_0_images, class_5_images))   \n",
    "y_train = np.hstack((y_0, y_5))"
   ],
   "metadata": {
    "collapsed": false,
    "ExecuteTime": {
     "end_time": "2023-10-03T18:47:10.985086Z",
     "start_time": "2023-10-03T18:47:10.937770Z"
    }
   },
   "id": "828469961cbf36e2"
  },
  {
   "cell_type": "code",
   "execution_count": 60,
   "outputs": [
    {
     "data": {
      "text/plain": "(2371,\n array([[-9.18000905e-01, -4.41319679e-01,  8.44851191e-01,\n         -8.49707564e-01, -4.74939273e-01,  1.01142588e+00,\n          2.07492980e-01, -7.91829244e-01,  5.85269425e-01,\n          1.12411849e-02,  2.95373677e-01, -2.03671241e-01,\n         -2.35664365e-01, -1.35174483e-01,  8.76338762e-03,\n          2.78602475e-01,  2.49656797e-01, -5.96097393e-01,\n          5.16548060e-01, -3.26908393e-03, -7.27926148e-01,\n          3.85478571e-01,  1.16358758e+00, -7.21448952e-01,\n          5.99205691e-01, -1.96466116e-01,  2.28308707e-01,\n          4.71357294e-03, -4.18797216e-03, -2.05962958e-01,\n         -2.48006857e-01,  2.76283060e-01, -1.00137377e-01,\n         -5.10621744e-01,  5.44430757e-02,  2.32437935e-01,\n         -3.25681839e-01, -4.99630145e-01,  1.03574753e+00,\n         -5.13054197e-01,  1.32424780e-02,  5.67935593e-01,\n         -4.86057132e-02,  3.22103326e-02, -8.91882026e-02,\n         -3.86988073e-01, -5.06840528e-01,  6.71957998e-01,\n         -2.65590246e-02, -1.38615775e-01,  1.56647473e-01,\n         -3.39689051e-01, -3.01057668e-02,  4.40794871e-01,\n         -1.38935396e-01, -5.78161150e-02,  2.15777451e-01,\n          6.78469250e-01, -1.90081525e-01, -1.07557689e+00,\n          1.34891629e-03,  5.83288793e-02, -7.32742684e-02,\n         -5.08444587e-02,  3.09848322e-01, -2.42283297e-01,\n         -1.45823787e+00,  6.20971302e-01,  6.98368497e-01,\n          1.35475587e-01, -2.00886180e-02, -2.07279278e-01,\n          1.08395801e-01, -4.31492740e-01,  4.11183423e-02,\n         -7.33281966e-01,  4.94906503e-01, -8.61394776e-03,\n          6.66716371e-01, -7.27278067e-02, -3.47358358e-01,\n         -8.87526733e-01,  6.03800064e-01,  3.48831430e-01,\n          1.77866260e-01,  1.28206942e-01, -7.65736677e-01,\n          2.61893120e-01, -2.29854180e-02,  8.15869542e-02,\n         -2.84387164e-01, -4.25588414e-01,  1.07145931e-01,\n         -5.52950133e-01,  1.87794087e-01, -1.21759972e-01,\n         -3.82047930e-01, -3.20937641e-01,  6.07282236e-01,\n         -7.46054686e-01,  3.86670778e-01,  2.88445853e-01,\n          3.85644659e-01, -3.01421512e-03, -5.72644638e-01,\n         -4.19379036e-01,  3.98218465e-01,  5.45431965e-01,\n         -3.38968222e-01, -4.71539456e-02,  3.64084549e-01,\n         -3.56733568e-01,  1.20153182e-01,  3.75399199e-01,\n          6.77018624e-01, -2.37375681e-02, -5.09102526e-01,\n          4.41876895e-01, -4.95459807e-01,  8.24316510e-02,\n         -2.15842361e-01,  2.92772758e-01, -3.33070122e-01,\n          2.37887223e-01,  7.13097188e-01, -6.19891228e-01,\n         -6.12307642e-01,  2.27431819e-01,  3.55386233e-01,\n         -6.08629133e-01,  6.38008131e-01,  7.37931603e-03,\n         -7.40229293e-01,  8.95618493e-01, -1.60893764e-01,\n         -7.41547709e-03, -5.30002197e-01,  8.53861110e-01,\n          2.97757265e-01,  8.22571027e-02, -4.97144593e-01,\n         -2.10576633e-01, -2.15699651e-01,  4.27780620e-01,\n         -1.74161021e-01,  2.95388690e-02,  1.67599198e-01,\n          6.60656994e-01,  9.10618033e-02, -4.88419204e-01,\n          4.54506541e-01, -2.54733525e-01, -1.41735809e-01,\n         -9.67994015e-01,  6.58155722e-01,  4.32126480e-01,\n          1.69390368e-01, -4.16142919e-01,  3.96798397e-01,\n          3.80848260e-01, -8.97584062e-02, -6.65850187e-02,\n          7.46500463e-01,  1.50717138e-01, -1.23888737e+00,\n          3.33790990e-01, -3.86216512e-01,  6.09351339e-01,\n          3.96821980e-01, -3.47158443e-01,  7.95354766e-02,\n         -7.30497923e-01,  1.92844921e-01,  3.64839778e-01,\n          7.87942411e-01, -1.56270118e-01, -4.52353285e-01,\n          4.55851566e-01, -2.05497092e-01,  1.72016978e-01,\n          5.09529372e-02, -8.26039170e-01,  3.72503938e-01,\n          5.94778253e-02, -3.50564409e-01,  2.92466532e-01,\n          2.60948435e-01, -6.50483864e-01,  2.85338544e-01,\n         -3.26737744e-01,  2.62541357e-01, -4.26196534e-01,\n          4.27941191e-03,  1.13461340e-01, -2.82957803e-01,\n         -6.22233237e-01,  6.84100392e-01, -3.46153168e-01,\n          1.18947202e-01, -2.05694818e-01,  2.14340033e-01,\n          4.89387924e-02,  1.40888196e-01, -5.57610840e-01,\n          2.96209119e-01,  2.02754580e-01, -1.24386371e-01,\n          4.27096380e-01, -5.82943903e-01,  1.68842039e-02,\n         -1.03585791e-01,  3.51767999e-01,  8.12256283e-02,\n          1.32154651e-01,  9.49513226e-02, -3.24370562e-01,\n         -2.89932333e-02, -8.62985432e-03,  2.70750117e-01,\n          3.19648791e-01, -4.47505030e-01,  1.85225298e-01,\n          5.28983776e-01, -3.85162113e-01, -1.32928314e-01,\n          2.04524370e-01,  1.93650836e-01, -5.57930351e-01,\n          6.81131636e-01,  5.07109593e-01, -8.39993019e-01,\n         -3.51427197e-01,  2.68892727e-01, -1.39566086e-01,\n         -5.46855712e-01,  5.06117787e-01,  3.90627807e-01,\n          1.95688025e-01, -3.36372044e-01,  1.25218202e-01,\n         -1.13241914e+00,  8.61960668e-01,  3.89159332e-01,\n         -3.25932447e-01,  3.86378765e-01, -4.54645002e-01,\n         -2.99884552e-01,  4.22686535e-02, -6.37763866e-03,\n          1.27718199e-01,  4.03857241e-01, -2.09532647e-01,\n          2.94766651e-01, -5.56877904e-01, -4.44579206e-02,\n          3.23932795e-01,  1.92648537e-01, -4.30448761e-01,\n         -3.84459736e-01,  6.35037818e-01, -3.95191378e-01,\n          6.00796095e-01,  2.37273601e-01, -8.64426962e-01,\n         -2.77914542e-01,  1.94063514e-01,  1.17086033e-01,\n          7.17254492e-01, -3.81905133e-01, -6.31022261e-02,\n         -8.08821200e-02,  4.60815704e-01, -2.44742271e-01,\n         -7.73461742e-01,  5.95605175e-01,  8.16838766e-02,\n         -5.18587686e-01,  4.12257446e-01,  3.34645827e-01,\n          2.11467557e-01,  3.86850824e-01, -5.51536696e-01,\n          1.66076984e-01,  3.76130868e-01, -5.08802491e-01,\n         -8.50293601e-01, -3.95210036e-02,  8.78717360e-01,\n         -2.77365041e-01, -2.17824925e-01,  1.62540033e-02,\n         -3.66605044e-01,  6.60366589e-02,  2.57102002e-01,\n          1.21015878e-01,  4.27477796e-01, -3.84874625e-01,\n         -5.47660647e-01,  7.63520057e-01, -2.37741728e-01,\n          5.53553214e-01, -1.85413097e-01, -3.75091679e-01,\n          8.18239365e-02, -2.73548311e-01,  5.54452055e-01,\n         -6.11731768e-01,  6.26501276e-01, -3.36455756e-02,\n         -3.53645184e-01,  9.94118378e-01, -9.24590712e-01,\n          2.75345375e-01,  8.81835875e-01, -6.41789231e-01,\n         -4.41565667e-01, -4.97433479e-02,  2.76076828e-01,\n         -5.38283453e-01,  1.99609709e-01, -2.45272695e-02,\n         -1.33806398e-01,  6.39778562e-01, -5.37799000e-01,\n         -3.64729990e-01,  2.44115373e-01,  5.49221380e-02,\n          3.48614791e-01,  1.80915242e-01, -6.56332590e-01,\n         -9.99922699e-01,  2.21786073e-02,  4.91649223e-01,\n         -5.54588090e-01,  4.71094707e-01, -2.37337902e-01,\n         -2.96444174e-01, -1.85170501e-01,  3.11373785e-01,\n         -5.19102119e-01,  3.32571921e-01,  2.88506492e-01,\n         -7.88934380e-01,  4.36606929e-01,  2.47300836e-01,\n         -5.43042764e-01,  1.82394929e-01,  6.92787126e-02,\n         -3.81447831e-01,  6.14527251e-01, -3.42448989e-01,\n         -1.30328952e+00,  8.07426869e-01,  2.73116892e-01,\n          3.39360877e-01,  2.15656607e-01, -2.82424276e-01,\n         -3.93668156e-01,  2.21766437e-01, -2.16574129e-01,\n         -1.01333410e+00,  8.01162357e-01,  3.17709477e-01,\n          1.81756333e-02,  3.92744184e-01, -2.88395737e-01,\n         -1.47984190e-01,  2.03387754e-01,  1.24508865e-01,\n          2.91620355e-01, -3.62001786e-02, -9.56444398e-02,\n         -1.81438168e-01, -4.37759358e-02,  2.77357635e-01,\n         -8.37461816e-01,  3.46624511e-02,  4.69832126e-01,\n         -2.55504686e-01,  4.73584854e-01,  1.41267533e-01,\n         -4.22999466e-01, -2.87046243e-01,  7.98649686e-01,\n          2.16929535e-01, -2.30632072e-01,  1.07666442e-01,\n         -5.43876388e-01,  1.94036633e-01,  6.29774808e-02,\n         -8.95278124e-02,  5.79459661e-01, -4.95313855e-01,\n         -5.53523438e-01,  3.23737591e-01, -1.16971369e-01,\n         -6.99900886e-01, -2.29360872e-02,  3.87786728e-01,\n         -4.86755885e-01,  8.69058077e-01, -3.68732623e-01,\n         -9.65260334e-01,  1.40984382e-01,  5.34451272e-01,\n          5.95494264e-01, -2.10800761e-02, -4.42239833e-01,\n         -3.41308641e-01,  2.99247410e-01, -4.76739912e-02,\n          7.87784576e-01, -5.15608918e-01, -5.42585668e-01,\n         -6.71950741e-01,  2.40763863e-01,  2.53878334e-01,\n          8.47937321e-02, -1.37851259e-01, -1.73630099e-01,\n         -4.40424665e-01,  2.35212145e-02,  5.84947010e-01,\n         -2.69077850e-01, -4.90787492e-02,  2.56249021e-01,\n          3.27857143e-01,  7.10354033e-02, -5.39543450e-01,\n          4.30024769e-02,  5.37678527e-01, -8.15922363e-01,\n          2.84229385e-01,  8.69441044e-02, -3.41941201e-01,\n         -8.28238092e-02, -4.18442802e-01,  5.72921628e-01,\n         -3.36404715e-01,  1.87865032e-01, -5.36650322e-02,\n         -9.34221002e-02, -1.12467763e-01, -7.53927089e-02,\n          8.18118786e-02,  4.67558438e-01, -1.87370819e-01,\n         -8.44589949e-02, -3.23808676e-01, -1.79161220e-01,\n         -2.70400493e-01,  1.91086060e-01,  9.39321666e-02,\n          2.08251541e-01, -9.89457094e-01,  6.10428816e-01,\n          3.99621927e-01,  1.65924775e-01, -4.84759474e-01,\n         -8.83445284e-02, -6.40660697e-01,  7.65989864e-01,\n          7.83485373e-01, -1.16915428e+00,  4.14153411e-01,\n          3.87848414e-01,  8.70965110e-02, -3.15146642e-01,\n          6.93153135e-01, -6.12907818e-01, -4.12752134e-01,\n          1.08735630e-01, -3.51446754e-01,  3.95068403e-03,\n          7.94130377e-02, -7.35567932e-01,  8.78857452e-01,\n          8.34421936e-01, -6.66528703e-01, -8.60592319e-02,\n          3.10758286e-01, -9.16275492e-01,  3.05265891e-01,\n          3.66889235e-01,  9.30811957e-02, -5.28386979e-01,\n         -9.88328984e-01,  1.01319647e-01,  1.05939970e+00,\n          1.83423135e-01, -8.45115396e-01,  6.69870309e-01,\n          5.30512841e-01, -1.50645064e-01, -4.02564886e-01,\n         -1.30686201e-01, -9.10358629e-02,  4.97935303e-01,\n         -3.24455563e-01,  1.83088637e-01, -1.92924478e-01,\n         -6.19342768e-01, -1.85526821e-03,  7.51319965e-01,\n          1.53908169e-01,  3.04628690e-01, -1.47499154e-01,\n          7.88640196e-01, -7.37218599e-03, -7.50979992e-01,\n         -3.08899568e-03, -4.54838940e-01,  3.86968832e-01,\n         -1.00028710e+00,  5.34733492e-01,  2.88731373e-01,\n          7.25330974e-01, -7.54314126e-02, -2.45547665e-01,\n         -6.61628435e-01, -1.27078628e-01,  7.49290023e-01,\n          3.90911252e-01,  2.20843412e-01, -5.66868640e-01,\n          5.50538652e-01, -9.77397601e-01,  4.72472831e-01,\n          4.11747665e-01, -4.30777657e-01,  1.06473299e-01,\n         -6.23310159e-02,  3.79972521e-02,  1.63255716e-02,\n          6.07378548e-01, -2.36375153e-01, -4.75767462e-01,\n          1.37798558e+00, -1.21615322e+00, -6.60944403e-02,\n          7.46974555e-01, -7.53032062e-01,  2.03835282e-01,\n          3.63878837e-01, -2.84623385e-01,  5.82177714e-03,\n         -3.35412902e-01,  3.22679601e-01, -3.23632769e-01,\n          6.61054505e-01, -6.90352955e-01, -4.17739244e-02,\n         -3.09625248e-01, -2.87956156e-01,  4.36077986e-01,\n         -1.82985408e-01, -7.57925054e-01,  8.06134984e-01,\n          8.85029217e-01, -6.68144093e-01, -2.48745489e-01,\n         -5.69458027e-01,  2.76583198e-01,  1.04888683e-01,\n         -9.65145707e-01,  1.04973643e-01,  6.66421519e-01,\n         -6.15162478e-02,  7.69859110e-02,  6.92659108e-02,\n          1.17016423e-01,  1.67752719e-01, -2.20240856e-01,\n          8.36923287e-01, -8.75461697e-01, -3.48290595e-01,\n         -1.37651227e-01, -3.44844290e-03,  3.51773237e-01,\n         -3.32338818e-01,  9.20281836e-02,  1.60166688e-01,\n          6.36825911e-01,  4.50108096e-02, -5.10269174e-01,\n         -2.04815557e-01, -4.14996552e-01,  7.03408089e-01,\n          7.89777777e-01, -3.50515292e-01, -4.28883933e-01,\n          3.19998480e-01, -6.51619961e-02, -6.00842248e-02,\n          6.31858207e-02,  7.66389802e-01, -3.42026811e-01,\n         -5.61924764e-01,  3.67587513e-01,  9.07523771e-02,\n          2.14674530e-02, -4.60743014e-01,  5.25991208e-01,\n          9.72723592e-01, -3.17812173e-01, -5.22925084e-01,\n          1.08894409e-01, -2.91457213e-02,  1.06154886e-01,\n          2.29294452e-02, -8.69985837e-01,  6.52217719e-01,\n          6.55249754e-01,  1.81826240e-01, -1.01594647e+00,\n         -3.51187444e-01,  1.40040528e-01,  4.97713746e-01,\n          3.33373879e-01, -1.63142533e-01, -1.60224081e-01,\n          1.06062740e+00, -9.80149726e-01,  2.44102667e-01,\n         -2.22579588e-01,  1.10624875e-01, -1.38777613e-01,\n         -2.42328965e-02,  6.17006192e-01, -7.09346978e-01,\n          3.14713184e-01, -4.12171026e-01,  7.27216205e-02,\n          2.66683000e-01, -7.37380169e-01,  4.58609106e-01,\n          2.62264621e-01, -4.16378379e-01, -3.79966134e-01,\n         -6.55087472e-01,  3.57648167e-01,  7.03314325e-01,\n          3.17404149e-01,  3.47439896e-01, -6.61884602e-01,\n          4.24337406e-01, -3.44040174e-01, -3.09500462e-02,\n         -6.96808635e-01,  3.07424243e-01,  4.48525856e-01,\n          2.02574389e-01, -3.74940123e-01,  4.39511770e-01,\n          2.79615508e-01, -4.88080967e-01,  1.18423798e-01,\n          5.24974878e-01, -6.68407033e-02, -4.13532133e-01,\n          3.17015643e-01,  2.18227012e-01, -3.82255324e-01,\n         -1.19343371e-01,  7.08774862e-01, -1.76725888e-01,\n         -7.09697585e-01, -8.09732571e-02,  7.96590470e-01,\n          1.06082514e-01, -1.03217334e-01, -3.10714489e-01,\n         -8.17284435e-02, -2.15919511e-01, -3.07528883e-02,\n          4.78234480e-01, -1.92754816e-01,  2.19403565e-01,\n          5.60617456e-01, -8.90581936e-01,  5.04884863e-01,\n          3.07840166e-01, -6.93140314e-01,  4.60930799e-02,\n          3.09142623e-01, -1.33325343e-01,  5.39260511e-01,\n          3.70979143e-01, -4.99495193e-01,  2.69079496e-01,\n          4.28960646e-01, -4.92203741e-02, -4.15760064e-01,\n          3.24957395e-01,  2.33268361e-01, -2.63470560e-01,\n         -3.12113306e-01, -6.59687302e-01,  1.06880731e+00,\n         -7.43732743e-01, -7.07758744e-01,  1.28536560e+00,\n          1.05118157e+00, -6.64530337e-01, -2.41044143e-01,\n          1.46130955e+00, -6.32531969e-01, -2.69171572e-01,\n         -4.30586425e-01, -2.92391583e-01,  2.97924334e-01,\n         -8.70877431e-01,  6.47223466e-01, -2.72263884e-01,\n          5.06882621e-01,  2.06769540e-01, -4.92808518e-01,\n          2.93517765e-01,  3.98010570e-01, -2.41245961e-01,\n          5.61397716e-01, -4.60557100e-01, -2.31038717e-01,\n         -1.61918580e-01, -7.50170101e-01,  6.11312549e-01,\n          5.98798287e-01, -7.10685997e-01,  3.16375370e-01,\n          1.71203123e-01, -3.38630637e-01,  4.58612506e-01,\n         -6.53132689e-01,  3.29854744e-01,  1.66975258e-01,\n          1.05176318e+00, -2.65109808e-02, -8.39386763e-01,\n         -7.06495953e-02, -2.55472706e-02,  3.86275339e-02,\n          3.01043004e-01, -2.47948504e-01,  9.33723086e-02,\n          8.03326366e-01,  5.53924268e-02, -9.31107031e-01,\n          9.50189360e-01, -3.50741141e-01, -1.05474811e-01,\n         -1.05224282e-01, -3.43453085e-02,  4.37613664e-01,\n          8.30540829e-01, -7.52198058e-01, -5.77232648e-01,\n          3.32868405e-01, -1.69760312e-01,  2.60521080e-01,\n          1.21033631e-01, -4.83580454e-01,  4.11502217e-01,\n         -1.75290657e-01, -2.68394184e-01,  3.44804162e-01,\n          7.04242527e-03, -3.58686858e-01,  3.20061387e-01]]),\n array([1.06989668]),\n 11.983335971832275)"
     },
     "execution_count": 60,
     "metadata": {},
     "output_type": "execute_result"
    }
   ],
   "source": [
    "from sklearn.svm import SVC\n",
    "\n",
    "linear_svm = SVC(kernel='linear', C=1.0)\n",
    "linear_svm.fit(X_train, y_train)\n",
    "\n",
    "linear_support_vectors = linear_svm.support_vectors_\n",
    "linear_nSV = len(linear_support_vectors)\n",
    "linear_w = linear_svm.coef_\n",
    "linear_b = linear_svm.intercept_\n",
    "\n",
    "print(\"Number of support vectors:\", linear_nSV)\n",
    "print(\"Percentage of support vectors:\", linear_nSV / len(X_train) * 100)\n",
    "print(\"Weight vector (w):\", linear_w)\n",
    "print(\"Intercept (b):\", linear_b)"
   ],
   "metadata": {
    "collapsed": false,
    "ExecuteTime": {
     "end_time": "2023-10-03T18:47:22.970348Z",
     "start_time": "2023-10-03T18:47:10.969010Z"
    }
   },
   "id": "f4e3502c431b5343"
  },
  {
   "cell_type": "code",
   "execution_count": 61,
   "outputs": [
    {
     "data": {
      "text/plain": "0.78"
     },
     "execution_count": 61,
     "metadata": {},
     "output_type": "execute_result"
    }
   ],
   "source": [
    "linear_val_accuracy = linear_svm.score(X_val, y_val)\n",
    "\n",
    "linear_val_accuracy"
   ],
   "metadata": {
    "collapsed": false,
    "ExecuteTime": {
     "end_time": "2023-10-03T18:47:23.663629Z",
     "start_time": "2023-10-03T18:47:22.971600Z"
    }
   },
   "id": "5e25ca2d68dd861c"
  },
  {
   "cell_type": "code",
   "execution_count": 65,
   "outputs": [
    {
     "data": {
      "text/plain": "<Figure size 1500x500 with 6 Axes>",
      "image/png": "[encoded data removed]"
     },
     "metadata": {},
     "output_type": "display_data"
    },
    {
     "name": "stderr",
     "output_type": "stream",
     "text": [
      "Clipping input data to the valid range for imshow with RGB data ([0..1] for floats or [0..255] for integers).\n"
     ]
    },
    {
     "data": {
      "text/plain": "<Figure size 640x480 with 1 Axes>",
      "image/png": "[encoded data removed]"
     },
     "metadata": {},
     "output_type": "display_data"
    }
   ],
   "source": [
    "import matplotlib.pyplot as plt\n",
    "\n",
    "def plot_support_vectors(svm, X_train, title):\n",
    "    \"\"\"Plot the support vectors corresponding to the top-6 coefficients.\"\"\"\n",
    "    support_indices = np.argsort(np.abs(svm.dual_coef_))[:, -6:]\n",
    "    support_images = X_train[support_indices].reshape(-1, 16, 16, 3)\n",
    "    \n",
    "    fig, axes = plt.subplots(1, 6, figsize=(15, 5))\n",
    "    for ax, img in zip(axes, support_images):\n",
    "        ax.imshow(img)\n",
    "        ax.axis('off')\n",
    "    plt.suptitle(title)\n",
    "\n",
    "# Plotting top-6 support vectors for linear SVM\n",
    "plot_support_vectors(linear_svm, X_train, \"Top-6 Support Vectors for Linear SVM\")\n",
    "plt.savefig(\"top_6_support_vectors_linear libsvm linear.png\")\n",
    "plt.show()\n",
    "\n",
    "# Reshaping and plotting the weight vector w for the linear SVM\n",
    "plt.imshow(linear_w.reshape(16, 16, 3))\n",
    "plt.title(\"Weight Vector (w) for Linear SVM\")\n",
    "plt.axis('off')\n",
    "plt.savefig(\"weight_vector_linear libsvm linear.png\")\n",
    "plt.show()"
   ],
   "metadata": {
    "collapsed": false,
    "ExecuteTime": {
     "end_time": "2023-10-03T19:02:40.126936Z",
     "start_time": "2023-10-03T19:02:39.741773Z"
    }
   },
   "id": "6c2e30e1198ef016"
  },
  {
   "cell_type": "markdown",
   "source": [
    "# LIBSVM Gaussian (RBF) Kernel SVM"
   ],
   "metadata": {
    "collapsed": false
   },
   "id": "e3c1266f2e961e09"
  },
  {
   "cell_type": "code",
   "execution_count": 66,
   "outputs": [
    {
     "name": "stdout",
     "output_type": "stream",
     "text": [
      "Number of support vectors: 3054\n",
      "Percentage of support vectors: 64.15966386554622\n",
      "Validation accuracy: 0.7525\n",
      "Weight vector (w): [[-1. -1. -1. ...  1.  1.  1.]]\n",
      "Intercept (b): [-1.06220987]\n"
     ]
    }
   ],
   "source": [
    "# Training an SVM with Gaussian (RBF) kernel using scikit-learn\n",
    "rbf_svm = SVC(kernel='rbf', C=1.0, gamma=0.001)\n",
    "rbf_svm.fit(X_train, y_train)\n",
    "\n",
    "rbf_support_vectors = rbf_svm.support_vectors_\n",
    "rbf_nSV = len(rbf_support_vectors)\n",
    "\n",
    "rbf_val_accuracy = rbf_svm.score(X_val, y_val)\n",
    "\n",
    "print(\"Number of support vectors:\", rbf_nSV)\n",
    "print(\"Percentage of support vectors:\", rbf_nSV / len(X_train) * 100)\n",
    "print(\"Validation accuracy:\", rbf_val_accuracy)\n",
    "print(\"Weight vector (w):\", rbf_svm.dual_coef_)\n",
    "print(\"Intercept (b):\", rbf_svm.intercept_)"
   ],
   "metadata": {
    "collapsed": false,
    "ExecuteTime": {
     "end_time": "2023-10-03T19:17:08.118443Z",
     "start_time": "2023-10-03T19:16:57.068867Z"
    }
   },
   "id": "59e25be2d1d604ee"
  },
  {
   "cell_type": "code",
   "execution_count": 67,
   "outputs": [
    {
     "data": {
      "text/plain": "<Figure size 1500x500 with 6 Axes>",
      "image/png": "[encoded data removed]"
     },
     "metadata": {},
     "output_type": "display_data"
    }
   ],
   "source": [
    "plot_support_vectors(rbf_svm, X_train, \"Top-6 Support Vectors for Gaussian (RBF) SVM\")\n",
    "plt.savefig(\"top_6_support_vectors_rbf libsvm rbf.png\")\n",
    "plt.show()"
   ],
   "metadata": {
    "collapsed": false,
    "ExecuteTime": {
     "end_time": "2023-10-03T19:20:43.264112Z",
     "start_time": "2023-10-03T19:20:42.954414Z"
    }
   },
   "id": "fb66a898f4514e6a"
  }
 ],
 "metadata": {
  "kernelspec": {
   "display_name": "Python 3",
   "language": "python",
   "name": "python3"
  },
  "language_info": {
   "codemirror_mode": {
    "name": "ipython",
    "version": 2
   },
   "file_extension": ".py",
   "mimetype": "text/x-python",
   "name": "python",
   "nbconvert_exporter": "python",
   "pygments_lexer": "ipython2",
   "version": "2.7.6"
  }
 },
 "nbformat": 4,
 "nbformat_minor": 5
}
