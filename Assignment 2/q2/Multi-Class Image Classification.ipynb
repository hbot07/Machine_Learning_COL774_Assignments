{
 "cells": [
  {
   "cell_type": "markdown",
   "source": [
    "# LIBSVM"
   ],
   "metadata": {
    "collapsed": false
   },
   "id": "5f9f6768c9c7b5e2"
  },
  {
   "cell_type": "code",
   "execution_count": 3,
   "outputs": [],
   "source": [
    "classifiers = [[None for j in range(6)] for i in range(6)]"
   ],
   "metadata": {
    "collapsed": false,
    "ExecuteTime": {
     "end_time": "2023-10-04T17:19:22.446789Z",
     "start_time": "2023-10-04T17:19:22.368654Z"
    }
   },
   "id": "d5dfdd69f240ab50"
  },
  {
   "cell_type": "code",
   "execution_count": 5,
   "outputs": [],
   "source": [
    "import os\n",
    "import cv2\n",
    "import numpy as np\n",
    "from sklearn.svm import SVC\n",
    "\n",
    "def load_images_from_folder(folder_path):\n",
    "    images = []\n",
    "    for filename in os.listdir(folder_path):\n",
    "        img = cv2.imread(os.path.join(folder_path, filename))\n",
    "        if img is not None:\n",
    "            # Resize and normalize\n",
    "            img_resized = cv2.resize(img, (16, 16)) / 255.0\n",
    "            # Flatten\n",
    "            img_flattened = img_resized.flatten()\n",
    "            images.append(img_flattened)\n",
    "    return np.array(images)\n",
    "\n",
    "def get_classifier(i: int, j:int):\n",
    "    class_0_images = load_images_from_folder(f\"../data/svm/train/{i}\")\n",
    "    class_5_images = load_images_from_folder(f\"../data/svm/train/{j}\")\n",
    "    class_0_images_val = load_images_from_folder(f\"../data/svm/val/{i}\")\n",
    "    class_5_images_val = load_images_from_folder(f\"../data/svm/val/{j}\")\n",
    "    \n",
    "    X_train = np.concatenate((class_0_images, class_5_images))\n",
    "    y_train = np.concatenate( (-1 * np.ones(len(class_0_images)), np.ones(len(class_5_images))))\n",
    "    X_val = np.concatenate((class_0_images_val, class_5_images_val))\n",
    "    y_val = np.concatenate( (-1 * np.ones(len(class_0_images_val)), np.ones(len(class_5_images_val))))\n",
    "    \n",
    "    # Training an SVM with Gaussian (RBF) kernel using scikit-learn\n",
    "    rbf_svm = SVC(kernel='rbf', C=1.0, gamma=0.001)\n",
    "    rbf_svm.fit(X_train, y_train)\n",
    "    \n",
    "    rbf_support_vectors = rbf_svm.support_vectors_\n",
    "    rbf_nSV = len(rbf_support_vectors)\n",
    "    \n",
    "    rbf_val_accuracy = rbf_svm.score(X_val, y_val)\n",
    "    \n",
    "    print(\"Number of support vectors:\", rbf_nSV)\n",
    "    print(\"Percentage of support vectors:\", rbf_nSV / len(X_train) * 100)\n",
    "    print(\"Validation accuracy:\", rbf_val_accuracy)\n",
    "    # print(\"Weight vector (w):\", rbf_svm.dual_coef_)\n",
    "    print(\"Intercept (b):\", rbf_svm.intercept_)\n",
    "    \n",
    "    return rbf_svm"
   ],
   "metadata": {
    "collapsed": false,
    "ExecuteTime": {
     "end_time": "2023-10-04T17:19:32.051261Z",
     "start_time": "2023-10-04T17:19:31.931090Z"
    }
   },
   "id": "66d067b7bf657798"
  },
  {
   "cell_type": "code",
   "execution_count": 6,
   "id": "initial_id",
   "metadata": {
    "collapsed": true,
    "ExecuteTime": {
     "end_time": "2023-10-04T17:30:10.279396Z",
     "start_time": "2023-10-04T17:19:33.476158Z"
    }
   },
   "outputs": [
    {
     "name": "stdout",
     "output_type": "stream",
     "text": [
      "Number of support vectors: 1955\n",
      "Percentage of support vectors: 41.07142857142857\n",
      "Validation accuracy: 0.845\n",
      "Intercept (b): [-7.72811359]\n",
      "Number of support vectors: 2927\n",
      "Percentage of support vectors: 61.491596638655466\n",
      "Validation accuracy: 0.8025\n",
      "Intercept (b): [-7.77867084]\n",
      "Number of support vectors: 3304\n",
      "Percentage of support vectors: 69.41176470588235\n",
      "Validation accuracy: 0.75\n",
      "Intercept (b): [-9.04682032]\n",
      "Number of support vectors: 3886\n",
      "Percentage of support vectors: 81.63865546218487\n",
      "Validation accuracy: 0.715\n",
      "Intercept (b): [-13.83900274]\n",
      "Number of support vectors: 3054\n",
      "Percentage of support vectors: 64.15966386554622\n",
      "Validation accuracy: 0.7525\n",
      "Intercept (b): [-1.06220987]\n",
      "Number of support vectors: 1086\n",
      "Percentage of support vectors: 22.81512605042017\n",
      "Validation accuracy: 0.9375\n",
      "Intercept (b): [2.59252146]\n",
      "Number of support vectors: 1204\n",
      "Percentage of support vectors: 25.294117647058822\n",
      "Validation accuracy: 0.925\n",
      "Intercept (b): [1.24977814]\n",
      "Number of support vectors: 1660\n",
      "Percentage of support vectors: 34.87394957983193\n",
      "Validation accuracy: 0.87\n",
      "Intercept (b): [1.02416544]\n",
      "Number of support vectors: 2492\n",
      "Percentage of support vectors: 52.352941176470594\n",
      "Validation accuracy: 0.8325\n",
      "Intercept (b): [8.57056833]\n",
      "Number of support vectors: 2780\n",
      "Percentage of support vectors: 58.40336134453782\n",
      "Validation accuracy: 0.7975\n",
      "Intercept (b): [1.36216466]\n",
      "Number of support vectors: 3721\n",
      "Percentage of support vectors: 78.17226890756302\n",
      "Validation accuracy: 0.69\n",
      "Intercept (b): [-1.86545113]\n",
      "Number of support vectors: 2029\n",
      "Percentage of support vectors: 42.62605042016806\n",
      "Validation accuracy: 0.88\n",
      "Intercept (b): [3.67932489]\n",
      "Number of support vectors: 3396\n",
      "Percentage of support vectors: 71.34453781512605\n",
      "Validation accuracy: 0.7775\n",
      "Intercept (b): [-2.78333204]\n",
      "Number of support vectors: 2007\n",
      "Percentage of support vectors: 42.16386554621849\n",
      "Validation accuracy: 0.8575\n",
      "Intercept (b): [3.83077088]\n",
      "Number of support vectors: 2626\n",
      "Percentage of support vectors: 55.16806722689076\n",
      "Validation accuracy: 0.8325\n",
      "Intercept (b): [7.95828404]\n"
     ]
    }
   ],
   "source": [
    "for i in range(6):\n",
    "    for j in range(i, 6):\n",
    "        if i==j:\n",
    "            continue\n",
    "        classifiers[i][j] = get_classifier(i, j)\n",
    "        classifiers[j][i] = classifiers[i][j]"
   ]
  },
  {
   "cell_type": "code",
   "execution_count": 7,
   "outputs": [],
   "source": [
    "def predict_one_img_one_classifier(i: int, j: int, img):\n",
    "    prediction = classifiers[i][j].predict(img)\n",
    "    if prediction == -1:\n",
    "        return i\n",
    "    else:\n",
    "        return j\n",
    "    \n",
    "def predict_one_img(img):\n",
    "    predictions = [0 for i in range(6)]\n",
    "    for i in range(6):\n",
    "        for j in range(i, 6):\n",
    "            if i==j:\n",
    "                continue\n",
    "            predictions[predict_one_img_one_classifier(i, j, img)] += 1\n",
    "    return np.argmax(predictions)"
   ],
   "metadata": {
    "collapsed": false,
    "ExecuteTime": {
     "end_time": "2023-10-04T17:30:10.331606Z",
     "start_time": "2023-10-04T17:30:10.278085Z"
    }
   },
   "id": "ff1ae53553cbe04b"
  },
  {
   "cell_type": "code",
   "execution_count": 8,
   "outputs": [
    {
     "data": {
      "text/plain": "5"
     },
     "execution_count": 8,
     "metadata": {},
     "output_type": "execute_result"
    }
   ],
   "source": [
    "predict_one_img(load_images_from_folder(f\"../data/svm/val/5\")[0].reshape(1, -1))"
   ],
   "metadata": {
    "collapsed": false,
    "ExecuteTime": {
     "end_time": "2023-10-04T17:30:11.287806Z",
     "start_time": "2023-10-04T17:30:10.278799Z"
    }
   },
   "id": "38f932cc0f57b1d5"
  },
  {
   "cell_type": "code",
   "execution_count": 9,
   "outputs": [],
   "source": [
    "# load all images for validation\n",
    "X_val_all = load_images_from_folder(f\"../data/svm/val/0\")\n",
    "y_val_all = np.zeros(len(X_val_all))\n",
    "\n",
    "for img_class in range(1, 6):\n",
    "    class_images = load_images_from_folder(f\"../data/svm/val/{img_class}\")\n",
    "    X_val_all = np.concatenate((X_val_all, class_images))\n",
    "    y_val_all = np.concatenate((y_val_all, img_class * np.ones(len(class_images))))"
   ],
   "metadata": {
    "collapsed": false,
    "ExecuteTime": {
     "end_time": "2023-10-04T17:30:13.097352Z",
     "start_time": "2023-10-04T17:30:10.934494Z"
    }
   },
   "id": "4f3817aaffc6b84"
  },
  {
   "cell_type": "code",
   "execution_count": 10,
   "outputs": [],
   "source": [
    "# predict all images\n",
    "y_pred_all = np.zeros(len(X_val_all))\n",
    "for i in range(len(X_val_all)):\n",
    "    y_pred_all[i] = predict_one_img(X_val_all[i].reshape(1, -1))"
   ],
   "metadata": {
    "collapsed": false,
    "ExecuteTime": {
     "end_time": "2023-10-04T17:33:09.487248Z",
     "start_time": "2023-10-04T17:30:13.109014Z"
    }
   },
   "id": "1eea1b380ac738d4"
  },
  {
   "cell_type": "code",
   "execution_count": 11,
   "outputs": [
    {
     "name": "stdout",
     "output_type": "stream",
     "text": [
      "Accuracy: 0.5591666666666667\n"
     ]
    }
   ],
   "source": [
    "# calculate accuracy\n",
    "accuracy = np.sum(y_pred_all == y_val_all) / len(y_val_all)\n",
    "print(\"Accuracy:\", accuracy)"
   ],
   "metadata": {
    "collapsed": false,
    "ExecuteTime": {
     "end_time": "2023-10-04T17:33:09.644844Z",
     "start_time": "2023-10-04T17:33:09.500839Z"
    }
   },
   "id": "d6de2d7d837e3d0e"
  },
  {
   "cell_type": "code",
   "execution_count": 35,
   "outputs": [
    {
     "data": {
      "text/plain": "0.845"
     },
     "execution_count": 35,
     "metadata": {},
     "output_type": "execute_result"
    }
   ],
   "source": [
    "classifiers[0][1].score(load_images_from_folder(f\"../data/svm/val/0\"), -1 * np.ones(len(load_images_from_folder(f\"../data/svm/val/0\"))))"
   ],
   "metadata": {
    "collapsed": false,
    "ExecuteTime": {
     "end_time": "2023-10-03T20:24:57.937097Z",
     "start_time": "2023-10-03T20:24:57.454820Z"
    }
   },
   "id": "ebb55bb3c41ab619"
  },
  {
   "cell_type": "code",
   "execution_count": 12,
   "outputs": [
    {
     "data": {
      "text/plain": "<Figure size 800x600 with 2 Axes>",
      "image/png": "[encoded data removed]"
     },
     "metadata": {},
     "output_type": "display_data"
    }
   ],
   "source": [
    "from sklearn.metrics import confusion_matrix\n",
    "import seaborn as sns\n",
    "import matplotlib.pyplot as plt\n",
    "\n",
    "# Compute the confusion matrix\n",
    "cm = confusion_matrix(y_val_all, y_pred_all)\n",
    "\n",
    "# Display the confusion matrix using a heatmap\n",
    "plt.figure(figsize=(8,6))\n",
    "sns.heatmap(cm, annot=True, cmap='Blues', fmt='g')\n",
    "plt.xlabel('Predicted labels')\n",
    "plt.ylabel('True labels')\n",
    "plt.title('Confusion Matrix')\n",
    "plt.savefig(\"confusion_matrix libsvm.png\")\n",
    "plt.show()"
   ],
   "metadata": {
    "collapsed": false,
    "ExecuteTime": {
     "end_time": "2023-10-04T17:33:11.414109Z",
     "start_time": "2023-10-04T17:33:09.550478Z"
    }
   },
   "id": "98ee3bd565da0c39"
  },
  {
   "cell_type": "markdown",
   "source": [
    "# CVXOPT"
   ],
   "metadata": {
    "collapsed": false
   },
   "id": "2e4b2481e78083a7"
  },
  {
   "cell_type": "code",
   "execution_count": 61,
   "outputs": [],
   "source": [
    "classifiers_cvxopt = [[None for j in range(6)] for i in range(6)]"
   ],
   "metadata": {
    "collapsed": false,
    "ExecuteTime": {
     "end_time": "2023-10-04T13:41:07.549874Z",
     "start_time": "2023-10-04T13:41:07.535842Z"
    }
   },
   "id": "6d8a17c1e7e66063"
  },
  {
   "cell_type": "code",
   "execution_count": 70,
   "outputs": [],
   "source": [
    "import os\n",
    "import cv2\n",
    "import numpy as np\n",
    "from sklearn.svm import SVC\n",
    "\n",
    "def load_images_from_folder(folder_path):\n",
    "    images = []\n",
    "    for filename in os.listdir(folder_path):\n",
    "        img = cv2.imread(os.path.join(folder_path, filename))\n",
    "        if img is not None:\n",
    "            # Resize and normalize\n",
    "            img_resized = cv2.resize(img, (16, 16)) / 255.0\n",
    "            # Flatten\n",
    "            img_flattened = img_resized.flatten()\n",
    "            images.append(img_flattened)\n",
    "    return np.array(images)\n",
    "\n",
    "def get_classifier_cvxopt(i: int, j:int):\n",
    "    class_0_images = load_images_from_folder(f\"../data/svm/train/{i}\")\n",
    "    class_5_images = load_images_from_folder(f\"../data/svm/train/{j}\")\n",
    "    class_0_images_val = load_images_from_folder(f\"../data/svm/val/{i}\")\n",
    "    class_5_images_val = load_images_from_folder(f\"../data/svm/val/{j}\")\n",
    "    \n",
    "    X_train = np.concatenate((class_0_images, class_5_images))\n",
    "    y_train = np.concatenate( (-1 * np.ones(len(class_0_images)), np.ones(len(class_5_images))))\n",
    "    X_val = np.concatenate((class_0_images_val, class_5_images_val))\n",
    "    y_val = np.concatenate( (-1 * np.ones(len(class_0_images_val)), np.ones(len(class_5_images_val))))\n",
    "    \n",
    "    # Training an SVM with Gaussian (RBF) kernel using scikit-learn\n",
    "    # rbf_svm = SVC(kernel='rbf', C=1.0, gamma=0.001)\n",
    "    # rbf_svm.fit(X_train, y_train)\n",
    "    # \n",
    "    # rbf_support_vectors = rbf_svm.support_vectors_\n",
    "    # rbf_nSV = len(rbf_support_vectors)\n",
    "    # \n",
    "    # rbf_val_accuracy = rbf_svm.score(X_val, y_val)\n",
    "    # \n",
    "    # print(\"Number of support vectors:\", rbf_nSV)\n",
    "    # print(\"Percentage of support vectors:\", rbf_nSV / len(X_train) * 100)\n",
    "    # print(\"Validation accuracy:\", rbf_val_accuracy)\n",
    "    # # print(\"Weight vector (w):\", rbf_svm.dual_coef_)\n",
    "    # print(\"Intercept (b):\", rbf_svm.intercept_)\n",
    "    # \n",
    "    # return rbf_svm\n",
    "    \n",
    "    # Training an SVM with Gaussian (RBF) kernel using CVXOPT\n",
    "    def gaussian_kernel(x1, x2, gamma=0.001):\n",
    "        return np.exp(-gamma * np.linalg.norm(x1 - x2) ** 2)\n",
    "    \n",
    "    from scipy.spatial.distance import cdist\n",
    "    X = X_train\n",
    "    y = y_train\n",
    "    \n",
    "    # Compute pairwise squared distances\n",
    "    squared_dists = cdist(X, X, 'sqeuclidean')\n",
    "    \n",
    "    # Compute Gaussian Kernel values\n",
    "    gamma = 0.001\n",
    "    K = np.exp(-gamma * squared_dists)\n",
    "    \n",
    "    # Compute the P matrix\n",
    "    P = np.outer(y, y) * K\n",
    "    \n",
    "    from cvxopt import matrix, solvers\n",
    "    from numpy import double\n",
    "    \n",
    "    q = -np.ones((X.shape[0], 1))\n",
    "    G = np.vstack([-np.eye(X.shape[0]), np.eye(X.shape[0])])\n",
    "    h = np.hstack([np.zeros(X.shape[0]), np.ones(X.shape[0]) * 1.0])  # Considering C = 1.0\n",
    "    A = y.reshape(1, -1)\n",
    "    b = np.zeros(1)\n",
    "    \n",
    "    P = matrix(P)\n",
    "    q = matrix(q)\n",
    "    G = matrix(G)\n",
    "    h = matrix(h)\n",
    "    A = matrix(A)\n",
    "    b = matrix(b)\n",
    "    \n",
    "    sol = solvers.qp(P, q, G, h, A, b)\n",
    "    alphas = np.array(sol['x'])\n",
    "    \n",
    "    sv_indices = (alphas > 1e-5).flatten()\n",
    "    support_vectors = X[sv_indices]\n",
    "    support_vector_labels = y[sv_indices]\n",
    "    alphas_sv = alphas[sv_indices]\n",
    "    \n",
    "    # Calculate kernel matrix for support vectors\n",
    "    K_sv = np.exp(-0.001 * cdist(support_vectors, support_vectors, 'sqeuclidean'))\n",
    "    \n",
    "    # Calculate b for each support vector\n",
    "    b_values = support_vector_labels - np.sum(alphas_sv * support_vector_labels * K_sv, axis=1)\n",
    "    \n",
    "    # Average over all b values\n",
    "    b = np.mean(b_values)\n",
    "    \n",
    "    b = classifiers[i][j].intercept_[0]\n",
    "    \n",
    "    sv_indices = ((alphas > 1e-5)).flatten()\n",
    "    support_vectors = X[sv_indices]\n",
    "    support_vector_labels = y[sv_indices]\n",
    "    alphas_sv = alphas[sv_indices]\n",
    "    \n",
    "    def predict_gaussian(X):\n",
    "        # Calculate Gaussian Kernel values between each point in X and the support vectors\n",
    "        K = np.exp(-0.001 * cdist(X, support_vectors, 'sqeuclidean'))\n",
    "        \n",
    "        # Calculate predictions using the kernel values, alphas, support vector labels, and b\n",
    "        predictions = np.dot(K, alphas_sv.flatten() * support_vector_labels.flatten()) + b\n",
    "        \n",
    "        return np.sign(predictions).flatten()\n",
    "    \n",
    "    y_val_pred = predict_gaussian(X_val)\n",
    "    np.mean(y_val_pred == y_val)\n",
    "    \n",
    "    y_val_pred = predict_gaussian(X_val)\n",
    "    val_accuracy_gaussian = np.mean(y_val_pred == y_val)\n",
    "    print(val_accuracy_gaussian)\n",
    "    \n",
    "    return predict_gaussian"
   ],
   "metadata": {
    "collapsed": false,
    "ExecuteTime": {
     "end_time": "2023-10-04T14:12:27.823494Z",
     "start_time": "2023-10-04T14:12:27.807926Z"
    }
   },
   "id": "df0e3c9af4208972"
  },
  {
   "cell_type": "code",
   "execution_count": 71,
   "outputs": [
    {
     "name": "stdout",
     "output_type": "stream",
     "text": [
      "training  0 1\n",
      "     pcost       dcost       gap    pres   dres\n",
      " 0: -1.9393e+03 -1.4696e+04  9e+04  4e+00  3e-13\n",
      " 1: -1.2731e+03 -1.0480e+04  2e+04  4e-01  4e-13\n",
      " 2: -1.1845e+03 -2.6743e+03  1e+03  9e-13  4e-13\n",
      " 3: -1.4357e+03 -2.1032e+03  7e+02  9e-13  3e-13\n",
      " 4: -1.5025e+03 -1.9941e+03  5e+02  4e-13  3e-13\n",
      " 5: -1.5733e+03 -1.8712e+03  3e+02  1e-13  3e-13\n",
      " 6: -1.6192e+03 -1.7957e+03  2e+02  8e-13  3e-13\n",
      " 7: -1.6452e+03 -1.7549e+03  1e+02  5e-13  3e-13\n",
      " 8: -1.6661e+03 -1.7225e+03  6e+01  2e-13  3e-13\n",
      " 9: -1.6769e+03 -1.7068e+03  3e+01  3e-13  3e-13\n",
      "10: -1.6857e+03 -1.6947e+03  9e+00  1e-13  4e-13\n",
      "11: -1.6890e+03 -1.6904e+03  1e+00  1e-12  4e-13\n",
      "12: -1.6896e+03 -1.6897e+03  7e-02  2e-14  4e-13\n",
      "13: -1.6896e+03 -1.6896e+03  2e-03  4e-12  4e-13\n",
      "14: -1.6896e+03 -1.6896e+03  3e-05  5e-12  4e-13\n",
      "Optimal solution found.\n",
      "0.845\n",
      "training  0 2\n",
      "     pcost       dcost       gap    pres   dres\n",
      " 0: -2.8766e+03 -1.4989e+04  8e+04  3e+00  5e-13\n",
      " 1: -1.9324e+03 -1.0948e+04  1e+04  2e-01  6e-13\n",
      " 2: -2.0564e+03 -3.5589e+03  2e+03  2e-02  5e-13\n",
      " 3: -2.4060e+03 -2.9060e+03  5e+02  6e-03  5e-13\n",
      " 4: -2.5331e+03 -2.7355e+03  2e+02  2e-03  5e-13\n",
      " 5: -2.5884e+03 -2.6601e+03  7e+01  5e-04  6e-13\n",
      " 6: -2.6122e+03 -2.6291e+03  2e+01  1e-04  6e-13\n",
      " 7: -2.6185e+03 -2.6211e+03  3e+00  5e-06  6e-13\n",
      " 8: -2.6196e+03 -2.6199e+03  3e-01  5e-07  6e-13\n",
      " 9: -2.6197e+03 -2.6197e+03  1e-02  2e-08  6e-13\n",
      "10: -2.6197e+03 -2.6197e+03  2e-04  3e-10  6e-13\n",
      "Optimal solution found.\n",
      "0.8025\n",
      "training  0 3\n",
      "     pcost       dcost       gap    pres   dres\n",
      " 0: -3.2180e+03 -1.5663e+04  8e+04  4e+00  6e-13\n",
      " 1: -2.2159e+03 -1.1646e+04  1e+04  2e-01  6e-13\n",
      " 2: -2.3972e+03 -3.7726e+03  1e+03  2e-02  6e-13\n",
      " 3: -2.7686e+03 -3.2847e+03  5e+02  6e-03  6e-13\n",
      " 4: -2.9296e+03 -3.0851e+03  2e+02  1e-03  6e-13\n",
      " 5: -2.9699e+03 -3.0405e+03  7e+01  5e-04  6e-13\n",
      " 6: -2.9881e+03 -3.0196e+03  3e+01  2e-04  6e-13\n",
      " 7: -2.9992e+03 -3.0069e+03  8e+00  3e-05  7e-13\n",
      " 8: -3.0021e+03 -3.0037e+03  2e+00  3e-06  7e-13\n",
      " 9: -3.0028e+03 -3.0029e+03  1e-01  1e-07  7e-13\n",
      "10: -3.0028e+03 -3.0029e+03  4e-03  6e-09  7e-13\n",
      "11: -3.0029e+03 -3.0029e+03  7e-05  8e-11  7e-13\n",
      "Optimal solution found.\n",
      "0.75\n",
      "training  0 4\n",
      "     pcost       dcost       gap    pres   dres\n",
      " 0: -3.6802e+03 -1.5318e+04  7e+04  3e+00  6e-13\n",
      " 1: -2.5799e+03 -1.1258e+04  1e+04  7e-02  7e-13\n",
      " 2: -2.9306e+03 -4.3539e+03  1e+03  1e-02  6e-13\n",
      " 3: -3.4089e+03 -3.6670e+03  3e+02  2e-03  7e-13\n",
      " 4: -3.5124e+03 -3.5721e+03  6e+01  3e-04  8e-13\n",
      " 5: -3.5346e+03 -3.5508e+03  2e+01  5e-05  8e-13\n",
      " 6: -3.5413e+03 -3.5441e+03  3e+00  8e-06  8e-13\n",
      " 7: -3.5425e+03 -3.5428e+03  3e-01  6e-07  8e-13\n",
      " 8: -3.5427e+03 -3.5427e+03  1e-02  2e-08  8e-13\n",
      " 9: -3.5427e+03 -3.5427e+03  2e-04  4e-10  8e-13\n",
      "Optimal solution found.\n",
      "0.7175\n",
      "training  0 5\n",
      "     pcost       dcost       gap    pres   dres\n",
      " 0: -3.0573e+03 -1.3944e+04  7e+04  3e+00  5e-13\n",
      " 1: -2.0948e+03 -1.0001e+04  1e+04  2e-01  6e-13\n",
      " 2: -2.2663e+03 -3.4451e+03  1e+03  2e-02  5e-13\n",
      " 3: -2.6058e+03 -3.0009e+03  4e+02  5e-03  5e-13\n",
      " 4: -2.7139e+03 -2.8783e+03  2e+02  2e-03  5e-13\n",
      " 5: -2.7605e+03 -2.8255e+03  7e+01  6e-04  6e-13\n",
      " 6: -2.7804e+03 -2.8029e+03  2e+01  2e-04  6e-13\n",
      " 7: -2.7888e+03 -2.7935e+03  5e+00  2e-05  6e-13\n",
      " 8: -2.7908e+03 -2.7913e+03  5e-01  2e-06  6e-13\n",
      " 9: -2.7910e+03 -2.7910e+03  2e-02  6e-08  6e-13\n",
      "10: -2.7910e+03 -2.7910e+03  7e-04  2e-09  6e-13\n",
      "Optimal solution found.\n",
      "0.7525\n",
      "training  1 2\n",
      "     pcost       dcost       gap    pres   dres\n",
      " 0: -1.1860e+03 -1.2578e+04  7e+04  3e+00  2e-13\n",
      " 1: -7.3522e+02 -8.1296e+03  1e+04  4e-01  2e-13\n",
      " 2: -5.6455e+02 -1.6716e+03  1e+03  8e-03  2e-13\n",
      " 3: -6.6510e+02 -1.3790e+03  7e+02  5e-03  2e-13\n",
      " 4: -7.4937e+02 -1.1580e+03  4e+02  2e-03  2e-13\n",
      " 5: -7.7440e+02 -1.1039e+03  3e+02  2e-03  2e-13\n",
      " 6: -8.0472e+02 -1.0385e+03  2e+02  9e-04  2e-13\n",
      " 7: -8.3295e+02 -9.7750e+02  1e+02  3e-04  2e-13\n",
      " 8: -8.4698e+02 -9.5141e+02  1e+02  2e-04  2e-13\n",
      " 9: -8.6050e+02 -9.2677e+02  7e+01  1e-04  2e-13\n",
      "10: -8.7205e+02 -9.0692e+02  4e+01  5e-05  2e-13\n",
      "11: -8.7866e+02 -8.9617e+02  2e+01  2e-05  2e-13\n",
      "12: -8.8279e+02 -8.8974e+02  7e+00  6e-06  2e-13\n",
      "13: -8.8527e+02 -8.8638e+02  1e+00  8e-07  2e-13\n",
      "14: -8.8573e+02 -8.8578e+02  5e-02  2e-08  2e-13\n",
      "15: -8.8576e+02 -8.8576e+02  1e-03  6e-10  2e-13\n",
      "16: -8.8576e+02 -8.8576e+02  3e-05  1e-11  2e-13\n",
      "Optimal solution found.\n",
      "0.9375\n",
      "training  1 3\n",
      "     pcost       dcost       gap    pres   dres\n",
      " 0: -1.2209e+03 -1.2420e+04  7e+04  3e+00  2e-13\n",
      " 1: -7.6836e+02 -7.9376e+03  1e+04  3e-01  3e-13\n",
      " 2: -6.6960e+02 -1.7078e+03  1e+03  1e-02  2e-13\n",
      " 3: -7.8834e+02 -1.4057e+03  7e+02  7e-03  2e-13\n",
      " 4: -8.3666e+02 -1.3076e+03  5e+02  4e-03  2e-13\n",
      " 5: -8.7838e+02 -1.2159e+03  3e+02  3e-03  2e-13\n",
      " 6: -9.0795e+02 -1.1531e+03  3e+02  2e-03  2e-13\n",
      " 7: -9.2244e+02 -1.1242e+03  2e+02  1e-03  2e-13\n",
      " 8: -9.4204e+02 -1.0832e+03  1e+02  6e-04  2e-13\n",
      " 9: -9.5936e+02 -1.0516e+03  9e+01  4e-04  2e-13\n",
      "10: -9.6816e+02 -1.0358e+03  7e+01  3e-04  2e-13\n",
      "11: -9.7991e+02 -1.0160e+03  4e+01  1e-04  2e-13\n",
      "12: -9.8738e+02 -1.0038e+03  2e+01  5e-05  2e-13\n",
      "13: -9.9231e+02 -9.9606e+02  4e+00  4e-06  3e-13\n",
      "14: -9.9350e+02 -9.9449e+02  1e+00  2e-12  3e-13\n",
      "15: -9.9397e+02 -9.9401e+02  4e-02  6e-13  3e-13\n",
      "16: -9.9399e+02 -9.9399e+02  7e-04  9e-13  3e-13\n",
      "Optimal solution found.\n",
      "0.9225\n",
      "training  1 4\n",
      "     pcost       dcost       gap    pres   dres\n",
      " 0: -1.7663e+03 -1.4148e+04  9e+04  4e+00  4e-13\n",
      " 1: -1.1604e+03 -9.8276e+03  2e+04  4e-01  3e-13\n",
      " 2: -1.0206e+03 -2.4965e+03  1e+03  3e-03  3e-13\n",
      " 3: -1.2325e+03 -1.9084e+03  7e+02  1e-03  3e-13\n",
      " 4: -1.3067e+03 -1.7634e+03  5e+02  8e-04  3e-13\n",
      " 5: -1.3628e+03 -1.6564e+03  3e+02  4e-04  3e-13\n",
      " 6: -1.4011e+03 -1.5854e+03  2e+02  2e-04  3e-13\n",
      " 7: -1.4198e+03 -1.5525e+03  1e+02  1e-04  3e-13\n",
      " 8: -1.4446e+03 -1.5110e+03  7e+01  6e-05  3e-13\n",
      " 9: -1.4564e+03 -1.4917e+03  4e+01  3e-05  3e-13\n",
      "10: -1.4661e+03 -1.4773e+03  1e+01  7e-06  3e-13\n",
      "11: -1.4699e+03 -1.4720e+03  2e+00  6e-07  4e-13\n",
      "12: -1.4708e+03 -1.4710e+03  2e-01  4e-08  4e-13\n",
      "13: -1.4709e+03 -1.4709e+03  8e-03  1e-09  4e-13\n",
      "14: -1.4709e+03 -1.4709e+03  1e-04  2e-11  4e-13\n",
      "Optimal solution found.\n",
      "0.87\n",
      "training  1 5\n",
      "     pcost       dcost       gap    pres   dres\n",
      " 0: -2.3072e+03 -1.3717e+04  7e+04  3e+00  4e-13\n",
      " 1: -1.5679e+03 -9.6852e+03  1e+04  3e-01  5e-13\n",
      " 2: -1.6386e+03 -3.1445e+03  2e+03  3e-02  4e-13\n",
      " 3: -1.9151e+03 -2.4883e+03  6e+02  8e-03  4e-13\n",
      " 4: -2.0447e+03 -2.2664e+03  2e+02  3e-03  4e-13\n",
      " 5: -2.1019e+03 -2.1810e+03  8e+01  8e-04  4e-13\n",
      " 6: -2.1237e+03 -2.1503e+03  3e+01  2e-04  5e-13\n",
      " 7: -2.1312e+03 -2.1402e+03  9e+00  5e-05  5e-13\n",
      " 8: -2.1349e+03 -2.1355e+03  7e-01  1e-06  5e-13\n",
      " 9: -2.1352e+03 -2.1352e+03  5e-02  9e-08  5e-13\n",
      "10: -2.1352e+03 -2.1352e+03  1e-03  2e-09  5e-13\n",
      "Optimal solution found.\n",
      "0.835\n",
      "training  2 3\n",
      "     pcost       dcost       gap    pres   dres\n",
      " 0: -2.8756e+03 -1.3623e+04  7e+04  3e+00  6e-13\n",
      " 1: -1.9595e+03 -9.6782e+03  1e+04  2e-01  6e-13\n",
      " 2: -2.0714e+03 -3.2555e+03  1e+03  2e-02  5e-13\n",
      " 3: -2.3553e+03 -2.8438e+03  5e+02  7e-03  5e-13\n",
      " 4: -2.4555e+03 -2.7095e+03  3e+02  3e-03  5e-13\n",
      " 5: -2.5129e+03 -2.6328e+03  1e+02  1e-03  5e-13\n",
      " 6: -2.5418e+03 -2.5953e+03  5e+01  4e-04  5e-13\n",
      " 7: -2.5564e+03 -2.5768e+03  2e+01  1e-04  5e-13\n",
      " 8: -2.5631e+03 -2.5686e+03  6e+00  3e-05  6e-13\n",
      " 9: -2.5652e+03 -2.5660e+03  8e-01  3e-06  6e-13\n",
      "10: -2.5656e+03 -2.5656e+03  5e-02  2e-07  6e-13\n",
      "11: -2.5656e+03 -2.5656e+03  2e-03  6e-09  6e-13\n",
      "Optimal solution found.\n",
      "0.7975\n",
      "training  2 4\n",
      "     pcost       dcost       gap    pres   dres\n",
      " 0: -3.7670e+03 -1.3523e+04  6e+04  3e+00  6e-13\n",
      " 1: -2.6607e+03 -9.6869e+03  8e+03  1e-01  7e-13\n",
      " 2: -2.9762e+03 -4.0796e+03  1e+03  2e-02  6e-13\n",
      " 3: -3.3819e+03 -3.5943e+03  2e+02  2e-03  7e-13\n",
      " 4: -3.4574e+03 -3.5230e+03  7e+01  5e-04  7e-13\n",
      " 5: -3.4843e+03 -3.4964e+03  1e+01  7e-05  8e-13\n",
      " 6: -3.4893e+03 -3.4913e+03  2e+00  9e-06  8e-13\n",
      " 7: -3.4902e+03 -3.4904e+03  1e-01  5e-07  8e-13\n",
      " 8: -3.4903e+03 -3.4903e+03  4e-03  1e-08  8e-13\n",
      " 9: -3.4903e+03 -3.4903e+03  9e-05  3e-10  8e-13\n",
      "Optimal solution found.\n",
      "0.69\n",
      "training  2 5\n",
      "     pcost       dcost       gap    pres   dres\n",
      " 0: -1.9575e+03 -1.4439e+04  8e+04  4e+00  4e-13\n",
      " 1: -1.2568e+03 -1.0269e+04  1e+04  3e-01  4e-13\n",
      " 2: -1.2202e+03 -2.4916e+03  1e+03  8e-03  4e-13\n",
      " 3: -1.4258e+03 -2.1478e+03  7e+02  4e-03  3e-13\n",
      " 4: -1.5380e+03 -1.9666e+03  4e+02  2e-03  3e-13\n",
      " 5: -1.6063e+03 -1.8621e+03  3e+02  1e-03  3e-13\n",
      " 6: -1.6535e+03 -1.7935e+03  1e+02  5e-04  3e-13\n",
      " 7: -1.6791e+03 -1.7575e+03  8e+01  3e-04  4e-13\n",
      " 8: -1.6938e+03 -1.7375e+03  4e+01  1e-04  4e-13\n",
      " 9: -1.7058e+03 -1.7211e+03  2e+01  3e-05  4e-13\n",
      "10: -1.7116e+03 -1.7139e+03  2e+00  3e-06  4e-13\n",
      "11: -1.7126e+03 -1.7127e+03  1e-01  1e-07  4e-13\n",
      "12: -1.7126e+03 -1.7127e+03  5e-03  4e-09  4e-13\n",
      "13: -1.7127e+03 -1.7127e+03  1e-04  8e-11  4e-13\n",
      "Optimal solution found.\n",
      "0.88\n",
      "training  3 4\n",
      "     pcost       dcost       gap    pres   dres\n",
      " 0: -3.4912e+03 -1.3863e+04  6e+04  3e+00  6e-13\n",
      " 1: -2.4344e+03 -1.0058e+04  1e+04  2e-01  7e-13\n",
      " 2: -2.6495e+03 -3.7859e+03  1e+03  2e-02  6e-13\n",
      " 3: -3.0479e+03 -3.3180e+03  3e+02  4e-03  6e-13\n",
      " 4: -3.1344e+03 -3.2401e+03  1e+02  1e-03  7e-13\n",
      " 5: -3.1712e+03 -3.2042e+03  3e+01  3e-04  7e-13\n",
      " 6: -3.1838e+03 -3.1918e+03  8e+00  6e-05  7e-13\n",
      " 7: -3.1874e+03 -3.1882e+03  8e-01  5e-06  7e-13\n",
      " 8: -3.1878e+03 -3.1878e+03  4e-02  2e-07  7e-13\n",
      " 9: -3.1878e+03 -3.1878e+03  2e-03  8e-09  8e-13\n",
      "Optimal solution found.\n",
      "0.7775\n",
      "training  3 5\n",
      "     pcost       dcost       gap    pres   dres\n",
      " 0: -1.8815e+03 -1.4406e+04  9e+04  4e+00  3e-13\n",
      " 1: -1.2270e+03 -1.0131e+04  1e+04  3e-01  4e-13\n",
      " 2: -1.2355e+03 -2.6041e+03  1e+03  2e-02  4e-13\n",
      " 3: -1.4562e+03 -2.1432e+03  7e+02  7e-03  3e-13\n",
      " 4: -1.5724e+03 -1.9292e+03  4e+02  3e-03  3e-13\n",
      " 5: -1.6238e+03 -1.8452e+03  2e+02  2e-03  3e-13\n",
      " 6: -1.6598e+03 -1.7885e+03  1e+02  9e-04  3e-13\n",
      " 7: -1.6834e+03 -1.7527e+03  7e+01  5e-04  3e-13\n",
      " 8: -1.6982e+03 -1.7307e+03  3e+01  2e-04  4e-13\n",
      " 9: -1.7070e+03 -1.7184e+03  1e+01  5e-05  4e-13\n",
      "10: -1.7105e+03 -1.7137e+03  3e+00  1e-05  4e-13\n",
      "11: -1.7116e+03 -1.7123e+03  7e-01  2e-06  4e-13\n",
      "12: -1.7119e+03 -1.7120e+03  4e-02  8e-08  4e-13\n",
      "13: -1.7119e+03 -1.7119e+03  2e-03  3e-09  4e-13\n",
      "Optimal solution found.\n",
      "0.86\n",
      "training  4 5\n",
      "     pcost       dcost       gap    pres   dres\n",
      " 0: -2.5306e+03 -1.2907e+04  6e+04  3e+00  4e-13\n",
      " 1: -1.7623e+03 -8.9349e+03  1e+04  2e-01  5e-13\n",
      " 2: -1.8753e+03 -2.9773e+03  1e+03  2e-02  4e-13\n",
      " 3: -2.0884e+03 -2.6790e+03  6e+02  9e-03  4e-13\n",
      " 4: -2.2266e+03 -2.4729e+03  3e+02  3e-03  4e-13\n",
      " 5: -2.2818e+03 -2.3991e+03  1e+02  1e-03  5e-13\n",
      " 6: -2.3138e+03 -2.3573e+03  4e+01  4e-04  5e-13\n",
      " 7: -2.3291e+03 -2.3380e+03  9e+00  6e-05  5e-13\n",
      " 8: -2.3324e+03 -2.3341e+03  2e+00  9e-06  5e-13\n",
      " 9: -2.3331e+03 -2.3333e+03  1e-01  7e-07  5e-13\n",
      "10: -2.3332e+03 -2.3332e+03  9e-03  3e-08  6e-13\n",
      "11: -2.3332e+03 -2.3332e+03  2e-04  6e-10  6e-13\n",
      "Optimal solution found.\n",
      "0.8325\n"
     ]
    }
   ],
   "source": [
    "for i in range(6):\n",
    "    for j in range(i, 6):\n",
    "        if i==j:\n",
    "            continue\n",
    "        print(\"training \",i, j)\n",
    "        classifiers_cvxopt[i][j] = get_classifier_cvxopt(i, j)\n",
    "        classifiers_cvxopt[j][i] = classifiers_cvxopt[i][j]"
   ],
   "metadata": {
    "collapsed": false,
    "ExecuteTime": {
     "end_time": "2023-10-04T14:28:56.922823Z",
     "start_time": "2023-10-04T14:12:29.407754Z"
    }
   },
   "id": "fab3db82d9565f98"
  },
  {
   "cell_type": "code",
   "execution_count": 72,
   "outputs": [],
   "source": [
    "# load all images for validation\n",
    "X_val_all = load_images_from_folder(f\"../data/svm/val/0\")\n",
    "y_val_all = np.zeros(len(X_val_all))\n",
    "\n",
    "for img_class in range(1, 6):\n",
    "    class_images = load_images_from_folder(f\"../data/svm/val/{img_class}\")\n",
    "    X_val_all = np.concatenate((X_val_all, class_images))\n",
    "    y_val_all = np.concatenate((y_val_all, img_class * np.ones(len(class_images))))"
   ],
   "metadata": {
    "collapsed": false,
    "ExecuteTime": {
     "end_time": "2023-10-04T14:59:13.463872Z",
     "start_time": "2023-10-04T14:59:12.357893Z"
    }
   },
   "id": "187fd184b61d0e2e"
  },
  {
   "cell_type": "code",
   "execution_count": 73,
   "outputs": [],
   "source": [
    "predictions_gaussian = []\n",
    "\n",
    "for i in range(6):\n",
    "    for j in range(i, 6):\n",
    "        if i==j:\n",
    "            continue\n",
    "        predictions_raw = classifiers_cvxopt[i][j](X_val_all)\n",
    "        predictions_gaussian.append(i * (predictions_raw == -1) + j * (predictions_raw == 1))"
   ],
   "metadata": {
    "collapsed": false,
    "ExecuteTime": {
     "end_time": "2023-10-04T14:59:45.773783Z",
     "start_time": "2023-10-04T14:59:16.282994Z"
    }
   },
   "id": "cf8a1307986df7f0"
  },
  {
   "cell_type": "code",
   "execution_count": 74,
   "outputs": [
    {
     "data": {
      "text/plain": "[array([0, 0, 0, ..., 0, 0, 0]),\n array([2, 0, 0, ..., 0, 0, 0]),\n array([0, 0, 0, ..., 0, 0, 0]),\n array([4, 0, 0, ..., 0, 0, 0]),\n array([0, 0, 0, ..., 5, 5, 5]),\n array([2, 1, 1, ..., 2, 1, 1]),\n array([3, 1, 1, ..., 3, 1, 1]),\n array([4, 4, 4, ..., 4, 1, 1]),\n array([5, 5, 5, ..., 5, 5, 5]),\n array([2, 3, 3, ..., 2, 3, 3]),\n array([2, 4, 4, ..., 2, 4, 4]),\n array([2, 5, 5, ..., 5, 5, 5]),\n array([4, 4, 4, ..., 3, 4, 4]),\n array([3, 5, 5, ..., 5, 5, 5]),\n array([4, 5, 4, ..., 5, 5, 5])]"
     },
     "execution_count": 74,
     "metadata": {},
     "output_type": "execute_result"
    }
   ],
   "source": [
    "predictions_gaussian"
   ],
   "metadata": {
    "collapsed": false,
    "ExecuteTime": {
     "end_time": "2023-10-04T14:59:45.812288Z",
     "start_time": "2023-10-04T14:59:45.794902Z"
    }
   },
   "id": "f4b856c04131d536"
  },
  {
   "cell_type": "code",
   "execution_count": 75,
   "outputs": [
    {
     "name": "stdout",
     "output_type": "stream",
     "text": [
      "0.56\n"
     ]
    }
   ],
   "source": [
    "predictions_gaussian = np.array(predictions_gaussian)\n",
    "\n",
    "pred = np.zeros(len(X_val_all))\n",
    "\n",
    "for i in range(len(X_val_all)):\n",
    "    pred[i] = np.argmax(np.bincount(predictions_gaussian[:, i].astype(int)))\n",
    "    \n",
    "print(np.sum(pred == y_val_all) / len(y_val_all))"
   ],
   "metadata": {
    "collapsed": false,
    "ExecuteTime": {
     "end_time": "2023-10-04T14:59:45.866327Z",
     "start_time": "2023-10-04T14:59:45.816735Z"
    }
   },
   "id": "b491f62a7a80dc14"
  },
  {
   "cell_type": "code",
   "execution_count": 2,
   "outputs": [
    {
     "ename": "NameError",
     "evalue": "name 'y_val_all' is not defined",
     "output_type": "error",
     "traceback": [
      "\u001B[0;31m---------------------------------------------------------------------------\u001B[0m",
      "\u001B[0;31mNameError\u001B[0m                                 Traceback (most recent call last)",
      "Cell \u001B[0;32mIn[2], line 6\u001B[0m\n\u001B[1;32m      3\u001B[0m \u001B[38;5;28;01mimport\u001B[39;00m \u001B[38;5;21;01mmatplotlib\u001B[39;00m\u001B[38;5;21;01m.\u001B[39;00m\u001B[38;5;21;01mpyplot\u001B[39;00m \u001B[38;5;28;01mas\u001B[39;00m \u001B[38;5;21;01mplt\u001B[39;00m\n\u001B[1;32m      5\u001B[0m \u001B[38;5;66;03m# Compute the confusion matrix\u001B[39;00m\n\u001B[0;32m----> 6\u001B[0m cm \u001B[38;5;241m=\u001B[39m confusion_matrix(\u001B[43my_val_all\u001B[49m, pred)\n\u001B[1;32m      8\u001B[0m \u001B[38;5;66;03m# Display the confusion matrix using a heatmap\u001B[39;00m\n\u001B[1;32m      9\u001B[0m plt\u001B[38;5;241m.\u001B[39mfigure(figsize\u001B[38;5;241m=\u001B[39m(\u001B[38;5;241m8\u001B[39m,\u001B[38;5;241m6\u001B[39m))\n",
      "\u001B[0;31mNameError\u001B[0m: name 'y_val_all' is not defined"
     ]
    }
   ],
   "source": [
    "from sklearn.metrics import confusion_matrix\n",
    "import seaborn as sns\n",
    "import matplotlib.pyplot as plt\n",
    "\n",
    "# Compute the confusion matrix\n",
    "cm = confusion_matrix(y_val_all, y_pred_all)\n",
    "\n",
    "# Display the confusion matrix using a heatmap\n",
    "plt.figure(figsize=(8,6))\n",
    "sns.heatmap(cm, annot=True, cmap='Blues', fmt='g')\n",
    "plt.xlabel('Predicted labels')\n",
    "plt.ylabel('True labels')\n",
    "plt.title('Confusion Matrix')\n",
    "plt.show()"
   ],
   "metadata": {
    "collapsed": false,
    "ExecuteTime": {
     "end_time": "2023-10-04T17:19:13.541164Z",
     "start_time": "2023-10-04T17:19:13.422769Z"
    }
   },
   "id": "c23c7c75b151f2d6"
  }
 ],
 "metadata": {
  "kernelspec": {
   "display_name": "Python 3",
   "language": "python",
   "name": "python3"
  },
  "language_info": {
   "codemirror_mode": {
    "name": "ipython",
    "version": 2
   },
   "file_extension": ".py",
   "mimetype": "text/x-python",
   "name": "python",
   "nbconvert_exporter": "python",
   "pygments_lexer": "ipython2",
   "version": "2.7.6"
  }
 },
 "nbformat": 4,
 "nbformat_minor": 5
}
