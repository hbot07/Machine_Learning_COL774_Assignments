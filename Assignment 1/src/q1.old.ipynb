{
 "cells": [
  {
   "cell_type": "code",
   "execution_count": null,
   "metadata": {
    "collapsed": true,
    "is_executing": true
   },
   "outputs": [],
   "source": [
    "print(\"hello world!\")"
   ]
  },
  {
   "cell_type": "markdown",
   "source": [
    "Load Data"
   ],
   "metadata": {
    "collapsed": false
   }
  },
  {
   "cell_type": "code",
   "execution_count": null,
   "outputs": [],
   "source": [
    "import numpy as np\n",
    "\n",
    "x = np.loadtxt('../data/q1/linearX.csv', delimiter=',')\n",
    "y = np.loadtxt('../data/q1/linearY.csv', delimiter=',')\n",
    "\n",
    "print(x.shape, y.shape)"
   ],
   "metadata": {
    "collapsed": false,
    "is_executing": true
   }
  },
  {
   "cell_type": "markdown",
   "source": [
    "Plot Data"
   ],
   "metadata": {
    "collapsed": false
   }
  },
  {
   "cell_type": "code",
   "execution_count": null,
   "outputs": [],
   "source": [
    "import matplotlib.pyplot as plt\n",
    "\n",
    "plt.scatter(x, y)\n",
    "plt.show()"
   ],
   "metadata": {
    "collapsed": false,
    "is_executing": true
   }
  },
  {
   "cell_type": "code",
   "execution_count": null,
   "outputs": [],
   "source": [
    "# normalise data\n",
    "x = (x - np.mean(x)) / np.std(x)\n",
    "\n",
    "#plot normalised data\n",
    "plt.scatter(x, y)\n",
    "plt.show()"
   ],
   "metadata": {
    "collapsed": false,
    "is_executing": true
   }
  },
  {
   "cell_type": "markdown",
   "source": [
    "Linear Regression"
   ],
   "metadata": {
    "collapsed": false
   }
  },
  {
   "cell_type": "code",
   "execution_count": null,
   "outputs": [],
   "source": [
    "# y = mx + c\n",
    "\n",
    "m = 0\n",
    "c = 0\n",
    "\n",
    "def J(m, c):\n",
    "    return np.sum((y - (m * x + c)) ** 2) / (2 * x.shape[0])\n",
    "\n",
    "print(J(m, c))"
   ],
   "metadata": {
    "collapsed": false,
    "is_executing": true
   }
  },
  {
   "cell_type": "markdown",
   "source": [
    "Gradient Descent"
   ],
   "metadata": {
    "collapsed": false
   }
  },
  {
   "cell_type": "code",
   "execution_count": null,
   "outputs": [],
   "source": [
    "# batch gradient descent\n",
    "\n",
    "def gradient_descent(learning_rate, loss_threshold):\n",
    "    global m, c\n",
    "\n",
    "    converged = False\n",
    "    num_iterations = 0\n",
    "    loss = J(m, c)\n",
    "\n",
    "    while not converged:\n",
    "        # compute gradients\n",
    "        dm = np.sum((y - (m * x + c)) * (-x)) / x.shape[0]\n",
    "        dc = np.sum((y - (m * x + c)) * (-1)) / x.shape[0]\n",
    "\n",
    "        # update parameters\n",
    "        m = m - learning_rate * dm\n",
    "        c = c - learning_rate * dc\n",
    "\n",
    "        # compute loss\n",
    "        loss, delta_loss = J(m, c), loss - J(m, c)\n",
    "\n",
    "        # print(loss, m, c)\n",
    "\n",
    "        if delta_loss < loss_threshold:\n",
    "            converged = True\n",
    "\n",
    "        num_iterations += 1\n",
    "\n",
    "    return num_iterations, loss, m, c"
   ],
   "metadata": {
    "collapsed": false,
    "is_executing": true
   }
  },
  {
   "cell_type": "code",
   "execution_count": null,
   "outputs": [],
   "source": [
    "# plot line\n",
    "plt.scatter(x, y)\n",
    "plt.plot(x, m * x + c, color='red')\n",
    "plt.show()"
   ],
   "metadata": {
    "collapsed": false,
    "is_executing": true
   }
  },
  {
   "cell_type": "code",
   "execution_count": null,
   "outputs": [],
   "source": [
    "# epochs = 10\n",
    "# for i in range(1, epochs+1):\n",
    "#     print(\"epoch: \", i)\n",
    "#     print(gradient_descent(0.1**i, 0.1**9))\n",
    "\n",
    "gradient_descent(0.01, 0.1**9)"
   ],
   "metadata": {
    "collapsed": false,
    "is_executing": true
   }
  },
  {
   "cell_type": "code",
   "execution_count": null,
   "outputs": [],
   "source": [
    "# plot line after training\n",
    "print(m, c)\n",
    "plt.scatter(x, y)\n",
    "plt.plot(x, m * x + c, color='red')\n",
    "plt.show()"
   ],
   "metadata": {
    "collapsed": false,
    "is_executing": true
   }
  },
  {
   "cell_type": "code",
   "execution_count": null,
   "outputs": [],
   "source": [],
   "metadata": {
    "collapsed": false,
    "is_executing": true
   }
  }
 ],
 "metadata": {
  "kernelspec": {
   "display_name": "Python 3",
   "language": "python",
   "name": "python3"
  },
  "language_info": {
   "codemirror_mode": {
    "name": "ipython",
    "version": 2
   },
   "file_extension": ".py",
   "mimetype": "text/x-python",
   "name": "python",
   "nbconvert_exporter": "python",
   "pygments_lexer": "ipython2",
   "version": "2.7.6"
  }
 },
 "nbformat": 4,
 "nbformat_minor": 0
}
