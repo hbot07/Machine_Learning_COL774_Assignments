{
 "cells": [
  {
   "cell_type": "markdown",
   "source": [
    "# Ordinal Encoding"
   ],
   "metadata": {
    "collapsed": false
   },
   "id": "9334e4df30caf37a"
  },
  {
   "cell_type": "code",
   "execution_count": 1,
   "id": "initial_id",
   "metadata": {
    "collapsed": true,
    "ExecuteTime": {
     "end_time": "2023-11-04T12:04:30.108579Z",
     "start_time": "2023-11-04T12:04:27.240812Z"
    }
   },
   "outputs": [],
   "source": [
    "from sklearn.preprocessing import OrdinalEncoder, OneHotEncoder\n",
    "import pandas as pd\n",
    "import numpy as np\n",
    "\n",
    "label_encoder = None \n",
    "\n",
    "def get_np_array(file_name):\n",
    "    global label_encoder\n",
    "    data = pd.read_csv(file_name)\n",
    "    \n",
    "    need_label_encoding = ['team','host','opp','month', 'day_match']\n",
    "    if(label_encoder is None):\n",
    "        label_encoder = OrdinalEncoder()\n",
    "        label_encoder.fit(data[need_label_encoding])\n",
    "    data_1 = pd.DataFrame(label_encoder.transform(data[need_label_encoding]), columns = label_encoder.get_feature_names_out())\n",
    "    \n",
    "    #merge the two dataframes\n",
    "    dont_need_label_encoding =  [\"year\",\"toss\",\"bat_first\",\"format\" ,\"fow\",\"score\" ,\"rpo\" ,\"result\"]\n",
    "    data_2 = data[dont_need_label_encoding]\n",
    "    final_data = pd.concat([data_1, data_2], axis=1)\n",
    "    \n",
    "    X = final_data.iloc[:,:-1]\n",
    "    y = final_data.iloc[:,-1:]\n",
    "    return X.to_numpy(), y.to_numpy()"
   ]
  },
  {
   "cell_type": "code",
   "execution_count": 2,
   "outputs": [
    {
     "data": {
      "text/plain": "   Unnamed: 0         team           opp       host  year month  toss  \\\n0        4901    australia  south_africa  sri_lanka  2012   sep     1   \n1        1910        india     australia      india  2020   jan     0   \n2        5735       canada      scotland   scotland  2009   jul     1   \n3        2136    australia       england  australia  1987   jan     1   \n4        4371  new_zealand      pakistan        uae  2009   nov     0   \n\n   day_match  bat_first  format  fow  score   rpo  result  \n0          0          0       1    5    146  7.30       1  \n1          0          1       0    6    340  6.80       1  \n2          1          0       0    4    286  5.72       1  \n3          1          1       0    6    225  4.50       1  \n4          0          0       1    5    153  7.65       0  ",
      "text/html": "<div>\n<style scoped>\n    .dataframe tbody tr th:only-of-type {\n        vertical-align: middle;\n    }\n\n    .dataframe tbody tr th {\n        vertical-align: top;\n    }\n\n    .dataframe thead th {\n        text-align: right;\n    }\n</style>\n<table border=\"1\" class=\"dataframe\">\n  <thead>\n    <tr style=\"text-align: right;\">\n      <th></th>\n      <th>Unnamed: 0</th>\n      <th>team</th>\n      <th>opp</th>\n      <th>host</th>\n      <th>year</th>\n      <th>month</th>\n      <th>toss</th>\n      <th>day_match</th>\n      <th>bat_first</th>\n      <th>format</th>\n      <th>fow</th>\n      <th>score</th>\n      <th>rpo</th>\n      <th>result</th>\n    </tr>\n  </thead>\n  <tbody>\n    <tr>\n      <th>0</th>\n      <td>4901</td>\n      <td>australia</td>\n      <td>south_africa</td>\n      <td>sri_lanka</td>\n      <td>2012</td>\n      <td>sep</td>\n      <td>1</td>\n      <td>0</td>\n      <td>0</td>\n      <td>1</td>\n      <td>5</td>\n      <td>146</td>\n      <td>7.30</td>\n      <td>1</td>\n    </tr>\n    <tr>\n      <th>1</th>\n      <td>1910</td>\n      <td>india</td>\n      <td>australia</td>\n      <td>india</td>\n      <td>2020</td>\n      <td>jan</td>\n      <td>0</td>\n      <td>0</td>\n      <td>1</td>\n      <td>0</td>\n      <td>6</td>\n      <td>340</td>\n      <td>6.80</td>\n      <td>1</td>\n    </tr>\n    <tr>\n      <th>2</th>\n      <td>5735</td>\n      <td>canada</td>\n      <td>scotland</td>\n      <td>scotland</td>\n      <td>2009</td>\n      <td>jul</td>\n      <td>1</td>\n      <td>1</td>\n      <td>0</td>\n      <td>0</td>\n      <td>4</td>\n      <td>286</td>\n      <td>5.72</td>\n      <td>1</td>\n    </tr>\n    <tr>\n      <th>3</th>\n      <td>2136</td>\n      <td>australia</td>\n      <td>england</td>\n      <td>australia</td>\n      <td>1987</td>\n      <td>jan</td>\n      <td>1</td>\n      <td>1</td>\n      <td>1</td>\n      <td>0</td>\n      <td>6</td>\n      <td>225</td>\n      <td>4.50</td>\n      <td>1</td>\n    </tr>\n    <tr>\n      <th>4</th>\n      <td>4371</td>\n      <td>new_zealand</td>\n      <td>pakistan</td>\n      <td>uae</td>\n      <td>2009</td>\n      <td>nov</td>\n      <td>0</td>\n      <td>0</td>\n      <td>0</td>\n      <td>1</td>\n      <td>5</td>\n      <td>153</td>\n      <td>7.65</td>\n      <td>0</td>\n    </tr>\n  </tbody>\n</table>\n</div>"
     },
     "execution_count": 2,
     "metadata": {},
     "output_type": "execute_result"
    }
   ],
   "source": [
    "train_data = pd.read_csv('train.csv')\n",
    "train_data.head()\n"
   ],
   "metadata": {
    "collapsed": false,
    "ExecuteTime": {
     "end_time": "2023-11-04T12:04:30.225082Z",
     "start_time": "2023-11-04T12:04:30.106937Z"
    }
   },
   "id": "75873bfb19a9a9de"
  },
  {
   "cell_type": "code",
   "execution_count": 3,
   "outputs": [
    {
     "data": {
      "text/plain": "((7827, 12), (7827, 1))"
     },
     "execution_count": 3,
     "metadata": {},
     "output_type": "execute_result"
    }
   ],
   "source": [
    "X_train, y_train = get_np_array('train.csv')\n",
    "\n",
    "# Printing the shape of the training data to verify its structure\n",
    "X_train.shape, y_train.shape"
   ],
   "metadata": {
    "collapsed": false,
    "ExecuteTime": {
     "end_time": "2023-11-04T12:04:30.297941Z",
     "start_time": "2023-11-04T12:04:30.161281Z"
    }
   },
   "id": "531898f38cf5f264"
  },
  {
   "cell_type": "code",
   "execution_count": 4,
   "outputs": [],
   "source": [
    "X_test, y_test = get_np_array('test.csv')"
   ],
   "metadata": {
    "collapsed": false,
    "ExecuteTime": {
     "end_time": "2023-11-04T12:04:30.298447Z",
     "start_time": "2023-11-04T12:04:30.196006Z"
    }
   },
   "id": "fed035cfb1007533"
  },
  {
   "cell_type": "code",
   "execution_count": 5,
   "outputs": [],
   "source": [
    "# Identifying which columns are continuous for the decision tree construction\n",
    "types = ['cat', 'cat', 'cat', \"cat\", \"cat\", \"cont\", \"cat\", \"cat\", \"cat\", \"cont\", \"cont\", \"cont\"]\n",
    "continuous_columns = [i for i, t in enumerate(types) if t == 'cont']\n"
   ],
   "metadata": {
    "collapsed": false,
    "ExecuteTime": {
     "end_time": "2023-11-04T12:04:30.298727Z",
     "start_time": "2023-11-04T12:04:30.209221Z"
    }
   },
   "id": "8a21a25c13bb289"
  },
  {
   "cell_type": "code",
   "execution_count": 56,
   "outputs": [
    {
     "data": {
      "text/plain": "0.5729058945191313"
     },
     "execution_count": 56,
     "metadata": {},
     "output_type": "execute_result"
    }
   ],
   "source": [
    "class DTNode:\n",
    "    def __init__(self, depth, is_leaf=False, value=None, column=None, median=None):\n",
    "        self.depth = depth\n",
    "        self.is_leaf = is_leaf\n",
    "        self.value = value\n",
    "        self.column = column\n",
    "        self.median = median\n",
    "        self.children = {}\n",
    "\n",
    "    def get_child(self, X):\n",
    "        if self.is_leaf:\n",
    "            return self\n",
    "\n",
    "        feature_value = X[self.column]\n",
    "        if self.column in continuous_columns:\n",
    "            if feature_value > self.median:\n",
    "                return self.children.get('right')\n",
    "            else:\n",
    "                return self.children.get('left')\n",
    "        else:\n",
    "            return self.children.get(feature_value)\n",
    "\n",
    "\n",
    "class DTTree:\n",
    "    def __init__(self):\n",
    "        self.root = None\n",
    "\n",
    "    def fit(self, X, y, types, max_depth=10):\n",
    "        self.root = self._fit_recursive(X, y, depth=0, max_depth=max_depth, types=types)\n",
    "\n",
    "    def _fit_recursive(self, X, y, depth, max_depth, types):\n",
    "        if depth == max_depth or len(np.unique(y)) == 1:\n",
    "            return DTNode(depth, is_leaf=True, value=np.argmax(np.bincount(y.flatten())))\n",
    "\n",
    "        best_feature, best_median = self._find_best_split(X, y, types)\n",
    "        if best_feature is None:\n",
    "            return DTNode(depth, is_leaf=True, value=np.argmax(np.bincount(y.flatten())))\n",
    "\n",
    "        node = DTNode(depth, column=best_feature, median=best_median, value=np.argmax(np.bincount(y.flatten())))\n",
    "        \n",
    "        if types[best_feature] == 'cont':\n",
    "            left_indices = X[:, best_feature] <= best_median\n",
    "            right_indices = X[:, best_feature] > best_median\n",
    "            if sum(left_indices) == 0:\n",
    "                return DTNode(depth, is_leaf=True, value=np.argmax(np.bincount(y.flatten())))\n",
    "            if sum(right_indices) == 0:\n",
    "                return DTNode(depth, is_leaf=True, value=np.argmax(np.bincount(y.flatten())))\n",
    "            node.children['left'] = self._fit_recursive(X[left_indices], y[left_indices], depth+1, max_depth, types)\n",
    "            node.children['right'] = self._fit_recursive(X[right_indices], y[right_indices], depth+1, max_depth, types)\n",
    "        else:\n",
    "            unique_values = np.unique(X[:, best_feature])\n",
    "            for value in unique_values:\n",
    "                indices = X[:, best_feature] == value\n",
    "                node.children[value] = self._fit_recursive(X[indices], y[indices], depth+1, max_depth, types)\n",
    "\n",
    "        if not node.children:\n",
    "            return DTNode(depth, is_leaf=True, value=np.argmax(np.bincount(y.flatten())))\n",
    "        \n",
    "        return node\n",
    "\n",
    "    def _find_best_split(self, X, y, types):\n",
    "        best_feature = None\n",
    "        best_median = None\n",
    "        best_mutual_info = -np.inf\n",
    "\n",
    "        for feature in range(X.shape[1]):\n",
    "            if types[feature] == 'cont':\n",
    "                median = np.median(X[:, feature])\n",
    "                left = y[X[:, feature] <= median]\n",
    "                right = y[X[:, feature] > median]\n",
    "                mutual_info = self._calculate_mutual_information(y, left, right)\n",
    "            else:\n",
    "                mutual_info = self._calculate_mutual_information(y, *[y[X[:, feature] == value] for value in np.unique(X[:, feature])])\n",
    "\n",
    "            if mutual_info > best_mutual_info:\n",
    "                best_mutual_info = mutual_info\n",
    "                best_feature = feature\n",
    "                best_median = median if types[feature] == 'cont' else None\n",
    "\n",
    "        return best_feature, best_median\n",
    "\n",
    "    def _calculate_mutual_information(self, y, *splits):\n",
    "        total_count = sum(split.size for split in splits)\n",
    "        entropy_before = self._calculate_entropy(y)\n",
    "        entropy_after = sum(self._calculate_entropy(split) * split.size / total_count for split in splits)\n",
    "        return entropy_before - entropy_after\n",
    "\n",
    "    @staticmethod\n",
    "    def _calculate_entropy(y):\n",
    "        _, counts = np.unique(y, return_counts=True)\n",
    "        probabilities = counts / counts.sum()\n",
    "        return -np.sum(probabilities * np.log2(probabilities))\n",
    "\n",
    "    def predict(self, X):\n",
    "        predictions = np.zeros(X.shape[0])\n",
    "        for i in range(X.shape[0]):\n",
    "            node = self.root\n",
    "            while not node.is_leaf:\n",
    "                child = node.get_child(X[i])\n",
    "                if child is None:\n",
    "                    break\n",
    "                node = child\n",
    "            predictions[i] = node.value\n",
    "        return predictions.reshape(-1, 1)\n",
    "\n",
    "    def post_prune(self, X_val, y_val):\n",
    "        # TODO: Implement post-pruning\n",
    "        pass\n",
    "\n",
    "\n",
    "# Creating the decision tree and fitting it to the training data\n",
    "tree = DTTree()\n",
    "tree.fit(X_train, y_train, types, max_depth=10)\n",
    "\n",
    "# Predicting the test set labels using the trained decision tree\n",
    "y_pred_test = tree.predict(X_test)\n",
    "\n",
    "# Calculating the accuracy on the test set\n",
    "test_accuracy = np.mean(y_pred_test == y_test)\n",
    "test_accuracy"
   ],
   "metadata": {
    "collapsed": false,
    "ExecuteTime": {
     "end_time": "2023-11-04T12:31:59.157291Z",
     "start_time": "2023-11-04T12:31:56.582231Z"
    }
   },
   "id": "ff618a2c1d33e6e6"
  },
  {
   "cell_type": "code",
   "execution_count": 7,
   "outputs": [
    {
     "data": {
      "text/plain": "0.9962948767088284"
     },
     "execution_count": 7,
     "metadata": {},
     "output_type": "execute_result"
    }
   ],
   "source": [
    "# Calculate Training Accuracy\n",
    "y_pred_train = tree.predict(X_train)\n",
    "train_accuracy = np.mean(y_pred_train == y_train)\n",
    "train_accuracy"
   ],
   "metadata": {
    "collapsed": false,
    "ExecuteTime": {
     "end_time": "2023-11-04T12:04:35.022776Z",
     "start_time": "2023-11-04T12:04:34.946170Z"
    }
   },
   "id": "8a83a58a0b6e3b2f"
  },
  {
   "cell_type": "code",
   "execution_count": 8,
   "outputs": [
    {
     "name": "stdout",
     "output_type": "stream",
     "text": [
      "Training Accuracy for depth 5 : 0.8855244665900089\n",
      "Test Accuracy for depth 5 : 0.5439503619441571\n",
      "Training Accuracy for depth 10 : 0.9962948767088284\n",
      "Test Accuracy for depth 10 : 0.5656670113753878\n",
      "Training Accuracy for depth 15 : 0.9969336910693752\n",
      "Test Accuracy for depth 15 : 0.5656670113753878\n",
      "Training Accuracy for depth 20 : 0.9969336910693752\n",
      "Test Accuracy for depth 20 : 0.5656670113753878\n",
      "Training Accuracy for depth 25 : 0.9969336910693752\n",
      "Test Accuracy for depth 25 : 0.5656670113753878\n"
     ]
    }
   ],
   "source": [
    "depths = [5, 10, 15, 20, 25]\n",
    "model_of_depth = {}\n",
    "training_accuracies = []\n",
    "test_accuracies = []\n",
    "\n",
    "for depth in depths:\n",
    "    tree = DTTree()\n",
    "    tree.fit(X_train, y_train, types, max_depth=depth)\n",
    "    model_of_depth[depth] = tree\n",
    "    \n",
    "    # Print Training and Test accuracies\n",
    "    y_pred_train = tree.predict(X_train)\n",
    "    train_accuracy = np.mean(y_pred_train == y_train)\n",
    "    print(\"Training Accuracy for depth\", depth, \":\", train_accuracy)\n",
    "    training_accuracies.append(train_accuracy)\n",
    "    \n",
    "    y_pred_test = tree.predict(X_test)\n",
    "    test_accuracy = np.mean(y_pred_test == y_test)\n",
    "    print(\"Test Accuracy for depth\", depth, \":\", test_accuracy)\n",
    "    test_accuracies.append(test_accuracy)"
   ],
   "metadata": {
    "collapsed": false,
    "ExecuteTime": {
     "end_time": "2023-11-04T12:04:51.837525Z",
     "start_time": "2023-11-04T12:04:34.975086Z"
    }
   },
   "id": "f7f4d5e7669a9a9b"
  },
  {
   "cell_type": "code",
   "execution_count": 9,
   "outputs": [
    {
     "data": {
      "text/plain": "<Figure size 640x480 with 1 Axes>",
      "image/png": "[encoded data removed]"
     },
     "metadata": {},
     "output_type": "display_data"
    }
   ],
   "source": [
    "# plot the accuracies vs depths\n",
    "\n",
    "import matplotlib.pyplot as plt\n",
    "\n",
    "plt.plot(depths, training_accuracies, label=\"Training Accuracy\")\n",
    "plt.plot(depths, test_accuracies, label=\"Test Accuracy\")\n",
    "\n",
    "plt.xlabel(\"Depth\")\n",
    "plt.ylabel(\"Accuracy\")\n",
    "plt.legend()\n",
    "plt.savefig(\"(a)depth_vs_accuracy.png\")\n",
    "plt.show()"
   ],
   "metadata": {
    "collapsed": false,
    "ExecuteTime": {
     "end_time": "2023-11-04T12:04:52.537293Z",
     "start_time": "2023-11-04T12:04:51.837347Z"
    }
   },
   "id": "b6b9ab403fe6f06"
  },
  {
   "cell_type": "code",
   "execution_count": 10,
   "outputs": [
    {
     "name": "stdout",
     "output_type": "stream",
     "text": [
      "Training Accuracy for only loss prediction: 0.49661428388910184\n",
      "Training Accuracy for only win prediction: 0.5033857161108982\n",
      "Test Accuracy for only loss prediction: 0.5036194415718718\n",
      "Test Accuracy for only win prediction: 0.4963805584281282\n"
     ]
    }
   ],
   "source": [
    "# Accuracy for only win and only loss prediction\n",
    "y_pred_train_loss = np.zeros(y_train.shape)\n",
    "y_pred_train_win = np.ones(y_train.shape)\n",
    "\n",
    "y_pred_test_loss = np.zeros(y_test.shape)\n",
    "y_pred_test_win = np.ones(y_test.shape)\n",
    "\n",
    "train_accuracy_loss = np.mean(y_pred_train_loss == y_train)\n",
    "train_accuracy_win = np.mean(y_pred_train_win == y_train)\n",
    "\n",
    "test_accuracy_loss = np.mean(y_pred_test_loss == y_test)\n",
    "test_accuracy_win = np.mean(y_pred_test_win == y_test)\n",
    "\n",
    "print(\"Training Accuracy for only loss prediction:\", train_accuracy_loss)\n",
    "print(\"Training Accuracy for only win prediction:\", train_accuracy_win)\n",
    "\n",
    "print(\"Test Accuracy for only loss prediction:\", test_accuracy_loss)\n",
    "print(\"Test Accuracy for only win prediction:\", test_accuracy_win)\n"
   ],
   "metadata": {
    "collapsed": false,
    "ExecuteTime": {
     "end_time": "2023-11-04T12:04:52.549889Z",
     "start_time": "2023-11-04T12:04:52.542478Z"
    }
   },
   "id": "922d26e91a268376"
  },
  {
   "cell_type": "markdown",
   "source": [
    "# One Hot Encoding"
   ],
   "metadata": {
    "collapsed": false
   },
   "id": "6d29d8f553807082"
  },
  {
   "cell_type": "code",
   "execution_count": 11,
   "outputs": [],
   "source": [
    "label_encoder = None\n",
    "\n",
    "def get_np_array_one_hot(file_name):\n",
    "    global label_encoder\n",
    "    data = pd.read_csv(file_name)\n",
    "    \n",
    "    need_label_encoding = ['team','host','opp','month', 'day_match']\n",
    "    if(label_encoder is None):\n",
    "        label_encoder = OneHotEncoder(sparse_output=False)\n",
    "        label_encoder.fit(data[need_label_encoding])\n",
    "    data_1 = pd.DataFrame(label_encoder.transform(data[need_label_encoding]), columns = label_encoder.get_feature_names_out())\n",
    "    \n",
    "    #merge the two dataframes\n",
    "    dont_need_label_encoding =  [\"year\",\"toss\",\"bat_first\",\"format\" ,\"fow\",\"score\" ,\"rpo\" ,\"result\"]\n",
    "    data_2 = data[dont_need_label_encoding]\n",
    "    final_data = pd.concat([data_1, data_2], axis=1)\n",
    "    \n",
    "    X = final_data.iloc[:,:-1]\n",
    "    y = final_data.iloc[:,-1:]\n",
    "    return X.to_numpy(), y.to_numpy()"
   ],
   "metadata": {
    "collapsed": false,
    "ExecuteTime": {
     "end_time": "2023-11-04T12:04:52.560281Z",
     "start_time": "2023-11-04T12:04:52.551410Z"
    }
   },
   "id": "176df2d88895fd3c"
  },
  {
   "cell_type": "code",
   "execution_count": 12,
   "outputs": [
    {
     "data": {
      "text/plain": "((7827, 79), (7827, 1), (967, 79), (967, 1))"
     },
     "execution_count": 12,
     "metadata": {},
     "output_type": "execute_result"
    }
   ],
   "source": [
    "# Loading the one-hot encoded training and test data\n",
    "X_train_one_hot, y_train_one_hot = get_np_array_one_hot('train.csv')\n",
    "X_test_one_hot, y_test_one_hot = get_np_array_one_hot('test.csv')\n",
    "\n",
    "# Displaying the shapes of the one-hot encoded datasets\n",
    "X_train_one_hot.shape, y_train_one_hot.shape, X_test_one_hot.shape, y_test_one_hot.shape"
   ],
   "metadata": {
    "collapsed": false,
    "ExecuteTime": {
     "end_time": "2023-11-04T12:04:52.736327Z",
     "start_time": "2023-11-04T12:04:52.555777Z"
    }
   },
   "id": "29ad69a9c02d5fe6"
  },
  {
   "cell_type": "code",
   "execution_count": 13,
   "outputs": [
    {
     "data": {
      "text/plain": "array([[1],\n       [1],\n       [1],\n       [1],\n       [0],\n       [1],\n       [0],\n       [0],\n       [1],\n       [1]])"
     },
     "execution_count": 13,
     "metadata": {},
     "output_type": "execute_result"
    }
   ],
   "source": [
    "y_train_one_hot[:10]"
   ],
   "metadata": {
    "collapsed": false,
    "ExecuteTime": {
     "end_time": "2023-11-04T12:04:52.737866Z",
     "start_time": "2023-11-04T12:04:52.608614Z"
    }
   },
   "id": "686295061447d097"
  },
  {
   "cell_type": "code",
   "execution_count": 14,
   "outputs": [],
   "source": [
    "\n",
    "# Function to calculate accuracy\n",
    "def calculate_accuracy(y_true, y_pred):\n",
    "    return np.mean(y_true == y_pred)"
   ],
   "metadata": {
    "collapsed": false,
    "ExecuteTime": {
     "end_time": "2023-11-04T12:04:52.738135Z",
     "start_time": "2023-11-04T12:04:52.612991Z"
    }
   },
   "id": "87b1ad682e02e60b"
  },
  {
   "cell_type": "code",
   "execution_count": 15,
   "outputs": [],
   "source": [
    "# Identifying which columns are continuous for the decision tree construction\n",
    "types = [\"cont\"] * X_train_one_hot.shape[1]\n",
    "continuous_columns = [i for i, t in enumerate(types) if t == 'cont']"
   ],
   "metadata": {
    "collapsed": false,
    "ExecuteTime": {
     "end_time": "2023-11-04T12:04:52.738339Z",
     "start_time": "2023-11-04T12:04:52.617182Z"
    }
   },
   "id": "f1236e53bb033990"
  },
  {
   "cell_type": "code",
   "execution_count": 16,
   "outputs": [
    {
     "data": {
      "text/plain": "[0,\n 1,\n 2,\n 3,\n 4,\n 5,\n 6,\n 7,\n 8,\n 9,\n 10,\n 11,\n 12,\n 13,\n 14,\n 15,\n 16,\n 17,\n 18,\n 19,\n 20,\n 21,\n 22,\n 23,\n 24,\n 25,\n 26,\n 27,\n 28,\n 29,\n 30,\n 31,\n 32,\n 33,\n 34,\n 35,\n 36,\n 37,\n 38,\n 39,\n 40,\n 41,\n 42,\n 43,\n 44,\n 45,\n 46,\n 47,\n 48,\n 49,\n 50,\n 51,\n 52,\n 53,\n 54,\n 55,\n 56,\n 57,\n 58,\n 59,\n 60,\n 61,\n 62,\n 63,\n 64,\n 65,\n 66,\n 67,\n 68,\n 69,\n 70,\n 71,\n 72,\n 73,\n 74,\n 75,\n 76,\n 77,\n 78]"
     },
     "execution_count": 16,
     "metadata": {},
     "output_type": "execute_result"
    }
   ],
   "source": [
    "continuous_columns"
   ],
   "metadata": {
    "collapsed": false,
    "ExecuteTime": {
     "end_time": "2023-11-04T12:04:52.738976Z",
     "start_time": "2023-11-04T12:04:52.621782Z"
    }
   },
   "id": "52a511b8bbfa6d90"
  },
  {
   "cell_type": "code",
   "execution_count": 17,
   "outputs": [
    {
     "name": "stdout",
     "output_type": "stream",
     "text": [
      "Max Depth: 15\n",
      "Training Accuracy: 0.7021847451130702\n",
      "Test Accuracy: 0.5573940020682523\n",
      "Max Depth: 25\n",
      "Training Accuracy: 0.8397853583748562\n",
      "Test Accuracy: 0.6039296794208894\n",
      "Max Depth: 35\n",
      "Training Accuracy: 0.923342276734381\n",
      "Test Accuracy: 0.5925542916235781\n",
      "Max Depth: 45\n",
      "Training Accuracy: 0.9868404241727354\n",
      "Test Accuracy: 0.6059979317476732\n"
     ]
    }
   ],
   "source": [
    "# Fitting and evaluating the decision tree for different maximum depths\n",
    "depths = [15, 25, 35, 45]\n",
    "results_one_hot_corrected = []\n",
    "model_of_depth_one_hot = {}\n",
    "\n",
    "for max_depth in depths:\n",
    "    print(\"Max Depth:\", max_depth)\n",
    "    tree = DTTree()\n",
    "    tree.fit(X_train_one_hot, y_train_one_hot, types=[\"cont\"] * X_train_one_hot.shape[1], max_depth=max_depth)\n",
    "    y_pred_train = tree.predict(X_train_one_hot)\n",
    "    y_pred_test = tree.predict(X_test_one_hot)\n",
    "    train_accuracy = calculate_accuracy(y_train_one_hot, y_pred_train)\n",
    "    test_accuracy = calculate_accuracy(y_test_one_hot, y_pred_test)\n",
    "    results_one_hot_corrected.append((max_depth, train_accuracy, test_accuracy))\n",
    "    \n",
    "    model_of_depth_one_hot[max_depth] = tree\n",
    "    \n",
    "    print(\"Training Accuracy:\", train_accuracy)\n",
    "    print(\"Test Accuracy:\", test_accuracy)"
   ],
   "metadata": {
    "collapsed": false,
    "ExecuteTime": {
     "end_time": "2023-11-04T12:06:25.074274Z",
     "start_time": "2023-11-04T12:04:52.627589Z"
    }
   },
   "id": "a2ed50e30fd4a44a"
  },
  {
   "cell_type": "code",
   "execution_count": 18,
   "outputs": [
    {
     "data": {
      "text/plain": "<Figure size 640x480 with 1 Axes>",
      "image/png": "[encoded data removed]"
     },
     "metadata": {},
     "output_type": "display_data"
    }
   ],
   "source": [
    "# plot the results\n",
    "\n",
    "plt.plot(depths, [r[1]*100 for r in results_one_hot_corrected], label=\"Training Accuracy\")\n",
    "plt.plot(depths, [r[2]*100 for r in results_one_hot_corrected], label=\"Test Accuracy\")\n",
    "\n",
    "plt.xlabel(\"Depth\")\n",
    "plt.ylabel(\"Accuracy\")\n",
    "plt.legend()\n",
    "plt.savefig(\"(b)depth_vs_accuracy.png\")\n",
    "plt.show()"
   ],
   "metadata": {
    "collapsed": false,
    "ExecuteTime": {
     "end_time": "2023-11-04T12:06:25.300567Z",
     "start_time": "2023-11-04T12:06:25.079304Z"
    }
   },
   "id": "17dc9d9a1d736d8a"
  },
  {
   "cell_type": "markdown",
   "source": [
    "# post pruning"
   ],
   "metadata": {
    "collapsed": false
   },
   "id": "eb322fdf39aaab61"
  },
  {
   "cell_type": "code",
   "execution_count": 88,
   "outputs": [],
   "source": [
    "# load val set\n",
    "X_val_one_hot, y_val_one_hot = get_np_array_one_hot('val.csv')"
   ],
   "metadata": {
    "collapsed": false,
    "ExecuteTime": {
     "end_time": "2023-11-04T12:57:09.459909Z",
     "start_time": "2023-11-04T12:57:09.446209Z"
    }
   },
   "id": "def55f87e9992fc"
  },
  {
   "cell_type": "code",
   "execution_count": 89,
   "outputs": [],
   "source": [
    "def post_prune_one_iter(tree, X_val, y_val)-> bool:\n",
    "    best_val_accuracy, best_node = calculate_accuracy(\n",
    "        y_val, tree.predict(X_val)\n",
    "    ), None\n",
    "    def post_prune_recursive(node: DTNode):\n",
    "        nonlocal best_val_accuracy, best_node\n",
    "        if node.is_leaf:\n",
    "            return\n",
    "        else:\n",
    "            node.is_leaf = True\n",
    "            val_accuracy = calculate_accuracy(y_val, tree.predict(X_val))\n",
    "            node.is_leaf = False\n",
    "            \n",
    "            if val_accuracy > best_val_accuracy:\n",
    "                best_val_accuracy = val_accuracy\n",
    "                best_node = node\n",
    "            \n",
    "            for child in node.children.values():\n",
    "                post_prune_recursive(child)\n",
    "    post_prune_recursive(tree.root)\n",
    "    \n",
    "    if best_node is None:\n",
    "        print(\"done pruning\")\n",
    "        return False\n",
    "    \n",
    "    best_node.is_leaf = True\n",
    "    print(\"Best Validation Accuracy:\", best_val_accuracy)\n",
    "    return True"
   ],
   "metadata": {
    "collapsed": false,
    "ExecuteTime": {
     "end_time": "2023-11-04T12:57:11.639408Z",
     "start_time": "2023-11-04T12:57:11.630254Z"
    }
   },
   "id": "f3e4eca4d8544341"
  },
  {
   "cell_type": "code",
   "execution_count": 90,
   "outputs": [],
   "source": [
    "def post_prune(tree):\n",
    "    training = []\n",
    "    test = []\n",
    "    validation = []\n",
    "    number_of_nodes_list = []\n",
    "    iters = 1\n",
    "    while True:\n",
    "        print(f\"iteration {iters}\")\n",
    "        result = post_prune_one_iter(tree, X_val_one_hot, y_val_one_hot)\n",
    "        if not result:\n",
    "            break\n",
    "        iters += 1\n",
    "        \n",
    "        y_pred_train = tree.predict(X_train_one_hot)\n",
    "        y_pred_test = tree.predict(X_test_one_hot)\n",
    "        y_pred_val = tree.predict(X_val_one_hot)\n",
    "        \n",
    "        train_accuracy = calculate_accuracy(y_train_one_hot, y_pred_train)\n",
    "        test_accuracy = calculate_accuracy(y_test_one_hot, y_pred_test)\n",
    "        val_accuracy = calculate_accuracy(y_val_one_hot, y_pred_val)\n",
    "        \n",
    "        number_of_nodes = 0\n",
    "        def count_nodes(node: DTNode):\n",
    "            nonlocal number_of_nodes\n",
    "            if node.is_leaf:\n",
    "                number_of_nodes += 1\n",
    "            else:\n",
    "                for child in node.children.values():\n",
    "                    count_nodes(child)\n",
    "        \n",
    "        count_nodes(tree.root)\n",
    "        \n",
    "        training.append(train_accuracy)\n",
    "        test.append(test_accuracy)\n",
    "        validation.append(val_accuracy)\n",
    "        number_of_nodes_list.append(number_of_nodes)\n",
    "        \n",
    "    return training, test, validation, number_of_nodes_list"
   ],
   "metadata": {
    "collapsed": false,
    "ExecuteTime": {
     "end_time": "2023-11-04T12:57:13.718049Z",
     "start_time": "2023-11-04T12:57:13.708577Z"
    }
   },
   "id": "7be6f67dbb39f155"
  },
  {
   "cell_type": "code",
   "execution_count": null,
   "outputs": [
    {
     "name": "stdout",
     "output_type": "stream",
     "text": [
      "Max Depth: 15\n",
      "iteration 1\n",
      "Best Validation Accuracy: 0.6045977011494252\n",
      "iteration 2\n",
      "Best Validation Accuracy: 0.6126436781609196\n",
      "iteration 3\n",
      "Best Validation Accuracy: 0.6172413793103448\n",
      "iteration 4\n",
      "Best Validation Accuracy: 0.6206896551724138\n",
      "iteration 5\n",
      "Best Validation Accuracy: 0.6229885057471264\n",
      "iteration 6\n",
      "Best Validation Accuracy: 0.6252873563218391\n",
      "iteration 7\n",
      "Best Validation Accuracy: 0.6275862068965518\n",
      "iteration 8\n",
      "Best Validation Accuracy: 0.6298850574712643\n",
      "iteration 9\n",
      "Best Validation Accuracy: 0.632183908045977\n",
      "iteration 10\n",
      "Best Validation Accuracy: 0.6333333333333333\n",
      "iteration 11\n",
      "Best Validation Accuracy: 0.6344827586206897\n",
      "iteration 12\n",
      "Best Validation Accuracy: 0.635632183908046\n",
      "iteration 13\n",
      "Best Validation Accuracy: 0.6367816091954023\n",
      "iteration 14\n",
      "Best Validation Accuracy: 0.6379310344827587\n",
      "iteration 15\n",
      "Best Validation Accuracy: 0.639080459770115\n",
      "iteration 16\n",
      "Best Validation Accuracy: 0.6402298850574712\n",
      "iteration 17\n",
      "Best Validation Accuracy: 0.6413793103448275\n",
      "iteration 18\n",
      "Best Validation Accuracy: 0.6425287356321839\n",
      "iteration 19\n",
      "Best Validation Accuracy: 0.6436781609195402\n",
      "iteration 20\n",
      "done pruning\n",
      "Training Accuracy: 0.6312763510923726\n",
      "Test Accuracy: 0.5656670113753878\n",
      "Max Depth: 25\n",
      "iteration 1\n",
      "Best Validation Accuracy: 0.6160919540229886\n",
      "iteration 2\n",
      "Best Validation Accuracy: 0.6229885057471264\n",
      "iteration 3\n",
      "Best Validation Accuracy: 0.6275862068965518\n",
      "iteration 4\n",
      "Best Validation Accuracy: 0.632183908045977\n",
      "iteration 5\n",
      "Best Validation Accuracy: 0.635632183908046\n",
      "iteration 6\n",
      "Best Validation Accuracy: 0.639080459770115\n",
      "iteration 7\n",
      "Best Validation Accuracy: 0.6425287356321839\n",
      "iteration 8\n",
      "Best Validation Accuracy: 0.6459770114942529\n",
      "iteration 9\n",
      "Best Validation Accuracy: 0.6494252873563219\n",
      "iteration 10\n",
      "Best Validation Accuracy: 0.6528735632183909\n",
      "iteration 11\n",
      "Best Validation Accuracy: 0.6551724137931034\n",
      "iteration 12\n",
      "Best Validation Accuracy: 0.6574712643678161\n",
      "iteration 13\n",
      "Best Validation Accuracy: 0.6597701149425287\n",
      "iteration 14\n",
      "Best Validation Accuracy: 0.6620689655172414\n",
      "iteration 15\n",
      "Best Validation Accuracy: 0.664367816091954\n",
      "iteration 16\n",
      "Best Validation Accuracy: 0.6666666666666666\n",
      "iteration 17\n",
      "Best Validation Accuracy: 0.6689655172413793\n",
      "iteration 18\n",
      "Best Validation Accuracy: 0.671264367816092\n",
      "iteration 19\n",
      "Best Validation Accuracy: 0.6724137931034483\n",
      "iteration 20\n",
      "Best Validation Accuracy: 0.6735632183908046\n",
      "iteration 21\n",
      "Best Validation Accuracy: 0.674712643678161\n",
      "iteration 22\n",
      "Best Validation Accuracy: 0.6758620689655173\n",
      "iteration 23\n",
      "Best Validation Accuracy: 0.6770114942528735\n",
      "iteration 24\n",
      "Best Validation Accuracy: 0.6781609195402298\n",
      "iteration 25\n",
      "Best Validation Accuracy: 0.6793103448275862\n",
      "iteration 26\n",
      "Best Validation Accuracy: 0.6804597701149425\n",
      "iteration 27\n",
      "Best Validation Accuracy: 0.6816091954022988\n",
      "iteration 28\n",
      "Best Validation Accuracy: 0.6827586206896552\n",
      "iteration 29\n",
      "Best Validation Accuracy: 0.6839080459770115\n",
      "iteration 30\n",
      "Best Validation Accuracy: 0.6850574712643678\n",
      "iteration 31\n",
      "Best Validation Accuracy: 0.6862068965517242\n",
      "iteration 32\n",
      "Best Validation Accuracy: 0.6873563218390805\n",
      "iteration 33\n",
      "Best Validation Accuracy: 0.6885057471264368\n",
      "iteration 34\n",
      "Best Validation Accuracy: 0.6896551724137931\n",
      "iteration 35\n",
      "Best Validation Accuracy: 0.6908045977011494\n",
      "iteration 36\n",
      "Best Validation Accuracy: 0.6919540229885057\n",
      "iteration 37\n",
      "Best Validation Accuracy: 0.6931034482758621\n",
      "iteration 38\n",
      "Best Validation Accuracy: 0.6942528735632184\n",
      "iteration 39\n",
      "Best Validation Accuracy: 0.6954022988505747\n",
      "iteration 40\n",
      "Best Validation Accuracy: 0.696551724137931\n",
      "iteration 41\n",
      "done pruning\n",
      "Training Accuracy: 0.7065286827647885\n",
      "Test Accuracy: 0.609100310237849\n",
      "Max Depth: 35\n",
      "iteration 1\n",
      "Best Validation Accuracy: 0.6045977011494252\n",
      "iteration 2\n",
      "Best Validation Accuracy: 0.6149425287356322\n",
      "iteration 3\n",
      "Best Validation Accuracy: 0.6241379310344828\n",
      "iteration 4\n",
      "Best Validation Accuracy: 0.6298850574712643\n",
      "iteration 5\n",
      "Best Validation Accuracy: 0.6344827586206897\n",
      "iteration 6\n",
      "Best Validation Accuracy: 0.639080459770115\n",
      "iteration 7\n",
      "Best Validation Accuracy: 0.6436781609195402\n",
      "iteration 8\n",
      "Best Validation Accuracy: 0.6482758620689655\n",
      "iteration 9\n",
      "Best Validation Accuracy: 0.6517241379310345\n",
      "iteration 10\n",
      "Best Validation Accuracy: 0.6551724137931034\n",
      "iteration 11\n",
      "Best Validation Accuracy: 0.6586206896551724\n",
      "iteration 12\n",
      "Best Validation Accuracy: 0.6620689655172414\n",
      "iteration 13\n",
      "Best Validation Accuracy: 0.6655172413793103\n",
      "iteration 14\n",
      "Best Validation Accuracy: 0.667816091954023\n",
      "iteration 15\n",
      "Best Validation Accuracy: 0.6701149425287356\n",
      "iteration 16\n",
      "Best Validation Accuracy: 0.6724137931034483\n",
      "iteration 17\n",
      "Best Validation Accuracy: 0.674712643678161\n",
      "iteration 18\n",
      "Best Validation Accuracy: 0.6770114942528735\n",
      "iteration 19\n",
      "Best Validation Accuracy: 0.6793103448275862\n",
      "iteration 20\n",
      "Best Validation Accuracy: 0.6816091954022988\n",
      "iteration 21\n",
      "Best Validation Accuracy: 0.6839080459770115\n",
      "iteration 22\n",
      "Best Validation Accuracy: 0.6862068965517242\n",
      "iteration 23\n",
      "Best Validation Accuracy: 0.6885057471264368\n",
      "iteration 24\n",
      "Best Validation Accuracy: 0.6896551724137931\n",
      "iteration 25\n",
      "Best Validation Accuracy: 0.6908045977011494\n",
      "iteration 26\n",
      "Best Validation Accuracy: 0.6919540229885057\n",
      "iteration 27\n",
      "Best Validation Accuracy: 0.6931034482758621\n",
      "iteration 28\n",
      "Best Validation Accuracy: 0.6942528735632184\n",
      "iteration 29\n",
      "Best Validation Accuracy: 0.6954022988505747\n",
      "iteration 30\n",
      "Best Validation Accuracy: 0.696551724137931\n",
      "iteration 31\n",
      "Best Validation Accuracy: 0.6977011494252874\n",
      "iteration 32\n",
      "Best Validation Accuracy: 0.6988505747126437\n",
      "iteration 33\n",
      "Best Validation Accuracy: 0.7\n",
      "iteration 34\n",
      "Best Validation Accuracy: 0.7011494252873564\n",
      "iteration 35\n",
      "Best Validation Accuracy: 0.7022988505747126\n",
      "iteration 36\n",
      "Best Validation Accuracy: 0.7034482758620689\n",
      "iteration 37\n",
      "Best Validation Accuracy: 0.7045977011494253\n",
      "iteration 38\n",
      "Best Validation Accuracy: 0.7057471264367816\n",
      "iteration 39\n",
      "Best Validation Accuracy: 0.7068965517241379\n",
      "iteration 40\n",
      "Best Validation Accuracy: 0.7080459770114943\n",
      "iteration 41\n",
      "Best Validation Accuracy: 0.7091954022988506\n",
      "iteration 42\n",
      "Best Validation Accuracy: 0.7103448275862069\n",
      "iteration 43\n",
      "Best Validation Accuracy: 0.7114942528735633\n",
      "iteration 44\n",
      "Best Validation Accuracy: 0.7126436781609196\n",
      "iteration 45\n",
      "Best Validation Accuracy: 0.7137931034482758\n",
      "iteration 46\n",
      "Best Validation Accuracy: 0.7149425287356321\n",
      "iteration 47\n",
      "Best Validation Accuracy: 0.7160919540229885\n",
      "iteration 48\n",
      "Best Validation Accuracy: 0.7172413793103448\n",
      "iteration 49\n",
      "Best Validation Accuracy: 0.7183908045977011\n",
      "iteration 50\n",
      "Best Validation Accuracy: 0.7195402298850575\n",
      "iteration 51\n",
      "Best Validation Accuracy: 0.7206896551724138\n",
      "iteration 52\n",
      "Best Validation Accuracy: 0.7218390804597701\n",
      "iteration 53\n",
      "Best Validation Accuracy: 0.7229885057471265\n",
      "iteration 54\n",
      "Best Validation Accuracy: 0.7241379310344828\n",
      "iteration 55\n",
      "done pruning\n",
      "Training Accuracy: 0.7456241216302543\n",
      "Test Accuracy: 0.6070320579110652\n",
      "Max Depth: 45\n",
      "iteration 1\n",
      "Best Validation Accuracy: 0.6160919540229886\n",
      "iteration 2\n",
      "Best Validation Accuracy: 0.6252873563218391\n",
      "iteration 3\n",
      "Best Validation Accuracy: 0.6344827586206897\n",
      "iteration 4\n",
      "Best Validation Accuracy: 0.6402298850574712\n",
      "iteration 5\n",
      "Best Validation Accuracy: 0.6448275862068965\n",
      "iteration 6\n",
      "Best Validation Accuracy: 0.6494252873563219\n",
      "iteration 7\n",
      "Best Validation Accuracy: 0.6540229885057471\n",
      "iteration 8\n",
      "Best Validation Accuracy: 0.6574712643678161\n",
      "iteration 9\n",
      "Best Validation Accuracy: 0.6609195402298851\n",
      "iteration 10\n",
      "Best Validation Accuracy: 0.664367816091954\n",
      "iteration 11\n",
      "Best Validation Accuracy: 0.667816091954023\n",
      "iteration 12\n",
      "Best Validation Accuracy: 0.671264367816092\n",
      "iteration 13\n",
      "Best Validation Accuracy: 0.674712643678161\n",
      "iteration 14\n",
      "Best Validation Accuracy: 0.6770114942528735\n",
      "iteration 15\n",
      "Best Validation Accuracy: 0.6793103448275862\n",
      "iteration 16\n",
      "Best Validation Accuracy: 0.6816091954022988\n",
      "iteration 17\n",
      "Best Validation Accuracy: 0.6839080459770115\n",
      "iteration 18\n",
      "Best Validation Accuracy: 0.6862068965517242\n",
      "iteration 19\n",
      "Best Validation Accuracy: 0.6885057471264368\n",
      "iteration 20\n",
      "Best Validation Accuracy: 0.6908045977011494\n",
      "iteration 21\n",
      "Best Validation Accuracy: 0.6931034482758621\n",
      "iteration 22\n",
      "Best Validation Accuracy: 0.6954022988505747\n",
      "iteration 23\n",
      "Best Validation Accuracy: 0.6977011494252874\n",
      "iteration 24\n",
      "Best Validation Accuracy: 0.7\n",
      "iteration 25\n",
      "Best Validation Accuracy: 0.7022988505747126\n",
      "iteration 26\n",
      "Best Validation Accuracy: 0.7045977011494253\n",
      "iteration 27\n",
      "Best Validation Accuracy: 0.7057471264367816\n",
      "iteration 28\n",
      "Best Validation Accuracy: 0.7068965517241379\n",
      "iteration 29\n",
      "Best Validation Accuracy: 0.7080459770114943\n",
      "iteration 30\n",
      "Best Validation Accuracy: 0.7091954022988506\n",
      "iteration 31\n",
      "Best Validation Accuracy: 0.7103448275862069\n",
      "iteration 32\n",
      "Best Validation Accuracy: 0.7114942528735633\n",
      "iteration 33\n",
      "Best Validation Accuracy: 0.7126436781609196\n",
      "iteration 34\n",
      "Best Validation Accuracy: 0.7137931034482758\n",
      "iteration 35\n",
      "Best Validation Accuracy: 0.7149425287356321\n",
      "iteration 36\n",
      "Best Validation Accuracy: 0.7160919540229885\n",
      "iteration 37\n",
      "Best Validation Accuracy: 0.7172413793103448\n",
      "iteration 38\n",
      "Best Validation Accuracy: 0.7183908045977011\n",
      "iteration 39\n",
      "Best Validation Accuracy: 0.7195402298850575\n",
      "iteration 40\n",
      "Best Validation Accuracy: 0.7206896551724138\n",
      "iteration 41\n",
      "Best Validation Accuracy: 0.7218390804597701\n",
      "iteration 42\n",
      "Best Validation Accuracy: 0.7229885057471265\n",
      "iteration 43\n",
      "Best Validation Accuracy: 0.7241379310344828\n",
      "iteration 44\n",
      "Best Validation Accuracy: 0.725287356321839\n",
      "iteration 45\n",
      "Best Validation Accuracy: 0.7264367816091954\n",
      "iteration 46\n",
      "Best Validation Accuracy: 0.7275862068965517\n",
      "iteration 47\n",
      "Best Validation Accuracy: 0.728735632183908\n",
      "iteration 48\n",
      "Best Validation Accuracy: 0.7298850574712644\n",
      "iteration 49\n",
      "Best Validation Accuracy: 0.7310344827586207\n",
      "iteration 50\n"
     ]
    }
   ],
   "source": [
    "# Fitting and evaluating the decision tree for different maximum depths\n",
    "depths = [15, 25, 35, 45]\n",
    "accuracies = []\n",
    "results_pruning = []\n",
    "model_of_depth_one_hot_pruned = {}\n",
    "\n",
    "for max_depth in depths:\n",
    "    print(\"Max Depth:\", max_depth)\n",
    "    tree = DTTree()\n",
    "    tree.fit(X_train_one_hot, y_train_one_hot, types=[\"cont\"] * X_train_one_hot.shape[1], max_depth=max_depth)\n",
    "    accuracies.append(post_prune(tree))\n",
    "    y_pred_train = tree.predict(X_train_one_hot)\n",
    "    y_pred_test = tree.predict(X_test_one_hot)\n",
    "    train_accuracy = calculate_accuracy(y_train_one_hot, y_pred_train)\n",
    "    test_accuracy = calculate_accuracy(y_test_one_hot, y_pred_test)\n",
    "    results_pruning.append((max_depth, train_accuracy, test_accuracy))\n",
    "    \n",
    "    model_of_depth_one_hot_pruned[max_depth] = tree\n",
    "    \n",
    "    print(\"Training Accuracy:\", train_accuracy)\n",
    "    print(\"Test Accuracy:\", test_accuracy)"
   ],
   "metadata": {
    "collapsed": false,
    "is_executing": true,
    "ExecuteTime": {
     "start_time": "2023-11-04T16:04:41.387155Z"
    }
   },
   "id": "e3c64c683a8960dd"
  },
  {
   "cell_type": "code",
   "execution_count": null,
   "outputs": [],
   "source": [
    "results_pruning"
   ],
   "metadata": {
    "collapsed": false,
    "is_executing": true
   },
   "id": "94fb9ecb035383e5"
  },
  {
   "cell_type": "code",
   "execution_count": null,
   "outputs": [],
   "source": [
    "# plot the results\n",
    "i = 0\n",
    "for results in results_pruning:\n",
    "    plt.plot([r[0] for r in results], [r[1]*100 for r in results_one_hot_corrected], label=\"Training Accuracy\")\n",
    "    plt.plot([r[0] for r in results], [r[2]*100 for r in results_one_hot_corrected], label=\"Test Accuracy\")\n",
    "    plt.plot([r[0] for r in results], [r[3]*100 for r in results_one_hot_corrected], label=\"Validation Accuracy\")\n",
    "    plt.xlabel(\"number of nodes\")\n",
    "    plt.ylabel(\"Accuracy\")\n",
    "    plt.legend()\n",
    "    plt.title(f\"number_of_nodes_vs_accuracy {depths[i]}\")\n",
    "    plt.savefig(f\"(c)number_of_nodes_vs_accuracy {depths[i]}.png\")\n",
    "    i+=1"
   ],
   "metadata": {
    "collapsed": false,
    "is_executing": true
   },
   "id": "4d5a3ded3a2030ca"
  },
  {
   "cell_type": "code",
   "execution_count": 94,
   "outputs": [],
   "source": [
    "import pickle\n",
    "with open('pickles/model_of_depth_one_hot_pruned.pickle', 'wb') as f:\n",
    "    pickle.dump(model_of_depth_one_hot_pruned, f)"
   ],
   "metadata": {
    "collapsed": false,
    "ExecuteTime": {
     "end_time": "2023-11-04T13:57:05.158873Z",
     "start_time": "2023-11-04T13:57:05.072460Z"
    }
   },
   "id": "d0188d96c15e5ba9"
  },
  {
   "cell_type": "code",
   "execution_count": 97,
   "outputs": [
    {
     "name": "stdout",
     "output_type": "stream",
     "text": [
      "Validation Accuracy: 0.6436781609195402\n",
      "Train Accuracy: 0.6312763510923726\n",
      "Test Accuracy: 0.5656670113753878\n",
      "Validation Accuracy: 0.696551724137931\n",
      "Train Accuracy: 0.6312763510923726\n",
      "Test Accuracy: 0.5656670113753878\n",
      "Validation Accuracy: 0.7241379310344828\n",
      "Train Accuracy: 0.6312763510923726\n",
      "Test Accuracy: 0.5656670113753878\n",
      "Validation Accuracy: 0.7494252873563219\n",
      "Train Accuracy: 0.6312763510923726\n",
      "Test Accuracy: 0.5656670113753878\n"
     ]
    }
   ],
   "source": [
    "val_accs = []\n",
    "counter = 0\n",
    "for depth in depths:\n",
    "    tree = model_of_depth_one_hot_pruned[depth]\n",
    "    y_pred_val = tree.predict(X_val_one_hot)\n",
    "    val_accuracy = calculate_accuracy(y_val_one_hot, y_pred_val)\n",
    "    val_accs.append(val_accuracy)\n",
    "    print(\"Validation Accuracy:\", val_accuracy)\n",
    "    print(\"Train Accuracy:\", results_one_hot_corrected[counter][1])\n",
    "    print(\"Test Accuracy:\", results_one_hot_corrected[counter][2])"
   ],
   "metadata": {
    "collapsed": false,
    "ExecuteTime": {
     "end_time": "2023-11-04T14:18:55.997520Z",
     "start_time": "2023-11-04T14:18:55.932679Z"
    }
   },
   "id": "314329ad37be7387"
  },
  {
   "cell_type": "code",
   "execution_count": 96,
   "outputs": [
    {
     "data": {
      "text/plain": "<Figure size 640x480 with 1 Axes>",
      "image/png": "[encoded data removed]"
     },
     "metadata": {},
     "output_type": "display_data"
    }
   ],
   "source": [
    "# plot the results\n",
    "plt.plot(depths, [r[1]*100 for r in results_one_hot_corrected], label=\"Training Accuracy\")\n",
    "plt.plot(depths, [r[2]*100 for r in results_one_hot_corrected], label=\"Test Accuracy\")\n",
    "plt.plot(depths, [r*100 for r in val_accs], label=\"Validation Accuracy\")\n",
    "\n",
    "plt.xlabel(\"Depth\")\n",
    "plt.ylabel(\"Accuracy\")\n",
    "plt.legend()\n",
    "plt.savefig(\"(c)depth_vs_accuracy after pruning.png\")\n",
    "plt.show()"
   ],
   "metadata": {
    "collapsed": false,
    "ExecuteTime": {
     "end_time": "2023-11-04T13:58:21.567808Z",
     "start_time": "2023-11-04T13:58:21.355271Z"
    }
   },
   "id": "749ba7c51425585c"
  },
  {
   "cell_type": "markdown",
   "source": [
    "# Scikit Learn Decision Tree"
   ],
   "metadata": {
    "collapsed": false
   },
   "id": "edf4bde732596bbb"
  },
  {
   "cell_type": "code",
   "execution_count": 19,
   "outputs": [
    {
     "name": "stdout",
     "output_type": "stream",
     "text": [
      "   Max Depth  Training Accuracy  Test Accuracy  Validation Accuracy\n",
      "0         15           0.713300       0.608066             0.591954\n",
      "1         25           0.854606       0.632885             0.602299\n",
      "2         35           0.944679       0.654602             0.618391\n",
      "3         45           0.995401       0.641158             0.611494\n"
     ]
    }
   ],
   "source": [
    "from sklearn.tree import DecisionTreeClassifier\n",
    "from sklearn.metrics import accuracy_score\n",
    "import pandas as pd\n",
    "\n",
    "X_train, y_train = get_np_array('train.csv')\n",
    "X_test, y_test = get_np_array('test.csv')\n",
    "X_val, y_val = get_np_array('val.csv')\n",
    "\n",
    "# Evaluate the decision tree for different max depths\n",
    "depths = [15, 25, 35, 45]\n",
    "dt_results = []\n",
    "\n",
    "for depth in depths:\n",
    "    dt_clf = DecisionTreeClassifier(criterion='entropy', max_depth=depth)\n",
    "    dt_clf.fit(X_train, y_train)\n",
    "    \n",
    "    train_acc = accuracy_score(y_train, dt_clf.predict(X_train))\n",
    "    test_acc = accuracy_score(y_test, dt_clf.predict(X_test))\n",
    "    val_acc = accuracy_score(y_val, dt_clf.predict(X_val))\n",
    "    \n",
    "    dt_results.append((depth, train_acc, test_acc, val_acc))\n",
    "\n",
    "dt_results_df = pd.DataFrame(dt_results, columns=['Max Depth', 'Training Accuracy', 'Test Accuracy', 'Validation Accuracy'])\n",
    "print(dt_results_df)"
   ],
   "metadata": {
    "collapsed": false,
    "ExecuteTime": {
     "end_time": "2023-11-04T12:06:26.115599Z",
     "start_time": "2023-11-04T12:06:25.300751Z"
    }
   },
   "id": "cb1703feffd684a0"
  },
  {
   "cell_type": "code",
   "execution_count": 20,
   "outputs": [
    {
     "data": {
      "text/plain": "<Figure size 640x480 with 1 Axes>",
      "image/png": "[encoded data removed]"
     },
     "metadata": {},
     "output_type": "display_data"
    }
   ],
   "source": [
    "# plot the results\n",
    "\n",
    "plt.plot(depths, [r[1]*100 for r in dt_results], label=\"Training Accuracy\")\n",
    "plt.plot(depths, [r[2]*100 for r in dt_results], label=\"Test Accuracy\")\n",
    "plt.plot(depths, [r[3]*100 for r in dt_results], label=\"Validation Accuracy\")\n",
    "\n",
    "plt.xlabel(\"Depth\")\n",
    "plt.ylabel(\"Accuracy\")\n",
    "plt.legend()\n",
    "plt.savefig(\"(d)depth_vs_accuracy.png\")\n",
    "plt.show()"
   ],
   "metadata": {
    "collapsed": false,
    "ExecuteTime": {
     "end_time": "2023-11-04T12:06:26.390579Z",
     "start_time": "2023-11-04T12:06:26.121428Z"
    }
   },
   "id": "a9d2b4ecb736926f"
  },
  {
   "cell_type": "code",
   "execution_count": 21,
   "outputs": [
    {
     "name": "stdout",
     "output_type": "stream",
     "text": [
      "     CCP  Training Accuracy  Test Accuracy  Validation Accuracy\n",
      "0  0.001           0.638176       0.613237             0.591954\n",
      "1  0.010           0.534432       0.518097             0.500000\n",
      "2  0.100           0.503386       0.496381             0.473563\n",
      "3  0.200           0.503386       0.496381             0.473563\n"
     ]
    }
   ],
   "source": [
    "from sklearn.tree import DecisionTreeClassifier\n",
    "from sklearn.metrics import accuracy_score\n",
    "import pandas as pd\n",
    "from sklearn.preprocessing import OneHotEncoder\n",
    "\n",
    "\n",
    "X_val, y_val = get_np_array('val.csv')\n",
    "\n",
    "# Evaluate the decision tree for different max depths\n",
    "ccp_values = [0.001, 0.01, 0.1, 0.2]\n",
    "dt_results = []\n",
    "\n",
    "for ccp in ccp_values:\n",
    "    dt_clf = DecisionTreeClassifier(criterion='entropy', max_depth=15, ccp_alpha=ccp)\n",
    "    dt_clf.fit(X_train, y_train)\n",
    "    \n",
    "    train_acc = accuracy_score(y_train, dt_clf.predict(X_train))\n",
    "    test_acc = accuracy_score(y_test, dt_clf.predict(X_test))\n",
    "    val_acc = accuracy_score(y_val, dt_clf.predict(X_val))\n",
    "    \n",
    "    dt_results.append((ccp, train_acc, test_acc, val_acc))\n",
    "\n",
    "# Output the results in a structured format\n",
    "dt_results_df = pd.DataFrame(dt_results, columns=['CCP', 'Training Accuracy', 'Test Accuracy', 'Validation Accuracy'])\n",
    "print(dt_results_df)"
   ],
   "metadata": {
    "collapsed": false,
    "ExecuteTime": {
     "end_time": "2023-11-04T12:06:26.628574Z",
     "start_time": "2023-11-04T12:06:26.390232Z"
    }
   },
   "id": "7eb9684d27def3c6"
  },
  {
   "cell_type": "code",
   "execution_count": 22,
   "outputs": [
    {
     "data": {
      "text/plain": "<Figure size 640x480 with 1 Axes>",
      "image/png": "[encoded data removed]"
     },
     "metadata": {},
     "output_type": "display_data"
    }
   ],
   "source": [
    "# plot the results\n",
    "\n",
    "plt.plot(ccp_values, [r[1]*100 for r in dt_results], label=\"Training Accuracy\")\n",
    "plt.plot(ccp_values, [r[2]*100 for r in dt_results], label=\"Test Accuracy\")\n",
    "plt.plot(ccp_values, [r[3]*100 for r in dt_results], label=\"Validation Accuracy\")\n",
    "\n",
    "plt.xlabel(\"ccp_alpha\")\n",
    "plt.ylabel(\"Accuracy\")\n",
    "plt.legend()\n",
    "plt.savefig(\"(d)ccp_vs_accuracy.png\")\n",
    "plt.show()"
   ],
   "metadata": {
    "collapsed": false,
    "ExecuteTime": {
     "end_time": "2023-11-04T12:06:26.912179Z",
     "start_time": "2023-11-04T12:06:26.628474Z"
    }
   },
   "id": "9d0b8d67497e826f"
  },
  {
   "cell_type": "code",
   "execution_count": 23,
   "outputs": [
    {
     "ename": "KeyboardInterrupt",
     "evalue": "",
     "output_type": "error",
     "traceback": [
      "\u001B[0;31m---------------------------------------------------------------------------\u001B[0m",
      "\u001B[0;31mKeyboardInterrupt\u001B[0m                         Traceback (most recent call last)",
      "Cell \u001B[0;32mIn[23], line 18\u001B[0m\n\u001B[1;32m     15\u001B[0m grid_search_rf \u001B[38;5;241m=\u001B[39m GridSearchCV(estimator\u001B[38;5;241m=\u001B[39mrf_clf, param_grid\u001B[38;5;241m=\u001B[39mparam_grid_rf, scoring\u001B[38;5;241m=\u001B[39m\u001B[38;5;124m'\u001B[39m\u001B[38;5;124maccuracy\u001B[39m\u001B[38;5;124m'\u001B[39m)\n\u001B[1;32m     17\u001B[0m \u001B[38;5;66;03m# Fit the grid search to the training data\u001B[39;00m\n\u001B[0;32m---> 18\u001B[0m \u001B[43mgrid_search_rf\u001B[49m\u001B[38;5;241;43m.\u001B[39;49m\u001B[43mfit\u001B[49m\u001B[43m(\u001B[49m\u001B[43mX_train\u001B[49m\u001B[43m,\u001B[49m\u001B[43m \u001B[49m\u001B[43my_train\u001B[49m\u001B[38;5;241;43m.\u001B[39;49m\u001B[43mravel\u001B[49m\u001B[43m(\u001B[49m\u001B[43m)\u001B[49m\u001B[43m)\u001B[49m\n\u001B[1;32m     20\u001B[0m \u001B[38;5;66;03m# Extract the best estimator\u001B[39;00m\n\u001B[1;32m     21\u001B[0m best_rf_clf \u001B[38;5;241m=\u001B[39m grid_search_rf\u001B[38;5;241m.\u001B[39mbest_estimator_\n",
      "File \u001B[0;32m/usr/local/lib/python3.11/site-packages/sklearn/base.py:1151\u001B[0m, in \u001B[0;36m_fit_context.<locals>.decorator.<locals>.wrapper\u001B[0;34m(estimator, *args, **kwargs)\u001B[0m\n\u001B[1;32m   1144\u001B[0m     estimator\u001B[38;5;241m.\u001B[39m_validate_params()\n\u001B[1;32m   1146\u001B[0m \u001B[38;5;28;01mwith\u001B[39;00m config_context(\n\u001B[1;32m   1147\u001B[0m     skip_parameter_validation\u001B[38;5;241m=\u001B[39m(\n\u001B[1;32m   1148\u001B[0m         prefer_skip_nested_validation \u001B[38;5;129;01mor\u001B[39;00m global_skip_validation\n\u001B[1;32m   1149\u001B[0m     )\n\u001B[1;32m   1150\u001B[0m ):\n\u001B[0;32m-> 1151\u001B[0m     \u001B[38;5;28;01mreturn\u001B[39;00m \u001B[43mfit_method\u001B[49m\u001B[43m(\u001B[49m\u001B[43mestimator\u001B[49m\u001B[43m,\u001B[49m\u001B[43m \u001B[49m\u001B[38;5;241;43m*\u001B[39;49m\u001B[43margs\u001B[49m\u001B[43m,\u001B[49m\u001B[43m \u001B[49m\u001B[38;5;241;43m*\u001B[39;49m\u001B[38;5;241;43m*\u001B[39;49m\u001B[43mkwargs\u001B[49m\u001B[43m)\u001B[49m\n",
      "File \u001B[0;32m/usr/local/lib/python3.11/site-packages/sklearn/model_selection/_search.py:898\u001B[0m, in \u001B[0;36mBaseSearchCV.fit\u001B[0;34m(self, X, y, groups, **fit_params)\u001B[0m\n\u001B[1;32m    892\u001B[0m     results \u001B[38;5;241m=\u001B[39m \u001B[38;5;28mself\u001B[39m\u001B[38;5;241m.\u001B[39m_format_results(\n\u001B[1;32m    893\u001B[0m         all_candidate_params, n_splits, all_out, all_more_results\n\u001B[1;32m    894\u001B[0m     )\n\u001B[1;32m    896\u001B[0m     \u001B[38;5;28;01mreturn\u001B[39;00m results\n\u001B[0;32m--> 898\u001B[0m \u001B[38;5;28;43mself\u001B[39;49m\u001B[38;5;241;43m.\u001B[39;49m\u001B[43m_run_search\u001B[49m\u001B[43m(\u001B[49m\u001B[43mevaluate_candidates\u001B[49m\u001B[43m)\u001B[49m\n\u001B[1;32m    900\u001B[0m \u001B[38;5;66;03m# multimetric is determined here because in the case of a callable\u001B[39;00m\n\u001B[1;32m    901\u001B[0m \u001B[38;5;66;03m# self.scoring the return type is only known after calling\u001B[39;00m\n\u001B[1;32m    902\u001B[0m first_test_score \u001B[38;5;241m=\u001B[39m all_out[\u001B[38;5;241m0\u001B[39m][\u001B[38;5;124m\"\u001B[39m\u001B[38;5;124mtest_scores\u001B[39m\u001B[38;5;124m\"\u001B[39m]\n",
      "File \u001B[0;32m/usr/local/lib/python3.11/site-packages/sklearn/model_selection/_search.py:1419\u001B[0m, in \u001B[0;36mGridSearchCV._run_search\u001B[0;34m(self, evaluate_candidates)\u001B[0m\n\u001B[1;32m   1417\u001B[0m \u001B[38;5;28;01mdef\u001B[39;00m \u001B[38;5;21m_run_search\u001B[39m(\u001B[38;5;28mself\u001B[39m, evaluate_candidates):\n\u001B[1;32m   1418\u001B[0m \u001B[38;5;250m    \u001B[39m\u001B[38;5;124;03m\"\"\"Search all candidates in param_grid\"\"\"\u001B[39;00m\n\u001B[0;32m-> 1419\u001B[0m     \u001B[43mevaluate_candidates\u001B[49m\u001B[43m(\u001B[49m\u001B[43mParameterGrid\u001B[49m\u001B[43m(\u001B[49m\u001B[38;5;28;43mself\u001B[39;49m\u001B[38;5;241;43m.\u001B[39;49m\u001B[43mparam_grid\u001B[49m\u001B[43m)\u001B[49m\u001B[43m)\u001B[49m\n",
      "File \u001B[0;32m/usr/local/lib/python3.11/site-packages/sklearn/model_selection/_search.py:845\u001B[0m, in \u001B[0;36mBaseSearchCV.fit.<locals>.evaluate_candidates\u001B[0;34m(candidate_params, cv, more_results)\u001B[0m\n\u001B[1;32m    837\u001B[0m \u001B[38;5;28;01mif\u001B[39;00m \u001B[38;5;28mself\u001B[39m\u001B[38;5;241m.\u001B[39mverbose \u001B[38;5;241m>\u001B[39m \u001B[38;5;241m0\u001B[39m:\n\u001B[1;32m    838\u001B[0m     \u001B[38;5;28mprint\u001B[39m(\n\u001B[1;32m    839\u001B[0m         \u001B[38;5;124m\"\u001B[39m\u001B[38;5;124mFitting \u001B[39m\u001B[38;5;132;01m{0}\u001B[39;00m\u001B[38;5;124m folds for each of \u001B[39m\u001B[38;5;132;01m{1}\u001B[39;00m\u001B[38;5;124m candidates,\u001B[39m\u001B[38;5;124m\"\u001B[39m\n\u001B[1;32m    840\u001B[0m         \u001B[38;5;124m\"\u001B[39m\u001B[38;5;124m totalling \u001B[39m\u001B[38;5;132;01m{2}\u001B[39;00m\u001B[38;5;124m fits\u001B[39m\u001B[38;5;124m\"\u001B[39m\u001B[38;5;241m.\u001B[39mformat(\n\u001B[1;32m    841\u001B[0m             n_splits, n_candidates, n_candidates \u001B[38;5;241m*\u001B[39m n_splits\n\u001B[1;32m    842\u001B[0m         )\n\u001B[1;32m    843\u001B[0m     )\n\u001B[0;32m--> 845\u001B[0m out \u001B[38;5;241m=\u001B[39m \u001B[43mparallel\u001B[49m\u001B[43m(\u001B[49m\n\u001B[1;32m    846\u001B[0m \u001B[43m    \u001B[49m\u001B[43mdelayed\u001B[49m\u001B[43m(\u001B[49m\u001B[43m_fit_and_score\u001B[49m\u001B[43m)\u001B[49m\u001B[43m(\u001B[49m\n\u001B[1;32m    847\u001B[0m \u001B[43m        \u001B[49m\u001B[43mclone\u001B[49m\u001B[43m(\u001B[49m\u001B[43mbase_estimator\u001B[49m\u001B[43m)\u001B[49m\u001B[43m,\u001B[49m\n\u001B[1;32m    848\u001B[0m \u001B[43m        \u001B[49m\u001B[43mX\u001B[49m\u001B[43m,\u001B[49m\n\u001B[1;32m    849\u001B[0m \u001B[43m        \u001B[49m\u001B[43my\u001B[49m\u001B[43m,\u001B[49m\n\u001B[1;32m    850\u001B[0m \u001B[43m        \u001B[49m\u001B[43mtrain\u001B[49m\u001B[38;5;241;43m=\u001B[39;49m\u001B[43mtrain\u001B[49m\u001B[43m,\u001B[49m\n\u001B[1;32m    851\u001B[0m \u001B[43m        \u001B[49m\u001B[43mtest\u001B[49m\u001B[38;5;241;43m=\u001B[39;49m\u001B[43mtest\u001B[49m\u001B[43m,\u001B[49m\n\u001B[1;32m    852\u001B[0m \u001B[43m        \u001B[49m\u001B[43mparameters\u001B[49m\u001B[38;5;241;43m=\u001B[39;49m\u001B[43mparameters\u001B[49m\u001B[43m,\u001B[49m\n\u001B[1;32m    853\u001B[0m \u001B[43m        \u001B[49m\u001B[43msplit_progress\u001B[49m\u001B[38;5;241;43m=\u001B[39;49m\u001B[43m(\u001B[49m\u001B[43msplit_idx\u001B[49m\u001B[43m,\u001B[49m\u001B[43m \u001B[49m\u001B[43mn_splits\u001B[49m\u001B[43m)\u001B[49m\u001B[43m,\u001B[49m\n\u001B[1;32m    854\u001B[0m \u001B[43m        \u001B[49m\u001B[43mcandidate_progress\u001B[49m\u001B[38;5;241;43m=\u001B[39;49m\u001B[43m(\u001B[49m\u001B[43mcand_idx\u001B[49m\u001B[43m,\u001B[49m\u001B[43m \u001B[49m\u001B[43mn_candidates\u001B[49m\u001B[43m)\u001B[49m\u001B[43m,\u001B[49m\n\u001B[1;32m    855\u001B[0m \u001B[43m        \u001B[49m\u001B[38;5;241;43m*\u001B[39;49m\u001B[38;5;241;43m*\u001B[39;49m\u001B[43mfit_and_score_kwargs\u001B[49m\u001B[43m,\u001B[49m\n\u001B[1;32m    856\u001B[0m \u001B[43m    \u001B[49m\u001B[43m)\u001B[49m\n\u001B[1;32m    857\u001B[0m \u001B[43m    \u001B[49m\u001B[38;5;28;43;01mfor\u001B[39;49;00m\u001B[43m \u001B[49m\u001B[43m(\u001B[49m\u001B[43mcand_idx\u001B[49m\u001B[43m,\u001B[49m\u001B[43m \u001B[49m\u001B[43mparameters\u001B[49m\u001B[43m)\u001B[49m\u001B[43m,\u001B[49m\u001B[43m \u001B[49m\u001B[43m(\u001B[49m\u001B[43msplit_idx\u001B[49m\u001B[43m,\u001B[49m\u001B[43m \u001B[49m\u001B[43m(\u001B[49m\u001B[43mtrain\u001B[49m\u001B[43m,\u001B[49m\u001B[43m \u001B[49m\u001B[43mtest\u001B[49m\u001B[43m)\u001B[49m\u001B[43m)\u001B[49m\u001B[43m \u001B[49m\u001B[38;5;129;43;01min\u001B[39;49;00m\u001B[43m \u001B[49m\u001B[43mproduct\u001B[49m\u001B[43m(\u001B[49m\n\u001B[1;32m    858\u001B[0m \u001B[43m        \u001B[49m\u001B[38;5;28;43menumerate\u001B[39;49m\u001B[43m(\u001B[49m\u001B[43mcandidate_params\u001B[49m\u001B[43m)\u001B[49m\u001B[43m,\u001B[49m\u001B[43m \u001B[49m\u001B[38;5;28;43menumerate\u001B[39;49m\u001B[43m(\u001B[49m\u001B[43mcv\u001B[49m\u001B[38;5;241;43m.\u001B[39;49m\u001B[43msplit\u001B[49m\u001B[43m(\u001B[49m\u001B[43mX\u001B[49m\u001B[43m,\u001B[49m\u001B[43m \u001B[49m\u001B[43my\u001B[49m\u001B[43m,\u001B[49m\u001B[43m \u001B[49m\u001B[43mgroups\u001B[49m\u001B[43m)\u001B[49m\u001B[43m)\u001B[49m\n\u001B[1;32m    859\u001B[0m \u001B[43m    \u001B[49m\u001B[43m)\u001B[49m\n\u001B[1;32m    860\u001B[0m \u001B[43m\u001B[49m\u001B[43m)\u001B[49m\n\u001B[1;32m    862\u001B[0m \u001B[38;5;28;01mif\u001B[39;00m \u001B[38;5;28mlen\u001B[39m(out) \u001B[38;5;241m<\u001B[39m \u001B[38;5;241m1\u001B[39m:\n\u001B[1;32m    863\u001B[0m     \u001B[38;5;28;01mraise\u001B[39;00m \u001B[38;5;167;01mValueError\u001B[39;00m(\n\u001B[1;32m    864\u001B[0m         \u001B[38;5;124m\"\u001B[39m\u001B[38;5;124mNo fits were performed. \u001B[39m\u001B[38;5;124m\"\u001B[39m\n\u001B[1;32m    865\u001B[0m         \u001B[38;5;124m\"\u001B[39m\u001B[38;5;124mWas the CV iterator empty? \u001B[39m\u001B[38;5;124m\"\u001B[39m\n\u001B[1;32m    866\u001B[0m         \u001B[38;5;124m\"\u001B[39m\u001B[38;5;124mWere there no candidates?\u001B[39m\u001B[38;5;124m\"\u001B[39m\n\u001B[1;32m    867\u001B[0m     )\n",
      "File \u001B[0;32m/usr/local/lib/python3.11/site-packages/sklearn/utils/parallel.py:65\u001B[0m, in \u001B[0;36mParallel.__call__\u001B[0;34m(self, iterable)\u001B[0m\n\u001B[1;32m     60\u001B[0m config \u001B[38;5;241m=\u001B[39m get_config()\n\u001B[1;32m     61\u001B[0m iterable_with_config \u001B[38;5;241m=\u001B[39m (\n\u001B[1;32m     62\u001B[0m     (_with_config(delayed_func, config), args, kwargs)\n\u001B[1;32m     63\u001B[0m     \u001B[38;5;28;01mfor\u001B[39;00m delayed_func, args, kwargs \u001B[38;5;129;01min\u001B[39;00m iterable\n\u001B[1;32m     64\u001B[0m )\n\u001B[0;32m---> 65\u001B[0m \u001B[38;5;28;01mreturn\u001B[39;00m \u001B[38;5;28;43msuper\u001B[39;49m\u001B[43m(\u001B[49m\u001B[43m)\u001B[49m\u001B[38;5;241;43m.\u001B[39;49m\u001B[38;5;21;43m__call__\u001B[39;49m\u001B[43m(\u001B[49m\u001B[43miterable_with_config\u001B[49m\u001B[43m)\u001B[49m\n",
      "File \u001B[0;32m/usr/local/lib/python3.11/site-packages/joblib/parallel.py:1855\u001B[0m, in \u001B[0;36mParallel.__call__\u001B[0;34m(self, iterable)\u001B[0m\n\u001B[1;32m   1853\u001B[0m     output \u001B[38;5;241m=\u001B[39m \u001B[38;5;28mself\u001B[39m\u001B[38;5;241m.\u001B[39m_get_sequential_output(iterable)\n\u001B[1;32m   1854\u001B[0m     \u001B[38;5;28mnext\u001B[39m(output)\n\u001B[0;32m-> 1855\u001B[0m     \u001B[38;5;28;01mreturn\u001B[39;00m output \u001B[38;5;28;01mif\u001B[39;00m \u001B[38;5;28mself\u001B[39m\u001B[38;5;241m.\u001B[39mreturn_generator \u001B[38;5;28;01melse\u001B[39;00m \u001B[38;5;28;43mlist\u001B[39;49m\u001B[43m(\u001B[49m\u001B[43moutput\u001B[49m\u001B[43m)\u001B[49m\n\u001B[1;32m   1857\u001B[0m \u001B[38;5;66;03m# Let's create an ID that uniquely identifies the current call. If the\u001B[39;00m\n\u001B[1;32m   1858\u001B[0m \u001B[38;5;66;03m# call is interrupted early and that the same instance is immediately\u001B[39;00m\n\u001B[1;32m   1859\u001B[0m \u001B[38;5;66;03m# re-used, this id will be used to prevent workers that were\u001B[39;00m\n\u001B[1;32m   1860\u001B[0m \u001B[38;5;66;03m# concurrently finalizing a task from the previous call to run the\u001B[39;00m\n\u001B[1;32m   1861\u001B[0m \u001B[38;5;66;03m# callback.\u001B[39;00m\n\u001B[1;32m   1862\u001B[0m \u001B[38;5;28;01mwith\u001B[39;00m \u001B[38;5;28mself\u001B[39m\u001B[38;5;241m.\u001B[39m_lock:\n",
      "File \u001B[0;32m/usr/local/lib/python3.11/site-packages/joblib/parallel.py:1784\u001B[0m, in \u001B[0;36mParallel._get_sequential_output\u001B[0;34m(self, iterable)\u001B[0m\n\u001B[1;32m   1782\u001B[0m \u001B[38;5;28mself\u001B[39m\u001B[38;5;241m.\u001B[39mn_dispatched_batches \u001B[38;5;241m+\u001B[39m\u001B[38;5;241m=\u001B[39m \u001B[38;5;241m1\u001B[39m\n\u001B[1;32m   1783\u001B[0m \u001B[38;5;28mself\u001B[39m\u001B[38;5;241m.\u001B[39mn_dispatched_tasks \u001B[38;5;241m+\u001B[39m\u001B[38;5;241m=\u001B[39m \u001B[38;5;241m1\u001B[39m\n\u001B[0;32m-> 1784\u001B[0m res \u001B[38;5;241m=\u001B[39m \u001B[43mfunc\u001B[49m\u001B[43m(\u001B[49m\u001B[38;5;241;43m*\u001B[39;49m\u001B[43margs\u001B[49m\u001B[43m,\u001B[49m\u001B[43m \u001B[49m\u001B[38;5;241;43m*\u001B[39;49m\u001B[38;5;241;43m*\u001B[39;49m\u001B[43mkwargs\u001B[49m\u001B[43m)\u001B[49m\n\u001B[1;32m   1785\u001B[0m \u001B[38;5;28mself\u001B[39m\u001B[38;5;241m.\u001B[39mn_completed_tasks \u001B[38;5;241m+\u001B[39m\u001B[38;5;241m=\u001B[39m \u001B[38;5;241m1\u001B[39m\n\u001B[1;32m   1786\u001B[0m \u001B[38;5;28mself\u001B[39m\u001B[38;5;241m.\u001B[39mprint_progress()\n",
      "File \u001B[0;32m/usr/local/lib/python3.11/site-packages/sklearn/utils/parallel.py:127\u001B[0m, in \u001B[0;36m_FuncWrapper.__call__\u001B[0;34m(self, *args, **kwargs)\u001B[0m\n\u001B[1;32m    125\u001B[0m     config \u001B[38;5;241m=\u001B[39m {}\n\u001B[1;32m    126\u001B[0m \u001B[38;5;28;01mwith\u001B[39;00m config_context(\u001B[38;5;241m*\u001B[39m\u001B[38;5;241m*\u001B[39mconfig):\n\u001B[0;32m--> 127\u001B[0m     \u001B[38;5;28;01mreturn\u001B[39;00m \u001B[38;5;28;43mself\u001B[39;49m\u001B[38;5;241;43m.\u001B[39;49m\u001B[43mfunction\u001B[49m\u001B[43m(\u001B[49m\u001B[38;5;241;43m*\u001B[39;49m\u001B[43margs\u001B[49m\u001B[43m,\u001B[49m\u001B[43m \u001B[49m\u001B[38;5;241;43m*\u001B[39;49m\u001B[38;5;241;43m*\u001B[39;49m\u001B[43mkwargs\u001B[49m\u001B[43m)\u001B[49m\n",
      "File \u001B[0;32m/usr/local/lib/python3.11/site-packages/sklearn/model_selection/_validation.py:732\u001B[0m, in \u001B[0;36m_fit_and_score\u001B[0;34m(estimator, X, y, scorer, train, test, verbose, parameters, fit_params, return_train_score, return_parameters, return_n_test_samples, return_times, return_estimator, split_progress, candidate_progress, error_score)\u001B[0m\n\u001B[1;32m    730\u001B[0m         estimator\u001B[38;5;241m.\u001B[39mfit(X_train, \u001B[38;5;241m*\u001B[39m\u001B[38;5;241m*\u001B[39mfit_params)\n\u001B[1;32m    731\u001B[0m     \u001B[38;5;28;01melse\u001B[39;00m:\n\u001B[0;32m--> 732\u001B[0m         \u001B[43mestimator\u001B[49m\u001B[38;5;241;43m.\u001B[39;49m\u001B[43mfit\u001B[49m\u001B[43m(\u001B[49m\u001B[43mX_train\u001B[49m\u001B[43m,\u001B[49m\u001B[43m \u001B[49m\u001B[43my_train\u001B[49m\u001B[43m,\u001B[49m\u001B[43m \u001B[49m\u001B[38;5;241;43m*\u001B[39;49m\u001B[38;5;241;43m*\u001B[39;49m\u001B[43mfit_params\u001B[49m\u001B[43m)\u001B[49m\n\u001B[1;32m    734\u001B[0m \u001B[38;5;28;01mexcept\u001B[39;00m \u001B[38;5;167;01mException\u001B[39;00m:\n\u001B[1;32m    735\u001B[0m     \u001B[38;5;66;03m# Note fit time as time until error\u001B[39;00m\n\u001B[1;32m    736\u001B[0m     fit_time \u001B[38;5;241m=\u001B[39m time\u001B[38;5;241m.\u001B[39mtime() \u001B[38;5;241m-\u001B[39m start_time\n",
      "File \u001B[0;32m/usr/local/lib/python3.11/site-packages/sklearn/base.py:1151\u001B[0m, in \u001B[0;36m_fit_context.<locals>.decorator.<locals>.wrapper\u001B[0;34m(estimator, *args, **kwargs)\u001B[0m\n\u001B[1;32m   1144\u001B[0m     estimator\u001B[38;5;241m.\u001B[39m_validate_params()\n\u001B[1;32m   1146\u001B[0m \u001B[38;5;28;01mwith\u001B[39;00m config_context(\n\u001B[1;32m   1147\u001B[0m     skip_parameter_validation\u001B[38;5;241m=\u001B[39m(\n\u001B[1;32m   1148\u001B[0m         prefer_skip_nested_validation \u001B[38;5;129;01mor\u001B[39;00m global_skip_validation\n\u001B[1;32m   1149\u001B[0m     )\n\u001B[1;32m   1150\u001B[0m ):\n\u001B[0;32m-> 1151\u001B[0m     \u001B[38;5;28;01mreturn\u001B[39;00m \u001B[43mfit_method\u001B[49m\u001B[43m(\u001B[49m\u001B[43mestimator\u001B[49m\u001B[43m,\u001B[49m\u001B[43m \u001B[49m\u001B[38;5;241;43m*\u001B[39;49m\u001B[43margs\u001B[49m\u001B[43m,\u001B[49m\u001B[43m \u001B[49m\u001B[38;5;241;43m*\u001B[39;49m\u001B[38;5;241;43m*\u001B[39;49m\u001B[43mkwargs\u001B[49m\u001B[43m)\u001B[49m\n",
      "File \u001B[0;32m/usr/local/lib/python3.11/site-packages/sklearn/ensemble/_forest.py:456\u001B[0m, in \u001B[0;36mBaseForest.fit\u001B[0;34m(self, X, y, sample_weight)\u001B[0m\n\u001B[1;32m    445\u001B[0m trees \u001B[38;5;241m=\u001B[39m [\n\u001B[1;32m    446\u001B[0m     \u001B[38;5;28mself\u001B[39m\u001B[38;5;241m.\u001B[39m_make_estimator(append\u001B[38;5;241m=\u001B[39m\u001B[38;5;28;01mFalse\u001B[39;00m, random_state\u001B[38;5;241m=\u001B[39mrandom_state)\n\u001B[1;32m    447\u001B[0m     \u001B[38;5;28;01mfor\u001B[39;00m i \u001B[38;5;129;01min\u001B[39;00m \u001B[38;5;28mrange\u001B[39m(n_more_estimators)\n\u001B[1;32m    448\u001B[0m ]\n\u001B[1;32m    450\u001B[0m \u001B[38;5;66;03m# Parallel loop: we prefer the threading backend as the Cython code\u001B[39;00m\n\u001B[1;32m    451\u001B[0m \u001B[38;5;66;03m# for fitting the trees is internally releasing the Python GIL\u001B[39;00m\n\u001B[1;32m    452\u001B[0m \u001B[38;5;66;03m# making threading more efficient than multiprocessing in\u001B[39;00m\n\u001B[1;32m    453\u001B[0m \u001B[38;5;66;03m# that case. However, for joblib 0.12+ we respect any\u001B[39;00m\n\u001B[1;32m    454\u001B[0m \u001B[38;5;66;03m# parallel_backend contexts set at a higher level,\u001B[39;00m\n\u001B[1;32m    455\u001B[0m \u001B[38;5;66;03m# since correctness does not rely on using threads.\u001B[39;00m\n\u001B[0;32m--> 456\u001B[0m trees \u001B[38;5;241m=\u001B[39m \u001B[43mParallel\u001B[49m\u001B[43m(\u001B[49m\n\u001B[1;32m    457\u001B[0m \u001B[43m    \u001B[49m\u001B[43mn_jobs\u001B[49m\u001B[38;5;241;43m=\u001B[39;49m\u001B[38;5;28;43mself\u001B[39;49m\u001B[38;5;241;43m.\u001B[39;49m\u001B[43mn_jobs\u001B[49m\u001B[43m,\u001B[49m\n\u001B[1;32m    458\u001B[0m \u001B[43m    \u001B[49m\u001B[43mverbose\u001B[49m\u001B[38;5;241;43m=\u001B[39;49m\u001B[38;5;28;43mself\u001B[39;49m\u001B[38;5;241;43m.\u001B[39;49m\u001B[43mverbose\u001B[49m\u001B[43m,\u001B[49m\n\u001B[1;32m    459\u001B[0m \u001B[43m    \u001B[49m\u001B[43mprefer\u001B[49m\u001B[38;5;241;43m=\u001B[39;49m\u001B[38;5;124;43m\"\u001B[39;49m\u001B[38;5;124;43mthreads\u001B[39;49m\u001B[38;5;124;43m\"\u001B[39;49m\u001B[43m,\u001B[49m\n\u001B[1;32m    460\u001B[0m \u001B[43m\u001B[49m\u001B[43m)\u001B[49m\u001B[43m(\u001B[49m\n\u001B[1;32m    461\u001B[0m \u001B[43m    \u001B[49m\u001B[43mdelayed\u001B[49m\u001B[43m(\u001B[49m\u001B[43m_parallel_build_trees\u001B[49m\u001B[43m)\u001B[49m\u001B[43m(\u001B[49m\n\u001B[1;32m    462\u001B[0m \u001B[43m        \u001B[49m\u001B[43mt\u001B[49m\u001B[43m,\u001B[49m\n\u001B[1;32m    463\u001B[0m \u001B[43m        \u001B[49m\u001B[38;5;28;43mself\u001B[39;49m\u001B[38;5;241;43m.\u001B[39;49m\u001B[43mbootstrap\u001B[49m\u001B[43m,\u001B[49m\n\u001B[1;32m    464\u001B[0m \u001B[43m        \u001B[49m\u001B[43mX\u001B[49m\u001B[43m,\u001B[49m\n\u001B[1;32m    465\u001B[0m \u001B[43m        \u001B[49m\u001B[43my\u001B[49m\u001B[43m,\u001B[49m\n\u001B[1;32m    466\u001B[0m \u001B[43m        \u001B[49m\u001B[43msample_weight\u001B[49m\u001B[43m,\u001B[49m\n\u001B[1;32m    467\u001B[0m \u001B[43m        \u001B[49m\u001B[43mi\u001B[49m\u001B[43m,\u001B[49m\n\u001B[1;32m    468\u001B[0m \u001B[43m        \u001B[49m\u001B[38;5;28;43mlen\u001B[39;49m\u001B[43m(\u001B[49m\u001B[43mtrees\u001B[49m\u001B[43m)\u001B[49m\u001B[43m,\u001B[49m\n\u001B[1;32m    469\u001B[0m \u001B[43m        \u001B[49m\u001B[43mverbose\u001B[49m\u001B[38;5;241;43m=\u001B[39;49m\u001B[38;5;28;43mself\u001B[39;49m\u001B[38;5;241;43m.\u001B[39;49m\u001B[43mverbose\u001B[49m\u001B[43m,\u001B[49m\n\u001B[1;32m    470\u001B[0m \u001B[43m        \u001B[49m\u001B[43mclass_weight\u001B[49m\u001B[38;5;241;43m=\u001B[39;49m\u001B[38;5;28;43mself\u001B[39;49m\u001B[38;5;241;43m.\u001B[39;49m\u001B[43mclass_weight\u001B[49m\u001B[43m,\u001B[49m\n\u001B[1;32m    471\u001B[0m \u001B[43m        \u001B[49m\u001B[43mn_samples_bootstrap\u001B[49m\u001B[38;5;241;43m=\u001B[39;49m\u001B[43mn_samples_bootstrap\u001B[49m\u001B[43m,\u001B[49m\n\u001B[1;32m    472\u001B[0m \u001B[43m    \u001B[49m\u001B[43m)\u001B[49m\n\u001B[1;32m    473\u001B[0m \u001B[43m    \u001B[49m\u001B[38;5;28;43;01mfor\u001B[39;49;00m\u001B[43m \u001B[49m\u001B[43mi\u001B[49m\u001B[43m,\u001B[49m\u001B[43m \u001B[49m\u001B[43mt\u001B[49m\u001B[43m \u001B[49m\u001B[38;5;129;43;01min\u001B[39;49;00m\u001B[43m \u001B[49m\u001B[38;5;28;43menumerate\u001B[39;49m\u001B[43m(\u001B[49m\u001B[43mtrees\u001B[49m\u001B[43m)\u001B[49m\n\u001B[1;32m    474\u001B[0m \u001B[43m\u001B[49m\u001B[43m)\u001B[49m\n\u001B[1;32m    476\u001B[0m \u001B[38;5;66;03m# Collect newly grown trees\u001B[39;00m\n\u001B[1;32m    477\u001B[0m \u001B[38;5;28mself\u001B[39m\u001B[38;5;241m.\u001B[39mestimators_\u001B[38;5;241m.\u001B[39mextend(trees)\n",
      "File \u001B[0;32m/usr/local/lib/python3.11/site-packages/sklearn/utils/parallel.py:65\u001B[0m, in \u001B[0;36mParallel.__call__\u001B[0;34m(self, iterable)\u001B[0m\n\u001B[1;32m     60\u001B[0m config \u001B[38;5;241m=\u001B[39m get_config()\n\u001B[1;32m     61\u001B[0m iterable_with_config \u001B[38;5;241m=\u001B[39m (\n\u001B[1;32m     62\u001B[0m     (_with_config(delayed_func, config), args, kwargs)\n\u001B[1;32m     63\u001B[0m     \u001B[38;5;28;01mfor\u001B[39;00m delayed_func, args, kwargs \u001B[38;5;129;01min\u001B[39;00m iterable\n\u001B[1;32m     64\u001B[0m )\n\u001B[0;32m---> 65\u001B[0m \u001B[38;5;28;01mreturn\u001B[39;00m \u001B[38;5;28;43msuper\u001B[39;49m\u001B[43m(\u001B[49m\u001B[43m)\u001B[49m\u001B[38;5;241;43m.\u001B[39;49m\u001B[38;5;21;43m__call__\u001B[39;49m\u001B[43m(\u001B[49m\u001B[43miterable_with_config\u001B[49m\u001B[43m)\u001B[49m\n",
      "File \u001B[0;32m/usr/local/lib/python3.11/site-packages/joblib/parallel.py:1855\u001B[0m, in \u001B[0;36mParallel.__call__\u001B[0;34m(self, iterable)\u001B[0m\n\u001B[1;32m   1853\u001B[0m     output \u001B[38;5;241m=\u001B[39m \u001B[38;5;28mself\u001B[39m\u001B[38;5;241m.\u001B[39m_get_sequential_output(iterable)\n\u001B[1;32m   1854\u001B[0m     \u001B[38;5;28mnext\u001B[39m(output)\n\u001B[0;32m-> 1855\u001B[0m     \u001B[38;5;28;01mreturn\u001B[39;00m output \u001B[38;5;28;01mif\u001B[39;00m \u001B[38;5;28mself\u001B[39m\u001B[38;5;241m.\u001B[39mreturn_generator \u001B[38;5;28;01melse\u001B[39;00m \u001B[38;5;28mlist\u001B[39m(output)\n\u001B[1;32m   1857\u001B[0m \u001B[38;5;66;03m# Let's create an ID that uniquely identifies the current call. If the\u001B[39;00m\n\u001B[1;32m   1858\u001B[0m \u001B[38;5;66;03m# call is interrupted early and that the same instance is immediately\u001B[39;00m\n\u001B[1;32m   1859\u001B[0m \u001B[38;5;66;03m# re-used, this id will be used to prevent workers that were\u001B[39;00m\n\u001B[1;32m   1860\u001B[0m \u001B[38;5;66;03m# concurrently finalizing a task from the previous call to run the\u001B[39;00m\n\u001B[1;32m   1861\u001B[0m \u001B[38;5;66;03m# callback.\u001B[39;00m\n\u001B[1;32m   1862\u001B[0m \u001B[38;5;28;01mwith\u001B[39;00m \u001B[38;5;28mself\u001B[39m\u001B[38;5;241m.\u001B[39m_lock:\n",
      "File \u001B[0;32m/usr/local/lib/python3.11/site-packages/joblib/parallel.py:1784\u001B[0m, in \u001B[0;36mParallel._get_sequential_output\u001B[0;34m(self, iterable)\u001B[0m\n\u001B[1;32m   1782\u001B[0m \u001B[38;5;28mself\u001B[39m\u001B[38;5;241m.\u001B[39mn_dispatched_batches \u001B[38;5;241m+\u001B[39m\u001B[38;5;241m=\u001B[39m \u001B[38;5;241m1\u001B[39m\n\u001B[1;32m   1783\u001B[0m \u001B[38;5;28mself\u001B[39m\u001B[38;5;241m.\u001B[39mn_dispatched_tasks \u001B[38;5;241m+\u001B[39m\u001B[38;5;241m=\u001B[39m \u001B[38;5;241m1\u001B[39m\n\u001B[0;32m-> 1784\u001B[0m res \u001B[38;5;241m=\u001B[39m \u001B[43mfunc\u001B[49m\u001B[43m(\u001B[49m\u001B[38;5;241;43m*\u001B[39;49m\u001B[43margs\u001B[49m\u001B[43m,\u001B[49m\u001B[43m \u001B[49m\u001B[38;5;241;43m*\u001B[39;49m\u001B[38;5;241;43m*\u001B[39;49m\u001B[43mkwargs\u001B[49m\u001B[43m)\u001B[49m\n\u001B[1;32m   1785\u001B[0m \u001B[38;5;28mself\u001B[39m\u001B[38;5;241m.\u001B[39mn_completed_tasks \u001B[38;5;241m+\u001B[39m\u001B[38;5;241m=\u001B[39m \u001B[38;5;241m1\u001B[39m\n\u001B[1;32m   1786\u001B[0m \u001B[38;5;28mself\u001B[39m\u001B[38;5;241m.\u001B[39mprint_progress()\n",
      "File \u001B[0;32m/usr/local/lib/python3.11/site-packages/sklearn/utils/parallel.py:127\u001B[0m, in \u001B[0;36m_FuncWrapper.__call__\u001B[0;34m(self, *args, **kwargs)\u001B[0m\n\u001B[1;32m    125\u001B[0m     config \u001B[38;5;241m=\u001B[39m {}\n\u001B[1;32m    126\u001B[0m \u001B[38;5;28;01mwith\u001B[39;00m config_context(\u001B[38;5;241m*\u001B[39m\u001B[38;5;241m*\u001B[39mconfig):\n\u001B[0;32m--> 127\u001B[0m     \u001B[38;5;28;01mreturn\u001B[39;00m \u001B[38;5;28;43mself\u001B[39;49m\u001B[38;5;241;43m.\u001B[39;49m\u001B[43mfunction\u001B[49m\u001B[43m(\u001B[49m\u001B[38;5;241;43m*\u001B[39;49m\u001B[43margs\u001B[49m\u001B[43m,\u001B[49m\u001B[43m \u001B[49m\u001B[38;5;241;43m*\u001B[39;49m\u001B[38;5;241;43m*\u001B[39;49m\u001B[43mkwargs\u001B[49m\u001B[43m)\u001B[49m\n",
      "File \u001B[0;32m/usr/local/lib/python3.11/site-packages/sklearn/ensemble/_forest.py:188\u001B[0m, in \u001B[0;36m_parallel_build_trees\u001B[0;34m(tree, bootstrap, X, y, sample_weight, tree_idx, n_trees, verbose, class_weight, n_samples_bootstrap)\u001B[0m\n\u001B[1;32m    185\u001B[0m     \u001B[38;5;28;01melif\u001B[39;00m class_weight \u001B[38;5;241m==\u001B[39m \u001B[38;5;124m\"\u001B[39m\u001B[38;5;124mbalanced_subsample\u001B[39m\u001B[38;5;124m\"\u001B[39m:\n\u001B[1;32m    186\u001B[0m         curr_sample_weight \u001B[38;5;241m*\u001B[39m\u001B[38;5;241m=\u001B[39m compute_sample_weight(\u001B[38;5;124m\"\u001B[39m\u001B[38;5;124mbalanced\u001B[39m\u001B[38;5;124m\"\u001B[39m, y, indices\u001B[38;5;241m=\u001B[39mindices)\n\u001B[0;32m--> 188\u001B[0m     \u001B[43mtree\u001B[49m\u001B[38;5;241;43m.\u001B[39;49m\u001B[43mfit\u001B[49m\u001B[43m(\u001B[49m\u001B[43mX\u001B[49m\u001B[43m,\u001B[49m\u001B[43m \u001B[49m\u001B[43my\u001B[49m\u001B[43m,\u001B[49m\u001B[43m \u001B[49m\u001B[43msample_weight\u001B[49m\u001B[38;5;241;43m=\u001B[39;49m\u001B[43mcurr_sample_weight\u001B[49m\u001B[43m,\u001B[49m\u001B[43m \u001B[49m\u001B[43mcheck_input\u001B[49m\u001B[38;5;241;43m=\u001B[39;49m\u001B[38;5;28;43;01mFalse\u001B[39;49;00m\u001B[43m)\u001B[49m\n\u001B[1;32m    189\u001B[0m \u001B[38;5;28;01melse\u001B[39;00m:\n\u001B[1;32m    190\u001B[0m     tree\u001B[38;5;241m.\u001B[39mfit(X, y, sample_weight\u001B[38;5;241m=\u001B[39msample_weight, check_input\u001B[38;5;241m=\u001B[39m\u001B[38;5;28;01mFalse\u001B[39;00m)\n",
      "File \u001B[0;32m/usr/local/lib/python3.11/site-packages/sklearn/base.py:1151\u001B[0m, in \u001B[0;36m_fit_context.<locals>.decorator.<locals>.wrapper\u001B[0;34m(estimator, *args, **kwargs)\u001B[0m\n\u001B[1;32m   1144\u001B[0m     estimator\u001B[38;5;241m.\u001B[39m_validate_params()\n\u001B[1;32m   1146\u001B[0m \u001B[38;5;28;01mwith\u001B[39;00m config_context(\n\u001B[1;32m   1147\u001B[0m     skip_parameter_validation\u001B[38;5;241m=\u001B[39m(\n\u001B[1;32m   1148\u001B[0m         prefer_skip_nested_validation \u001B[38;5;129;01mor\u001B[39;00m global_skip_validation\n\u001B[1;32m   1149\u001B[0m     )\n\u001B[1;32m   1150\u001B[0m ):\n\u001B[0;32m-> 1151\u001B[0m     \u001B[38;5;28;01mreturn\u001B[39;00m \u001B[43mfit_method\u001B[49m\u001B[43m(\u001B[49m\u001B[43mestimator\u001B[49m\u001B[43m,\u001B[49m\u001B[43m \u001B[49m\u001B[38;5;241;43m*\u001B[39;49m\u001B[43margs\u001B[49m\u001B[43m,\u001B[49m\u001B[43m \u001B[49m\u001B[38;5;241;43m*\u001B[39;49m\u001B[38;5;241;43m*\u001B[39;49m\u001B[43mkwargs\u001B[49m\u001B[43m)\u001B[49m\n",
      "File \u001B[0;32m/usr/local/lib/python3.11/site-packages/sklearn/tree/_classes.py:959\u001B[0m, in \u001B[0;36mDecisionTreeClassifier.fit\u001B[0;34m(self, X, y, sample_weight, check_input)\u001B[0m\n\u001B[1;32m    928\u001B[0m \u001B[38;5;129m@_fit_context\u001B[39m(prefer_skip_nested_validation\u001B[38;5;241m=\u001B[39m\u001B[38;5;28;01mTrue\u001B[39;00m)\n\u001B[1;32m    929\u001B[0m \u001B[38;5;28;01mdef\u001B[39;00m \u001B[38;5;21mfit\u001B[39m(\u001B[38;5;28mself\u001B[39m, X, y, sample_weight\u001B[38;5;241m=\u001B[39m\u001B[38;5;28;01mNone\u001B[39;00m, check_input\u001B[38;5;241m=\u001B[39m\u001B[38;5;28;01mTrue\u001B[39;00m):\n\u001B[1;32m    930\u001B[0m \u001B[38;5;250m    \u001B[39m\u001B[38;5;124;03m\"\"\"Build a decision tree classifier from the training set (X, y).\u001B[39;00m\n\u001B[1;32m    931\u001B[0m \n\u001B[1;32m    932\u001B[0m \u001B[38;5;124;03m    Parameters\u001B[39;00m\n\u001B[0;32m   (...)\u001B[0m\n\u001B[1;32m    956\u001B[0m \u001B[38;5;124;03m        Fitted estimator.\u001B[39;00m\n\u001B[1;32m    957\u001B[0m \u001B[38;5;124;03m    \"\"\"\u001B[39;00m\n\u001B[0;32m--> 959\u001B[0m     \u001B[38;5;28;43msuper\u001B[39;49m\u001B[43m(\u001B[49m\u001B[43m)\u001B[49m\u001B[38;5;241;43m.\u001B[39;49m\u001B[43m_fit\u001B[49m\u001B[43m(\u001B[49m\n\u001B[1;32m    960\u001B[0m \u001B[43m        \u001B[49m\u001B[43mX\u001B[49m\u001B[43m,\u001B[49m\n\u001B[1;32m    961\u001B[0m \u001B[43m        \u001B[49m\u001B[43my\u001B[49m\u001B[43m,\u001B[49m\n\u001B[1;32m    962\u001B[0m \u001B[43m        \u001B[49m\u001B[43msample_weight\u001B[49m\u001B[38;5;241;43m=\u001B[39;49m\u001B[43msample_weight\u001B[49m\u001B[43m,\u001B[49m\n\u001B[1;32m    963\u001B[0m \u001B[43m        \u001B[49m\u001B[43mcheck_input\u001B[49m\u001B[38;5;241;43m=\u001B[39;49m\u001B[43mcheck_input\u001B[49m\u001B[43m,\u001B[49m\n\u001B[1;32m    964\u001B[0m \u001B[43m    \u001B[49m\u001B[43m)\u001B[49m\n\u001B[1;32m    965\u001B[0m     \u001B[38;5;28;01mreturn\u001B[39;00m \u001B[38;5;28mself\u001B[39m\n",
      "File \u001B[0;32m/usr/local/lib/python3.11/site-packages/sklearn/tree/_classes.py:443\u001B[0m, in \u001B[0;36mBaseDecisionTree._fit\u001B[0;34m(self, X, y, sample_weight, check_input, missing_values_in_feature_mask)\u001B[0m\n\u001B[1;32m    432\u001B[0m \u001B[38;5;28;01melse\u001B[39;00m:\n\u001B[1;32m    433\u001B[0m     builder \u001B[38;5;241m=\u001B[39m BestFirstTreeBuilder(\n\u001B[1;32m    434\u001B[0m         splitter,\n\u001B[1;32m    435\u001B[0m         min_samples_split,\n\u001B[0;32m   (...)\u001B[0m\n\u001B[1;32m    440\u001B[0m         \u001B[38;5;28mself\u001B[39m\u001B[38;5;241m.\u001B[39mmin_impurity_decrease,\n\u001B[1;32m    441\u001B[0m     )\n\u001B[0;32m--> 443\u001B[0m \u001B[43mbuilder\u001B[49m\u001B[38;5;241;43m.\u001B[39;49m\u001B[43mbuild\u001B[49m\u001B[43m(\u001B[49m\u001B[38;5;28;43mself\u001B[39;49m\u001B[38;5;241;43m.\u001B[39;49m\u001B[43mtree_\u001B[49m\u001B[43m,\u001B[49m\u001B[43m \u001B[49m\u001B[43mX\u001B[49m\u001B[43m,\u001B[49m\u001B[43m \u001B[49m\u001B[43my\u001B[49m\u001B[43m,\u001B[49m\u001B[43m \u001B[49m\u001B[43msample_weight\u001B[49m\u001B[43m,\u001B[49m\u001B[43m \u001B[49m\u001B[43mmissing_values_in_feature_mask\u001B[49m\u001B[43m)\u001B[49m\n\u001B[1;32m    445\u001B[0m \u001B[38;5;28;01mif\u001B[39;00m \u001B[38;5;28mself\u001B[39m\u001B[38;5;241m.\u001B[39mn_outputs_ \u001B[38;5;241m==\u001B[39m \u001B[38;5;241m1\u001B[39m \u001B[38;5;129;01mand\u001B[39;00m is_classifier(\u001B[38;5;28mself\u001B[39m):\n\u001B[1;32m    446\u001B[0m     \u001B[38;5;28mself\u001B[39m\u001B[38;5;241m.\u001B[39mn_classes_ \u001B[38;5;241m=\u001B[39m \u001B[38;5;28mself\u001B[39m\u001B[38;5;241m.\u001B[39mn_classes_[\u001B[38;5;241m0\u001B[39m]\n",
      "\u001B[0;31mKeyboardInterrupt\u001B[0m: "
     ]
    }
   ],
   "source": [
    "from sklearn.ensemble import RandomForestClassifier\n",
    "from sklearn.model_selection import GridSearchCV\n",
    "from sklearn.metrics import accuracy_score\n",
    "import pandas as pd\n",
    "\n",
    "\n",
    "param_grid_rf = {\n",
    "    'n_estimators': [50, 150, 250, 350],\n",
    "    'max_features': [0.1, 0.3, 0.5, 0.7, 0.9],\n",
    "    'min_samples_split': [2, 4, 6, 8, 10]\n",
    "}\n",
    "\n",
    "rf_clf = RandomForestClassifier(oob_score=True, random_state=43)\n",
    "\n",
    "grid_search_rf = GridSearchCV(estimator=rf_clf, param_grid=param_grid_rf, scoring='accuracy')\n",
    "\n",
    "# Fit the grid search to the training data\n",
    "grid_search_rf.fit(X_train, y_train.ravel())\n",
    "\n",
    "# Extract the best estimator\n",
    "best_rf_clf = grid_search_rf.best_estimator_\n",
    "\n",
    "# Predict on training, validation and test sets with the best estimator\n",
    "y_train_pred_rf = best_rf_clf.predict(X_train)\n",
    "y_val_pred_rf = best_rf_clf.predict(X_val)\n",
    "y_test_pred_rf = best_rf_clf.predict(X_test)\n",
    "\n",
    "# Calculate accuracies\n",
    "train_accuracy_rf = accuracy_score(y_train, y_train_pred_rf)\n",
    "val_accuracy_rf = accuracy_score(y_val, y_val_pred_rf)\n",
    "test_accuracy_rf = accuracy_score(y_test, y_test_pred_rf)\n",
    "\n",
    "# OOB accuracy\n",
    "oob_accuracy_rf = best_rf_clf.oob_score_\n",
    "\n",
    "# Best parameters\n",
    "best_params_rf = grid_search_rf.best_params_\n",
    "\n",
    "# Compile the results\n",
    "random_forest_results = {\n",
    "    'Best Parameters': best_params_rf,\n",
    "    'OOB Accuracy': oob_accuracy_rf,\n",
    "    'Training Accuracy': train_accuracy_rf,\n",
    "    'Validation Accuracy': val_accuracy_rf,\n",
    "    'Test Accuracy': test_accuracy_rf\n",
    "}\n",
    "\n",
    "# Print the results\n",
    "print(random_forest_results)"
   ],
   "metadata": {
    "collapsed": false,
    "ExecuteTime": {
     "end_time": "2023-11-04T12:15:30.438735Z",
     "start_time": "2023-11-04T12:06:26.911784Z"
    }
   },
   "id": "f94dce50a7b2ea2c"
  }
 ],
 "metadata": {
  "kernelspec": {
   "display_name": "Python 3",
   "language": "python",
   "name": "python3"
  },
  "language_info": {
   "codemirror_mode": {
    "name": "ipython",
    "version": 2
   },
   "file_extension": ".py",
   "mimetype": "text/x-python",
   "name": "python",
   "nbconvert_exporter": "python",
   "pygments_lexer": "ipython2",
   "version": "2.7.6"
  }
 },
 "nbformat": 4,
 "nbformat_minor": 5
}
