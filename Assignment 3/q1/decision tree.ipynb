{
 "cells": [
  {
   "cell_type": "code",
   "execution_count": 2,
   "id": "initial_id",
   "metadata": {
    "collapsed": true,
    "ExecuteTime": {
     "end_time": "2023-11-02T18:54:00.619762Z",
     "start_time": "2023-11-02T18:54:00.606430Z"
    }
   },
   "outputs": [],
   "source": [
    "from sklearn.preprocessing import OrdinalEncoder, OneHotEncoder\n",
    "import pandas as pd\n",
    "import numpy as np\n",
    "\n",
    "label_encoder = None \n",
    "\n",
    "def get_np_array(file_name):\n",
    "    global label_encoder\n",
    "    data = pd.read_csv(file_name)\n",
    "    \n",
    "    need_label_encoding = ['team','host','opp','month', 'day_match']\n",
    "    if(label_encoder is None):\n",
    "        label_encoder = OrdinalEncoder()\n",
    "        label_encoder.fit(data[need_label_encoding])\n",
    "    data_1 = pd.DataFrame(label_encoder.transform(data[need_label_encoding]), columns = label_encoder.get_feature_names_out())\n",
    "    \n",
    "    #merge the two dataframes\n",
    "    dont_need_label_encoding =  [\"year\",\"toss\",\"bat_first\",\"format\" ,\"fow\",\"score\" ,\"rpo\" ,\"result\"]\n",
    "    data_2 = data[dont_need_label_encoding]\n",
    "    final_data = pd.concat([data_1, data_2], axis=1)\n",
    "    \n",
    "    X = final_data.iloc[:,:-1]\n",
    "    y = final_data.iloc[:,-1:]\n",
    "    return X.to_numpy(), y.to_numpy()"
   ]
  },
  {
   "cell_type": "code",
   "execution_count": 3,
   "outputs": [
    {
     "data": {
      "text/plain": "   Unnamed: 0         team           opp       host  year month  toss  \\\n0        4901    australia  south_africa  sri_lanka  2012   sep     1   \n1        1910        india     australia      india  2020   jan     0   \n2        5735       canada      scotland   scotland  2009   jul     1   \n3        2136    australia       england  australia  1987   jan     1   \n4        4371  new_zealand      pakistan        uae  2009   nov     0   \n\n   day_match  bat_first  format  fow  score   rpo  result  \n0          0          0       1    5    146  7.30       1  \n1          0          1       0    6    340  6.80       1  \n2          1          0       0    4    286  5.72       1  \n3          1          1       0    6    225  4.50       1  \n4          0          0       1    5    153  7.65       0  ",
      "text/html": "<div>\n<style scoped>\n    .dataframe tbody tr th:only-of-type {\n        vertical-align: middle;\n    }\n\n    .dataframe tbody tr th {\n        vertical-align: top;\n    }\n\n    .dataframe thead th {\n        text-align: right;\n    }\n</style>\n<table border=\"1\" class=\"dataframe\">\n  <thead>\n    <tr style=\"text-align: right;\">\n      <th></th>\n      <th>Unnamed: 0</th>\n      <th>team</th>\n      <th>opp</th>\n      <th>host</th>\n      <th>year</th>\n      <th>month</th>\n      <th>toss</th>\n      <th>day_match</th>\n      <th>bat_first</th>\n      <th>format</th>\n      <th>fow</th>\n      <th>score</th>\n      <th>rpo</th>\n      <th>result</th>\n    </tr>\n  </thead>\n  <tbody>\n    <tr>\n      <th>0</th>\n      <td>4901</td>\n      <td>australia</td>\n      <td>south_africa</td>\n      <td>sri_lanka</td>\n      <td>2012</td>\n      <td>sep</td>\n      <td>1</td>\n      <td>0</td>\n      <td>0</td>\n      <td>1</td>\n      <td>5</td>\n      <td>146</td>\n      <td>7.30</td>\n      <td>1</td>\n    </tr>\n    <tr>\n      <th>1</th>\n      <td>1910</td>\n      <td>india</td>\n      <td>australia</td>\n      <td>india</td>\n      <td>2020</td>\n      <td>jan</td>\n      <td>0</td>\n      <td>0</td>\n      <td>1</td>\n      <td>0</td>\n      <td>6</td>\n      <td>340</td>\n      <td>6.80</td>\n      <td>1</td>\n    </tr>\n    <tr>\n      <th>2</th>\n      <td>5735</td>\n      <td>canada</td>\n      <td>scotland</td>\n      <td>scotland</td>\n      <td>2009</td>\n      <td>jul</td>\n      <td>1</td>\n      <td>1</td>\n      <td>0</td>\n      <td>0</td>\n      <td>4</td>\n      <td>286</td>\n      <td>5.72</td>\n      <td>1</td>\n    </tr>\n    <tr>\n      <th>3</th>\n      <td>2136</td>\n      <td>australia</td>\n      <td>england</td>\n      <td>australia</td>\n      <td>1987</td>\n      <td>jan</td>\n      <td>1</td>\n      <td>1</td>\n      <td>1</td>\n      <td>0</td>\n      <td>6</td>\n      <td>225</td>\n      <td>4.50</td>\n      <td>1</td>\n    </tr>\n    <tr>\n      <th>4</th>\n      <td>4371</td>\n      <td>new_zealand</td>\n      <td>pakistan</td>\n      <td>uae</td>\n      <td>2009</td>\n      <td>nov</td>\n      <td>0</td>\n      <td>0</td>\n      <td>0</td>\n      <td>1</td>\n      <td>5</td>\n      <td>153</td>\n      <td>7.65</td>\n      <td>0</td>\n    </tr>\n  </tbody>\n</table>\n</div>"
     },
     "execution_count": 3,
     "metadata": {},
     "output_type": "execute_result"
    }
   ],
   "source": [
    "train_data = pd.read_csv('train.csv')\n",
    "train_data.head()\n"
   ],
   "metadata": {
    "collapsed": false,
    "ExecuteTime": {
     "end_time": "2023-11-02T18:54:02.261623Z",
     "start_time": "2023-11-02T18:54:01.993391Z"
    }
   },
   "id": "75873bfb19a9a9de"
  },
  {
   "cell_type": "code",
   "execution_count": 4,
   "outputs": [
    {
     "data": {
      "text/plain": "((7827, 12), (7827, 1))"
     },
     "execution_count": 4,
     "metadata": {},
     "output_type": "execute_result"
    }
   ],
   "source": [
    "X_train, y_train = get_np_array('train.csv')\n",
    "\n",
    "# Printing the shape of the training data to verify its structure\n",
    "X_train.shape, y_train.shape"
   ],
   "metadata": {
    "collapsed": false,
    "ExecuteTime": {
     "end_time": "2023-11-02T18:54:04.882162Z",
     "start_time": "2023-11-02T18:54:04.822911Z"
    }
   },
   "id": "531898f38cf5f264"
  },
  {
   "cell_type": "code",
   "execution_count": 5,
   "outputs": [],
   "source": [
    "X_test, y_test = get_np_array('test.csv')"
   ],
   "metadata": {
    "collapsed": false,
    "ExecuteTime": {
     "end_time": "2023-11-02T18:54:41.487251Z",
     "start_time": "2023-11-02T18:54:41.470472Z"
    }
   },
   "id": "fed035cfb1007533"
  },
  {
   "cell_type": "code",
   "execution_count": 6,
   "outputs": [],
   "source": [
    "# Identifying which columns are continuous for the decision tree construction\n",
    "types = ['cat', 'cat', 'cat', \"cat\", \"cat\", \"cont\", \"cat\", \"cat\", \"cat\", \"cont\", \"cont\", \"cont\"]\n",
    "continuous_columns = [i for i, t in enumerate(types) if t == 'cont']\n"
   ],
   "metadata": {
    "collapsed": false,
    "ExecuteTime": {
     "end_time": "2023-11-02T18:55:10.737951Z",
     "start_time": "2023-11-02T18:55:10.734674Z"
    }
   },
   "id": "8a21a25c13bb289"
  },
  {
   "cell_type": "code",
   "execution_count": 7,
   "outputs": [
    {
     "data": {
      "text/plain": "0.5656670113753878"
     },
     "execution_count": 7,
     "metadata": {},
     "output_type": "execute_result"
    }
   ],
   "source": [
    "class DTNode:\n",
    "    def __init__(self, depth, is_leaf=False, value=None, column=None, median=None):\n",
    "        self.depth = depth\n",
    "        self.is_leaf = is_leaf\n",
    "        self.value = value\n",
    "        self.column = column\n",
    "        self.median = median\n",
    "        self.children = {}\n",
    "\n",
    "    def get_child(self, X):\n",
    "        if self.is_leaf:\n",
    "            return self\n",
    "\n",
    "        feature_value = X[self.column]\n",
    "        if self.column in continuous_columns:\n",
    "            if feature_value > self.median:\n",
    "                return self.children.get('right')\n",
    "            else:\n",
    "                return self.children.get('left')\n",
    "        else:\n",
    "            return self.children.get(feature_value)\n",
    "\n",
    "\n",
    "class DTTree:\n",
    "    def __init__(self):\n",
    "        self.root = None\n",
    "\n",
    "    def fit(self, X, y, types, max_depth=10):\n",
    "        self.root = self._fit_recursive(X, y, depth=0, max_depth=max_depth, types=types)\n",
    "\n",
    "    def _fit_recursive(self, X, y, depth, max_depth, types):\n",
    "        if depth == max_depth or len(np.unique(y)) == 1:\n",
    "            return DTNode(depth, is_leaf=True, value=np.argmax(np.bincount(y.flatten())))\n",
    "\n",
    "        best_feature, best_median = self._find_best_split(X, y, types)\n",
    "        if best_feature is None:\n",
    "            return DTNode(depth, is_leaf=True, value=np.argmax(np.bincount(y.flatten())))\n",
    "\n",
    "        node = DTNode(depth, column=best_feature, median=best_median)\n",
    "        if types[best_feature] == 'cont':\n",
    "            left_indices = X[:, best_feature] <= best_median\n",
    "            right_indices = X[:, best_feature] > best_median\n",
    "            node.children['left'] = self._fit_recursive(X[left_indices], y[left_indices], depth+1, max_depth, types)\n",
    "            node.children['right'] = self._fit_recursive(X[right_indices], y[right_indices], depth+1, max_depth, types)\n",
    "        else:\n",
    "            unique_values = np.unique(X[:, best_feature])\n",
    "            for value in unique_values:\n",
    "                indices = X[:, best_feature] == value\n",
    "                node.children[value] = self._fit_recursive(X[indices], y[indices], depth+1, max_depth, types)\n",
    "\n",
    "        if not node.children:\n",
    "            return DTNode(depth, is_leaf=True, value=np.argmax(np.bincount(y.flatten())))\n",
    "        \n",
    "        return node\n",
    "\n",
    "    def _find_best_split(self, X, y, types):\n",
    "        best_feature = None\n",
    "        best_median = None\n",
    "        best_mutual_info = -np.inf\n",
    "\n",
    "        for feature in range(X.shape[1]):\n",
    "            if types[feature] == 'cont':\n",
    "                median = np.median(X[:, feature])\n",
    "                left = y[X[:, feature] <= median]\n",
    "                right = y[X[:, feature] > median]\n",
    "                mutual_info = self._calculate_mutual_information(y, left, right)\n",
    "            else:\n",
    "                mutual_info = self._calculate_mutual_information(y, *[y[X[:, feature] == value] for value in np.unique(X[:, feature])])\n",
    "\n",
    "            if mutual_info > best_mutual_info:\n",
    "                best_mutual_info = mutual_info\n",
    "                best_feature = feature\n",
    "                best_median = median if types[feature] == 'cont' else None\n",
    "\n",
    "        return best_feature, best_median\n",
    "\n",
    "    def _calculate_mutual_information(self, y, *splits):\n",
    "        total_count = sum(split.size for split in splits)\n",
    "        entropy_before = self._calculate_entropy(y)\n",
    "        entropy_after = sum(self._calculate_entropy(split) * split.size / total_count for split in splits)\n",
    "        return entropy_before - entropy_after\n",
    "\n",
    "    @staticmethod\n",
    "    def _calculate_entropy(y):\n",
    "        _, counts = np.unique(y, return_counts=True)\n",
    "        probabilities = counts / counts.sum()\n",
    "        return -np.sum(probabilities * np.log2(probabilities))\n",
    "\n",
    "    def predict(self, X):\n",
    "        predictions = np.zeros(X.shape[0])\n",
    "        for i in range(X.shape[0]):\n",
    "            node = self.root\n",
    "            while not node.is_leaf:\n",
    "                child = node.get_child(X[i])\n",
    "                if child is None:\n",
    "                    break\n",
    "                node = child\n",
    "            predictions[i] = node.value\n",
    "        return predictions.reshape(-1, 1)\n",
    "\n",
    "    def post_prune(self, X_val, y_val):\n",
    "        # TODO: Implement post-pruning\n",
    "        pass\n",
    "\n",
    "\n",
    "# Creating the decision tree and fitting it to the training data\n",
    "tree = DTTree()\n",
    "tree.fit(X_train, y_train, types, max_depth=10)\n",
    "\n",
    "# Predicting the test set labels using the trained decision tree\n",
    "y_pred_test = tree.predict(X_test)\n",
    "\n",
    "# Calculating the accuracy on the test set\n",
    "test_accuracy = np.mean(y_pred_test == y_test)\n",
    "test_accuracy"
   ],
   "metadata": {
    "collapsed": false,
    "ExecuteTime": {
     "end_time": "2023-11-02T18:55:18.822497Z",
     "start_time": "2023-11-02T18:55:14.520806Z"
    }
   },
   "id": "ff618a2c1d33e6e6"
  },
  {
   "cell_type": "code",
   "execution_count": 8,
   "outputs": [
    {
     "data": {
      "text/plain": "0.9962948767088284"
     },
     "execution_count": 8,
     "metadata": {},
     "output_type": "execute_result"
    }
   ],
   "source": [
    "# Calculate Training Accuracy\n",
    "y_pred_train = tree.predict(X_train)\n",
    "train_accuracy = np.mean(y_pred_train == y_train)\n",
    "train_accuracy"
   ],
   "metadata": {
    "collapsed": false,
    "ExecuteTime": {
     "end_time": "2023-11-02T18:57:01.314930Z",
     "start_time": "2023-11-02T18:57:01.304215Z"
    }
   },
   "id": "8a83a58a0b6e3b2f"
  },
  {
   "cell_type": "code",
   "execution_count": 14,
   "outputs": [
    {
     "name": "stdout",
     "output_type": "stream",
     "text": [
      "Training Accuracy for depth 5 : 0.8855244665900089\n",
      "Test Accuracy for depth 5 : 0.5439503619441571\n",
      "Training Accuracy for depth 10 : 0.9962948767088284\n",
      "Test Accuracy for depth 10 : 0.5656670113753878\n",
      "Training Accuracy for depth 15 : 0.9969336910693752\n",
      "Test Accuracy for depth 15 : 0.5656670113753878\n",
      "Training Accuracy for depth 20 : 0.9969336910693752\n",
      "Test Accuracy for depth 20 : 0.5656670113753878\n",
      "Training Accuracy for depth 25 : 0.9969336910693752\n",
      "Test Accuracy for depth 25 : 0.5656670113753878\n"
     ]
    }
   ],
   "source": [
    "depths = [5, 10, 15, 20, 25]\n",
    "model_of_depth = {}\n",
    "training_accuracies = []\n",
    "test_accuracies = []\n",
    "\n",
    "for depth in depths:\n",
    "    tree = DTTree()\n",
    "    tree.fit(X_train, y_train, types, max_depth=depth)\n",
    "    model_of_depth[depth] = tree\n",
    "    \n",
    "    # Print Training and Test accuracies\n",
    "    y_pred_train = tree.predict(X_train)\n",
    "    train_accuracy = np.mean(y_pred_train == y_train)\n",
    "    print(\"Training Accuracy for depth\", depth, \":\", train_accuracy)\n",
    "    training_accuracies.append(train_accuracy)\n",
    "    \n",
    "    y_pred_test = tree.predict(X_test)\n",
    "    test_accuracy = np.mean(y_pred_test == y_test)\n",
    "    print(\"Test Accuracy for depth\", depth, \":\", test_accuracy)\n",
    "    test_accuracies.append(test_accuracy)"
   ],
   "metadata": {
    "collapsed": false,
    "ExecuteTime": {
     "end_time": "2023-11-02T19:18:44.855398Z",
     "start_time": "2023-11-02T19:18:24.257853Z"
    }
   },
   "id": "f7f4d5e7669a9a9b"
  },
  {
   "cell_type": "code",
   "execution_count": 15,
   "outputs": [
    {
     "data": {
      "text/plain": "<Figure size 640x480 with 1 Axes>",
      "image/png": "[encoded data removed]"
     },
     "metadata": {},
     "output_type": "display_data"
    }
   ],
   "source": [
    "# plot the accuracies vs depths\n",
    "\n",
    "import matplotlib.pyplot as plt\n",
    "\n",
    "plt.plot(depths, training_accuracies, label=\"Training Accuracy\")\n",
    "plt.plot(depths, test_accuracies, label=\"Test Accuracy\")\n",
    "\n",
    "plt.xlabel(\"Depth\")\n",
    "plt.ylabel(\"Accuracy\")\n",
    "plt.legend()\n",
    "plt.savefig(\"(a)depth_vs_accuracy.png\")\n",
    "plt.show()"
   ],
   "metadata": {
    "collapsed": false,
    "ExecuteTime": {
     "end_time": "2023-11-02T19:18:45.108681Z",
     "start_time": "2023-11-02T19:18:44.871458Z"
    }
   },
   "id": "b6b9ab403fe6f06"
  },
  {
   "cell_type": "code",
   "execution_count": 17,
   "outputs": [
    {
     "name": "stdout",
     "output_type": "stream",
     "text": [
      "Training Accuracy for only loss prediction: 0.49661428388910184\n",
      "Training Accuracy for only win prediction: 0.5033857161108982\n",
      "Test Accuracy for only loss prediction: 0.5036194415718718\n",
      "Test Accuracy for only win prediction: 0.4963805584281282\n"
     ]
    }
   ],
   "source": [
    "# Accuracy for only win and only loss prediction\n",
    "y_pred_train_loss = np.zeros(y_train.shape)\n",
    "y_pred_train_win = np.ones(y_train.shape)\n",
    "\n",
    "y_pred_test_loss = np.zeros(y_test.shape)\n",
    "y_pred_test_win = np.ones(y_test.shape)\n",
    "\n",
    "train_accuracy_loss = np.mean(y_pred_train_loss == y_train)\n",
    "train_accuracy_win = np.mean(y_pred_train_win == y_train)\n",
    "\n",
    "test_accuracy_loss = np.mean(y_pred_test_loss == y_test)\n",
    "test_accuracy_win = np.mean(y_pred_test_win == y_test)\n",
    "\n",
    "print(\"Training Accuracy for only loss prediction:\", train_accuracy_loss)\n",
    "print(\"Training Accuracy for only win prediction:\", train_accuracy_win)\n",
    "\n",
    "print(\"Test Accuracy for only loss prediction:\", test_accuracy_loss)\n",
    "print(\"Test Accuracy for only win prediction:\", test_accuracy_win)\n"
   ],
   "metadata": {
    "collapsed": false,
    "ExecuteTime": {
     "end_time": "2023-11-02T19:21:53.969300Z",
     "start_time": "2023-11-02T19:21:53.966114Z"
    }
   },
   "id": "922d26e91a268376"
  }
 ],
 "metadata": {
  "kernelspec": {
   "display_name": "Python 3",
   "language": "python",
   "name": "python3"
  },
  "language_info": {
   "codemirror_mode": {
    "name": "ipython",
    "version": 2
   },
   "file_extension": ".py",
   "mimetype": "text/x-python",
   "name": "python",
   "nbconvert_exporter": "python",
   "pygments_lexer": "ipython2",
   "version": "2.7.6"
  }
 },
 "nbformat": 4,
 "nbformat_minor": 5
}
