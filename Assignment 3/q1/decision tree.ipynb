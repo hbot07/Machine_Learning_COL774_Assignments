{
 "cells": [
  {
   "cell_type": "markdown",
   "source": [
    "# Ordinal Encoding"
   ],
   "metadata": {
    "collapsed": false
   },
   "id": "9334e4df30caf37a"
  },
  {
   "cell_type": "code",
   "execution_count": 70,
   "id": "initial_id",
   "metadata": {
    "collapsed": true,
    "ExecuteTime": {
     "end_time": "2023-11-03T09:51:52.434759Z",
     "start_time": "2023-11-03T09:51:52.426649Z"
    }
   },
   "outputs": [],
   "source": [
    "from sklearn.preprocessing import OrdinalEncoder, OneHotEncoder\n",
    "import pandas as pd\n",
    "import numpy as np\n",
    "\n",
    "label_encoder = None \n",
    "\n",
    "def get_np_array(file_name):\n",
    "    global label_encoder\n",
    "    data = pd.read_csv(file_name)\n",
    "    \n",
    "    need_label_encoding = ['team','host','opp','month', 'day_match']\n",
    "    if(label_encoder is None):\n",
    "        label_encoder = OrdinalEncoder()\n",
    "        label_encoder.fit(data[need_label_encoding])\n",
    "    data_1 = pd.DataFrame(label_encoder.transform(data[need_label_encoding]), columns = label_encoder.get_feature_names_out())\n",
    "    \n",
    "    #merge the two dataframes\n",
    "    dont_need_label_encoding =  [\"year\",\"toss\",\"bat_first\",\"format\" ,\"fow\",\"score\" ,\"rpo\" ,\"result\"]\n",
    "    data_2 = data[dont_need_label_encoding]\n",
    "    final_data = pd.concat([data_1, data_2], axis=1)\n",
    "    \n",
    "    X = final_data.iloc[:,:-1]\n",
    "    y = final_data.iloc[:,-1:]\n",
    "    return X.to_numpy(), y.to_numpy()"
   ]
  },
  {
   "cell_type": "code",
   "execution_count": 34,
   "outputs": [
    {
     "data": {
      "text/plain": "   Unnamed: 0         team           opp       host  year month  toss  \\\n0        4901    australia  south_africa  sri_lanka  2012   sep     1   \n1        1910        india     australia      india  2020   jan     0   \n2        5735       canada      scotland   scotland  2009   jul     1   \n3        2136    australia       england  australia  1987   jan     1   \n4        4371  new_zealand      pakistan        uae  2009   nov     0   \n\n   day_match  bat_first  format  fow  score   rpo  result  \n0          0          0       1    5    146  7.30       1  \n1          0          1       0    6    340  6.80       1  \n2          1          0       0    4    286  5.72       1  \n3          1          1       0    6    225  4.50       1  \n4          0          0       1    5    153  7.65       0  ",
      "text/html": "<div>\n<style scoped>\n    .dataframe tbody tr th:only-of-type {\n        vertical-align: middle;\n    }\n\n    .dataframe tbody tr th {\n        vertical-align: top;\n    }\n\n    .dataframe thead th {\n        text-align: right;\n    }\n</style>\n<table border=\"1\" class=\"dataframe\">\n  <thead>\n    <tr style=\"text-align: right;\">\n      <th></th>\n      <th>Unnamed: 0</th>\n      <th>team</th>\n      <th>opp</th>\n      <th>host</th>\n      <th>year</th>\n      <th>month</th>\n      <th>toss</th>\n      <th>day_match</th>\n      <th>bat_first</th>\n      <th>format</th>\n      <th>fow</th>\n      <th>score</th>\n      <th>rpo</th>\n      <th>result</th>\n    </tr>\n  </thead>\n  <tbody>\n    <tr>\n      <th>0</th>\n      <td>4901</td>\n      <td>australia</td>\n      <td>south_africa</td>\n      <td>sri_lanka</td>\n      <td>2012</td>\n      <td>sep</td>\n      <td>1</td>\n      <td>0</td>\n      <td>0</td>\n      <td>1</td>\n      <td>5</td>\n      <td>146</td>\n      <td>7.30</td>\n      <td>1</td>\n    </tr>\n    <tr>\n      <th>1</th>\n      <td>1910</td>\n      <td>india</td>\n      <td>australia</td>\n      <td>india</td>\n      <td>2020</td>\n      <td>jan</td>\n      <td>0</td>\n      <td>0</td>\n      <td>1</td>\n      <td>0</td>\n      <td>6</td>\n      <td>340</td>\n      <td>6.80</td>\n      <td>1</td>\n    </tr>\n    <tr>\n      <th>2</th>\n      <td>5735</td>\n      <td>canada</td>\n      <td>scotland</td>\n      <td>scotland</td>\n      <td>2009</td>\n      <td>jul</td>\n      <td>1</td>\n      <td>1</td>\n      <td>0</td>\n      <td>0</td>\n      <td>4</td>\n      <td>286</td>\n      <td>5.72</td>\n      <td>1</td>\n    </tr>\n    <tr>\n      <th>3</th>\n      <td>2136</td>\n      <td>australia</td>\n      <td>england</td>\n      <td>australia</td>\n      <td>1987</td>\n      <td>jan</td>\n      <td>1</td>\n      <td>1</td>\n      <td>1</td>\n      <td>0</td>\n      <td>6</td>\n      <td>225</td>\n      <td>4.50</td>\n      <td>1</td>\n    </tr>\n    <tr>\n      <th>4</th>\n      <td>4371</td>\n      <td>new_zealand</td>\n      <td>pakistan</td>\n      <td>uae</td>\n      <td>2009</td>\n      <td>nov</td>\n      <td>0</td>\n      <td>0</td>\n      <td>0</td>\n      <td>1</td>\n      <td>5</td>\n      <td>153</td>\n      <td>7.65</td>\n      <td>0</td>\n    </tr>\n  </tbody>\n</table>\n</div>"
     },
     "execution_count": 34,
     "metadata": {},
     "output_type": "execute_result"
    }
   ],
   "source": [
    "train_data = pd.read_csv('train.csv')\n",
    "train_data.head()\n"
   ],
   "metadata": {
    "collapsed": false,
    "ExecuteTime": {
     "end_time": "2023-11-02T20:21:35.592137Z",
     "start_time": "2023-11-02T20:21:35.471778Z"
    }
   },
   "id": "75873bfb19a9a9de"
  },
  {
   "cell_type": "code",
   "execution_count": 35,
   "outputs": [
    {
     "data": {
      "text/plain": "((7827, 12), (7827, 1))"
     },
     "execution_count": 35,
     "metadata": {},
     "output_type": "execute_result"
    }
   ],
   "source": [
    "X_train, y_train = get_np_array('train.csv')\n",
    "\n",
    "# Printing the shape of the training data to verify its structure\n",
    "X_train.shape, y_train.shape"
   ],
   "metadata": {
    "collapsed": false,
    "ExecuteTime": {
     "end_time": "2023-11-02T20:21:35.593776Z",
     "start_time": "2023-11-02T20:21:35.507135Z"
    }
   },
   "id": "531898f38cf5f264"
  },
  {
   "cell_type": "code",
   "execution_count": 36,
   "outputs": [],
   "source": [
    "X_test, y_test = get_np_array('test.csv')"
   ],
   "metadata": {
    "collapsed": false,
    "ExecuteTime": {
     "end_time": "2023-11-02T20:21:35.605616Z",
     "start_time": "2023-11-02T20:21:35.545101Z"
    }
   },
   "id": "fed035cfb1007533"
  },
  {
   "cell_type": "code",
   "execution_count": 37,
   "outputs": [],
   "source": [
    "# Identifying which columns are continuous for the decision tree construction\n",
    "types = ['cat', 'cat', 'cat', \"cat\", \"cat\", \"cont\", \"cat\", \"cat\", \"cat\", \"cont\", \"cont\", \"cont\"]\n",
    "continuous_columns = [i for i, t in enumerate(types) if t == 'cont']\n"
   ],
   "metadata": {
    "collapsed": false,
    "ExecuteTime": {
     "end_time": "2023-11-02T20:21:35.606434Z",
     "start_time": "2023-11-02T20:21:35.562009Z"
    }
   },
   "id": "8a21a25c13bb289"
  },
  {
   "cell_type": "code",
   "execution_count": 65,
   "outputs": [
    {
     "data": {
      "text/plain": "0.6215098241985523"
     },
     "execution_count": 65,
     "metadata": {},
     "output_type": "execute_result"
    }
   ],
   "source": [
    "class DTNode:\n",
    "    def __init__(self, depth, is_leaf=False, value=None, column=None, median=None):\n",
    "        self.depth = depth\n",
    "        self.is_leaf = is_leaf\n",
    "        self.value = value\n",
    "        self.column = column\n",
    "        self.median = median\n",
    "        self.children = {}\n",
    "\n",
    "    def get_child(self, X):\n",
    "        if self.is_leaf:\n",
    "            return self\n",
    "\n",
    "        feature_value = X[self.column]\n",
    "        if self.column in continuous_columns:\n",
    "            if feature_value > self.median:\n",
    "                return self.children.get('right')\n",
    "            else:\n",
    "                return self.children.get('left')\n",
    "        else:\n",
    "            return self.children.get(feature_value)\n",
    "\n",
    "\n",
    "class DTTree:\n",
    "    def __init__(self):\n",
    "        self.root = None\n",
    "\n",
    "    def fit(self, X, y, types, max_depth=10):\n",
    "        self.root = self._fit_recursive(X, y, depth=0, max_depth=max_depth, types=types)\n",
    "\n",
    "    def _fit_recursive(self, X, y, depth, max_depth, types):\n",
    "        if depth == max_depth or len(np.unique(y)) == 1:\n",
    "            return DTNode(depth, is_leaf=True, value=np.argmax(np.bincount(y.flatten())))\n",
    "\n",
    "        best_feature, best_median = self._find_best_split(X, y, types)\n",
    "        if best_feature is None:\n",
    "            return DTNode(depth, is_leaf=True, value=np.argmax(np.bincount(y.flatten())))\n",
    "\n",
    "        node = DTNode(depth, column=best_feature, median=best_median)\n",
    "        if types[best_feature] == 'cont':\n",
    "            left_indices = X[:, best_feature] <= best_median\n",
    "            right_indices = X[:, best_feature] > best_median\n",
    "            if sum(left_indices) == 0:\n",
    "                return DTNode(depth, is_leaf=True, value=np.argmax(np.bincount(y.flatten())))\n",
    "            if sum(right_indices) == 0:\n",
    "                return DTNode(depth, is_leaf=True, value=np.argmax(np.bincount(y.flatten())))\n",
    "            node.children['left'] = self._fit_recursive(X[left_indices], y[left_indices], depth+1, max_depth, types)\n",
    "            node.children['right'] = self._fit_recursive(X[right_indices], y[right_indices], depth+1, max_depth, types)\n",
    "        else:\n",
    "            unique_values = np.unique(X[:, best_feature])\n",
    "            for value in unique_values:\n",
    "                indices = X[:, best_feature] == value\n",
    "                node.children[value] = self._fit_recursive(X[indices], y[indices], depth+1, max_depth, types)\n",
    "\n",
    "        if not node.children:\n",
    "            return DTNode(depth, is_leaf=True, value=np.argmax(np.bincount(y.flatten())))\n",
    "        \n",
    "        return node\n",
    "\n",
    "    def _find_best_split(self, X, y, types):\n",
    "        best_feature = None\n",
    "        best_median = None\n",
    "        best_mutual_info = -np.inf\n",
    "\n",
    "        for feature in range(X.shape[1]):\n",
    "            if types[feature] == 'cont':\n",
    "                median = np.median(X[:, feature])\n",
    "                left = y[X[:, feature] <= median]\n",
    "                right = y[X[:, feature] > median]\n",
    "                mutual_info = self._calculate_mutual_information(y, left, right)\n",
    "            else:\n",
    "                mutual_info = self._calculate_mutual_information(y, *[y[X[:, feature] == value] for value in np.unique(X[:, feature])])\n",
    "\n",
    "            if mutual_info > best_mutual_info:\n",
    "                best_mutual_info = mutual_info\n",
    "                best_feature = feature\n",
    "                best_median = median if types[feature] == 'cont' else None\n",
    "\n",
    "        return best_feature, best_median\n",
    "\n",
    "    def _calculate_mutual_information(self, y, *splits):\n",
    "        total_count = sum(split.size for split in splits)\n",
    "        entropy_before = self._calculate_entropy(y)\n",
    "        entropy_after = sum(self._calculate_entropy(split) * split.size / total_count for split in splits)\n",
    "        return entropy_before - entropy_after\n",
    "\n",
    "    @staticmethod\n",
    "    def _calculate_entropy(y):\n",
    "        _, counts = np.unique(y, return_counts=True)\n",
    "        probabilities = counts / counts.sum()\n",
    "        return -np.sum(probabilities * np.log2(probabilities))\n",
    "\n",
    "    def predict(self, X):\n",
    "        predictions = np.zeros(X.shape[0])\n",
    "        for i in range(X.shape[0]):\n",
    "            node = self.root\n",
    "            while not node.is_leaf:\n",
    "                child = node.get_child(X[i])\n",
    "                if child is None:\n",
    "                    break\n",
    "                node = child\n",
    "            predictions[i] = node.value\n",
    "        return predictions.reshape(-1, 1)\n",
    "\n",
    "    def post_prune(self, X_val, y_val):\n",
    "        # TODO: Implement post-pruning\n",
    "        pass\n",
    "\n",
    "\n",
    "# Creating the decision tree and fitting it to the training data\n",
    "tree = DTTree()\n",
    "tree.fit(X_train, y_train, types, max_depth=10)\n",
    "\n",
    "# Predicting the test set labels using the trained decision tree\n",
    "y_pred_test = tree.predict(X_test)\n",
    "\n",
    "# Calculating the accuracy on the test set\n",
    "test_accuracy = np.mean(y_pred_test == y_test)\n",
    "test_accuracy"
   ],
   "metadata": {
    "collapsed": false,
    "ExecuteTime": {
     "end_time": "2023-11-03T09:13:13.553308Z",
     "start_time": "2023-11-03T09:13:11.536833Z"
    }
   },
   "id": "ff618a2c1d33e6e6"
  },
  {
   "cell_type": "code",
   "execution_count": 39,
   "outputs": [
    {
     "data": {
      "text/plain": "0.9962948767088284"
     },
     "execution_count": 39,
     "metadata": {},
     "output_type": "execute_result"
    }
   ],
   "source": [
    "# Calculate Training Accuracy\n",
    "y_pred_train = tree.predict(X_train)\n",
    "train_accuracy = np.mean(y_pred_train == y_train)\n",
    "train_accuracy"
   ],
   "metadata": {
    "collapsed": false,
    "ExecuteTime": {
     "end_time": "2023-11-02T20:21:39.552726Z",
     "start_time": "2023-11-02T20:21:39.524014Z"
    }
   },
   "id": "8a83a58a0b6e3b2f"
  },
  {
   "cell_type": "code",
   "execution_count": 40,
   "outputs": [
    {
     "name": "stdout",
     "output_type": "stream",
     "text": [
      "Training Accuracy for depth 5 : 0.8855244665900089\n",
      "Test Accuracy for depth 5 : 0.5439503619441571\n",
      "Training Accuracy for depth 10 : 0.9962948767088284\n",
      "Test Accuracy for depth 10 : 0.5656670113753878\n",
      "Training Accuracy for depth 15 : 0.9969336910693752\n",
      "Test Accuracy for depth 15 : 0.5656670113753878\n",
      "Training Accuracy for depth 20 : 0.9969336910693752\n",
      "Test Accuracy for depth 20 : 0.5656670113753878\n",
      "Training Accuracy for depth 25 : 0.9969336910693752\n",
      "Test Accuracy for depth 25 : 0.5656670113753878\n"
     ]
    }
   ],
   "source": [
    "depths = [5, 10, 15, 20, 25]\n",
    "model_of_depth = {}\n",
    "training_accuracies = []\n",
    "test_accuracies = []\n",
    "\n",
    "for depth in depths:\n",
    "    tree = DTTree()\n",
    "    tree.fit(X_train, y_train, types, max_depth=depth)\n",
    "    model_of_depth[depth] = tree\n",
    "    \n",
    "    # Print Training and Test accuracies\n",
    "    y_pred_train = tree.predict(X_train)\n",
    "    train_accuracy = np.mean(y_pred_train == y_train)\n",
    "    print(\"Training Accuracy for depth\", depth, \":\", train_accuracy)\n",
    "    training_accuracies.append(train_accuracy)\n",
    "    \n",
    "    y_pred_test = tree.predict(X_test)\n",
    "    test_accuracy = np.mean(y_pred_test == y_test)\n",
    "    print(\"Test Accuracy for depth\", depth, \":\", test_accuracy)\n",
    "    test_accuracies.append(test_accuracy)"
   ],
   "metadata": {
    "collapsed": false,
    "ExecuteTime": {
     "end_time": "2023-11-02T20:21:57.598052Z",
     "start_time": "2023-11-02T20:21:39.535317Z"
    }
   },
   "id": "f7f4d5e7669a9a9b"
  },
  {
   "cell_type": "code",
   "execution_count": 41,
   "outputs": [
    {
     "data": {
      "text/plain": "<Figure size 640x480 with 1 Axes>",
      "image/png": "[encoded data removed]"
     },
     "metadata": {},
     "output_type": "display_data"
    }
   ],
   "source": [
    "# plot the accuracies vs depths\n",
    "\n",
    "import matplotlib.pyplot as plt\n",
    "\n",
    "plt.plot(depths, training_accuracies, label=\"Training Accuracy\")\n",
    "plt.plot(depths, test_accuracies, label=\"Test Accuracy\")\n",
    "\n",
    "plt.xlabel(\"Depth\")\n",
    "plt.ylabel(\"Accuracy\")\n",
    "plt.legend()\n",
    "plt.savefig(\"(a)depth_vs_accuracy.png\")\n",
    "plt.show()"
   ],
   "metadata": {
    "collapsed": false,
    "ExecuteTime": {
     "end_time": "2023-11-02T20:21:57.816497Z",
     "start_time": "2023-11-02T20:21:57.600199Z"
    }
   },
   "id": "b6b9ab403fe6f06"
  },
  {
   "cell_type": "code",
   "execution_count": 42,
   "outputs": [
    {
     "name": "stdout",
     "output_type": "stream",
     "text": [
      "Training Accuracy for only loss prediction: 0.49661428388910184\n",
      "Training Accuracy for only win prediction: 0.5033857161108982\n",
      "Test Accuracy for only loss prediction: 0.5036194415718718\n",
      "Test Accuracy for only win prediction: 0.4963805584281282\n"
     ]
    }
   ],
   "source": [
    "# Accuracy for only win and only loss prediction\n",
    "y_pred_train_loss = np.zeros(y_train.shape)\n",
    "y_pred_train_win = np.ones(y_train.shape)\n",
    "\n",
    "y_pred_test_loss = np.zeros(y_test.shape)\n",
    "y_pred_test_win = np.ones(y_test.shape)\n",
    "\n",
    "train_accuracy_loss = np.mean(y_pred_train_loss == y_train)\n",
    "train_accuracy_win = np.mean(y_pred_train_win == y_train)\n",
    "\n",
    "test_accuracy_loss = np.mean(y_pred_test_loss == y_test)\n",
    "test_accuracy_win = np.mean(y_pred_test_win == y_test)\n",
    "\n",
    "print(\"Training Accuracy for only loss prediction:\", train_accuracy_loss)\n",
    "print(\"Training Accuracy for only win prediction:\", train_accuracy_win)\n",
    "\n",
    "print(\"Test Accuracy for only loss prediction:\", test_accuracy_loss)\n",
    "print(\"Test Accuracy for only win prediction:\", test_accuracy_win)\n"
   ],
   "metadata": {
    "collapsed": false,
    "ExecuteTime": {
     "end_time": "2023-11-02T20:21:57.820900Z",
     "start_time": "2023-11-02T20:21:57.816330Z"
    }
   },
   "id": "922d26e91a268376"
  },
  {
   "cell_type": "markdown",
   "source": [
    "# One Hot Encoding"
   ],
   "metadata": {
    "collapsed": false
   },
   "id": "6d29d8f553807082"
  },
  {
   "cell_type": "code",
   "execution_count": 43,
   "outputs": [],
   "source": [
    "label_encoder = None\n",
    "\n",
    "def get_np_array_one_hot(file_name):\n",
    "    global label_encoder\n",
    "    data = pd.read_csv(file_name)\n",
    "    \n",
    "    need_label_encoding = ['team','host','opp','month', 'day_match']\n",
    "    if(label_encoder is None):\n",
    "        label_encoder = OneHotEncoder(sparse_output=False)\n",
    "        label_encoder.fit(data[need_label_encoding])\n",
    "    data_1 = pd.DataFrame(label_encoder.transform(data[need_label_encoding]), columns = label_encoder.get_feature_names_out())\n",
    "    \n",
    "    #merge the two dataframes\n",
    "    dont_need_label_encoding =  [\"year\",\"toss\",\"bat_first\",\"format\" ,\"fow\",\"score\" ,\"rpo\" ,\"result\"]\n",
    "    data_2 = data[dont_need_label_encoding]\n",
    "    final_data = pd.concat([data_1, data_2], axis=1)\n",
    "    \n",
    "    X = final_data.iloc[:,:-1]\n",
    "    y = final_data.iloc[:,-1:]\n",
    "    return X.to_numpy(), y.to_numpy()"
   ],
   "metadata": {
    "collapsed": false,
    "ExecuteTime": {
     "end_time": "2023-11-02T20:21:57.825587Z",
     "start_time": "2023-11-02T20:21:57.822575Z"
    }
   },
   "id": "176df2d88895fd3c"
  },
  {
   "cell_type": "code",
   "execution_count": 44,
   "outputs": [
    {
     "data": {
      "text/plain": "((7827, 79), (7827, 1), (967, 79), (967, 1))"
     },
     "execution_count": 44,
     "metadata": {},
     "output_type": "execute_result"
    }
   ],
   "source": [
    "# Loading the one-hot encoded training and test data\n",
    "X_train_one_hot, y_train_one_hot = get_np_array_one_hot('train.csv')\n",
    "X_test_one_hot, y_test_one_hot = get_np_array_one_hot('test.csv')\n",
    "\n",
    "# Displaying the shapes of the one-hot encoded datasets\n",
    "X_train_one_hot.shape, y_train_one_hot.shape, X_test_one_hot.shape, y_test_one_hot.shape"
   ],
   "metadata": {
    "collapsed": false,
    "ExecuteTime": {
     "end_time": "2023-11-02T20:21:57.899764Z",
     "start_time": "2023-11-02T20:21:57.826645Z"
    }
   },
   "id": "29ad69a9c02d5fe6"
  },
  {
   "cell_type": "code",
   "execution_count": 54,
   "outputs": [
    {
     "data": {
      "text/plain": "array([[1],\n       [1],\n       [1],\n       [1],\n       [0],\n       [1],\n       [0],\n       [0],\n       [1],\n       [1]])"
     },
     "execution_count": 54,
     "metadata": {},
     "output_type": "execute_result"
    }
   ],
   "source": [
    "y_train_one_hot[:10]"
   ],
   "metadata": {
    "collapsed": false,
    "ExecuteTime": {
     "end_time": "2023-11-03T09:00:51.222490Z",
     "start_time": "2023-11-03T09:00:51.215899Z"
    }
   },
   "id": "686295061447d097"
  },
  {
   "cell_type": "code",
   "execution_count": 45,
   "outputs": [],
   "source": [
    "# # Revisiting the decision tree implementation and accuracy calculation\n",
    "# \n",
    "# class DTNode:\n",
    "# \n",
    "#     def __init__(self, depth, is_leaf=False, value=None, column=None, split_value=None):\n",
    "#         self.depth = depth\n",
    "#         self.is_leaf = is_leaf\n",
    "#         self.value = value\n",
    "#         self.column = column\n",
    "#         self.split_value = split_value\n",
    "#         self.children = {}\n",
    "# \n",
    "#     def add_child(self, value, node):\n",
    "#         self.children[value] = node\n",
    "# \n",
    "# class DTTree:\n",
    "# \n",
    "#     def __init__(self):\n",
    "#         self.root = None\n",
    "# \n",
    "#     def fit(self, X, y, types, max_depth=10):\n",
    "#         self.root = self._fit_recursive(X, y, 0, max_depth, types)\n",
    "# \n",
    "#     def _fit_recursive(self, X, y, depth, max_depth, types):\n",
    "#         if depth == max_depth or len(np.unique(y)) == 1:\n",
    "#             return DTNode(depth, is_leaf=True, value=np.argmax(np.bincount(y.flatten())))\n",
    "# \n",
    "#         best_gain = -1\n",
    "#         best_column = None\n",
    "#         best_split_value = None\n",
    "#         best_sets = None\n",
    "# \n",
    "#         for i in range(X.shape[1]):\n",
    "#             column_values = X[:, i]\n",
    "#             unique_values = np.unique(column_values)\n",
    "# \n",
    "#             for value in unique_values:\n",
    "#                 left_indices = column_values <= value\n",
    "#                 right_indices = column_values > value\n",
    "# \n",
    "#                 if np.sum(left_indices) == 0 or np.sum(right_indices) == 0:\n",
    "#                     continue\n",
    "# \n",
    "#                 left_y = y[left_indices]\n",
    "#                 right_y = y[right_indices]\n",
    "# \n",
    "#                 gain = self.information_gain(y, left_y, right_y)\n",
    "#                 if gain > best_gain:\n",
    "#                     best_gain = gain\n",
    "#                     best_column = i\n",
    "#                     best_split_value = value\n",
    "#                     best_sets = (X[left_indices], y[left_indices], X[right_indices], y[right_indices])\n",
    "# \n",
    "#         if best_gain == -1:\n",
    "#             return DTNode(depth, is_leaf=True, value=np.argmax(np.bincount(y.flatten())))\n",
    "# \n",
    "#         left_node = self._fit_recursive(*best_sets[:2], depth + 1, max_depth, types)\n",
    "#         right_node = self._fit_recursive(*best_sets[2:], depth + 1, max_depth, types)\n",
    "#         node = DTNode(depth, column=best_column, split_value=best_split_value)\n",
    "#         node.add_child(\"left\", left_node)\n",
    "#         node.add_child(\"right\", right_node)\n",
    "# \n",
    "#         return node\n",
    "# \n",
    "#     def information_gain(self, parent, left_child, right_child):\n",
    "#         def entropy(y):\n",
    "#             unique, counts = np.unique(y, return_counts=True)\n",
    "#             probabilities = counts / counts.sum()\n",
    "#             return -np.sum(probabilities * np.log2(probabilities))\n",
    "# \n",
    "#         parent_entropy = entropy(parent)\n",
    "#         left_entropy = entropy(left_child)\n",
    "#         right_entropy = entropy(right_child)\n",
    "# \n",
    "#         left_weight = len(left_child) / len(parent)\n",
    "#         right_weight = len(right_child) / len(parent)\n",
    "# \n",
    "#         return parent_entropy - (left_weight * left_entropy + right_weight * right_entropy)\n",
    "# \n",
    "#     def predict(self, X):\n",
    "#         predictions = []\n",
    "#         for i in range(X.shape[0]):\n",
    "#             node = self.root\n",
    "#             while not node.is_leaf:\n",
    "#                 value = X[i, node.column]\n",
    "#                 if value <= node.split_value:\n",
    "#                     node = node.children[\"left\"]\n",
    "#                 else:\n",
    "#                     node = node.children[\"right\"]\n",
    "#             predictions.append(node.value)\n",
    "#         return np.array(predictions)"
   ],
   "metadata": {
    "collapsed": false,
    "ExecuteTime": {
     "end_time": "2023-11-02T20:21:57.900001Z",
     "start_time": "2023-11-02T20:21:57.873719Z"
    }
   },
   "id": "10ef4564dad536be"
  },
  {
   "cell_type": "code",
   "execution_count": 46,
   "outputs": [],
   "source": [
    "\n",
    "# Function to calculate accuracy\n",
    "def calculate_accuracy(y_true, y_pred):\n",
    "    return np.mean(y_true == y_pred)"
   ],
   "metadata": {
    "collapsed": false,
    "ExecuteTime": {
     "end_time": "2023-11-02T20:21:57.900804Z",
     "start_time": "2023-11-02T20:21:57.883405Z"
    }
   },
   "id": "87b1ad682e02e60b"
  },
  {
   "cell_type": "code",
   "execution_count": 48,
   "outputs": [],
   "source": [
    "# Identifying which columns are continuous for the decision tree construction\n",
    "types = [\"cont\"] * X_train_one_hot.shape[1]\n",
    "continuous_columns = [i for i, t in enumerate(types) if t == 'cont']"
   ],
   "metadata": {
    "collapsed": false,
    "ExecuteTime": {
     "end_time": "2023-11-02T20:24:07.260123Z",
     "start_time": "2023-11-02T20:24:07.251196Z"
    }
   },
   "id": "f1236e53bb033990"
  },
  {
   "cell_type": "code",
   "execution_count": 53,
   "outputs": [
    {
     "data": {
      "text/plain": "[0,\n 1,\n 2,\n 3,\n 4,\n 5,\n 6,\n 7,\n 8,\n 9,\n 10,\n 11,\n 12,\n 13,\n 14,\n 15,\n 16,\n 17,\n 18,\n 19,\n 20,\n 21,\n 22,\n 23,\n 24,\n 25,\n 26,\n 27,\n 28,\n 29,\n 30,\n 31,\n 32,\n 33,\n 34,\n 35,\n 36,\n 37,\n 38,\n 39,\n 40,\n 41,\n 42,\n 43,\n 44,\n 45,\n 46,\n 47,\n 48,\n 49,\n 50,\n 51,\n 52,\n 53,\n 54,\n 55,\n 56,\n 57,\n 58,\n 59,\n 60,\n 61,\n 62,\n 63,\n 64,\n 65,\n 66,\n 67,\n 68,\n 69,\n 70,\n 71,\n 72,\n 73,\n 74,\n 75,\n 76,\n 77,\n 78]"
     },
     "execution_count": 53,
     "metadata": {},
     "output_type": "execute_result"
    }
   ],
   "source": [
    "continuous_columns"
   ],
   "metadata": {
    "collapsed": false,
    "ExecuteTime": {
     "end_time": "2023-11-03T08:59:40.768168Z",
     "start_time": "2023-11-03T08:59:40.762573Z"
    }
   },
   "id": "52a511b8bbfa6d90"
  },
  {
   "cell_type": "code",
   "execution_count": 66,
   "outputs": [
    {
     "name": "stdout",
     "output_type": "stream",
     "text": [
      "Max Depth: 15\n",
      "Training Accuracy: 0.7021847451130702\n",
      "Test Accuracy: 0.5573940020682523\n",
      "Max Depth: 25\n",
      "Training Accuracy: 0.8397853583748562\n",
      "Test Accuracy: 0.6039296794208894\n",
      "Max Depth: 35\n",
      "Training Accuracy: 0.923342276734381\n",
      "Test Accuracy: 0.5925542916235781\n",
      "Max Depth: 45\n",
      "Training Accuracy: 0.9868404241727354\n",
      "Test Accuracy: 0.6059979317476732\n"
     ]
    }
   ],
   "source": [
    "# Fitting and evaluating the decision tree for different maximum depths\n",
    "depths = [15, 25, 35, 45]\n",
    "results_one_hot_corrected = []\n",
    "model_of_depth_one_hot = {}\n",
    "\n",
    "for max_depth in depths:\n",
    "    print(\"Max Depth:\", max_depth)\n",
    "    tree = DTTree()\n",
    "    tree.fit(X_train_one_hot, y_train_one_hot, types=[\"cont\"] * X_train_one_hot.shape[1], max_depth=max_depth)\n",
    "    y_pred_train = tree.predict(X_train_one_hot)\n",
    "    y_pred_test = tree.predict(X_test_one_hot)\n",
    "    train_accuracy = calculate_accuracy(y_train_one_hot, y_pred_train)\n",
    "    test_accuracy = calculate_accuracy(y_test_one_hot, y_pred_test)\n",
    "    results_one_hot_corrected.append((max_depth, train_accuracy, test_accuracy))\n",
    "    \n",
    "    model_of_depth_one_hot[max_depth] = tree\n",
    "    \n",
    "    print(\"Training Accuracy:\", train_accuracy)\n",
    "    print(\"Test Accuracy:\", test_accuracy)"
   ],
   "metadata": {
    "collapsed": false,
    "ExecuteTime": {
     "end_time": "2023-11-03T09:14:50.858147Z",
     "start_time": "2023-11-03T09:13:20.596626Z"
    }
   },
   "id": "a2ed50e30fd4a44a"
  },
  {
   "cell_type": "code",
   "execution_count": null,
   "outputs": [],
   "source": [],
   "metadata": {
    "collapsed": false
   },
   "id": "6602d53ad0048a18"
  },
  {
   "cell_type": "code",
   "execution_count": 68,
   "outputs": [
    {
     "data": {
      "text/plain": "<Figure size 640x480 with 1 Axes>",
      "image/png": "[encoded data removed]"
     },
     "metadata": {},
     "output_type": "display_data"
    }
   ],
   "source": [
    "# plot the results\n",
    "\n",
    "plt.plot(depths, [r[1]*100 for r in results_one_hot_corrected], label=\"Training Accuracy\")\n",
    "plt.plot(depths, [r[2]*100 for r in results_one_hot_corrected], label=\"Test Accuracy\")\n",
    "\n",
    "plt.xlabel(\"Depth\")\n",
    "plt.ylabel(\"Accuracy\")\n",
    "plt.legend()\n",
    "plt.savefig(\"(b)depth_vs_accuracy.png\")\n",
    "plt.show()"
   ],
   "metadata": {
    "collapsed": false,
    "ExecuteTime": {
     "end_time": "2023-11-03T09:19:15.281487Z",
     "start_time": "2023-11-03T09:19:15.049793Z"
    }
   },
   "id": "17dc9d9a1d736d8a"
  },
  {
   "cell_type": "markdown",
   "source": [
    "# Scikit Learn Decision Tree"
   ],
   "metadata": {
    "collapsed": false
   },
   "id": "edf4bde732596bbb"
  },
  {
   "cell_type": "code",
   "execution_count": 89,
   "outputs": [
    {
     "name": "stdout",
     "output_type": "stream",
     "text": [
      "   Max Depth  Training Accuracy  Test Accuracy  Validation Accuracy\n",
      "0         15           0.824709       0.609100             0.641379\n",
      "1         25           0.988374       0.634953             0.624138\n",
      "2         35           1.000000       0.632885             0.625287\n",
      "3         45           1.000000       0.629783             0.620690\n"
     ]
    }
   ],
   "source": [
    "from sklearn.tree import DecisionTreeClassifier\n",
    "from sklearn.metrics import accuracy_score\n",
    "import pandas as pd\n",
    "\n",
    "X_train, y_train = get_np_array('train.csv')\n",
    "X_test, y_test = get_np_array('test.csv')\n",
    "X_val, y_val = get_np_array('val.csv')\n",
    "\n",
    "# Evaluate the decision tree for different max depths\n",
    "depths = [15, 25, 35, 45]\n",
    "dt_results = []\n",
    "\n",
    "for depth in depths:\n",
    "    dt_clf = DecisionTreeClassifier(criterion='entropy', max_depth=depth)\n",
    "    dt_clf.fit(X_train, y_train)\n",
    "    \n",
    "    train_acc = accuracy_score(y_train, dt_clf.predict(X_train))\n",
    "    test_acc = accuracy_score(y_test, dt_clf.predict(X_test))\n",
    "    val_acc = accuracy_score(y_val, dt_clf.predict(X_val))\n",
    "    \n",
    "    dt_results.append((depth, train_acc, test_acc, val_acc))\n",
    "\n",
    "dt_results_df = pd.DataFrame(dt_results, columns=['Max Depth', 'Training Accuracy', 'Test Accuracy', 'Validation Accuracy'])\n",
    "print(dt_results_df)"
   ],
   "metadata": {
    "collapsed": false,
    "ExecuteTime": {
     "end_time": "2023-11-03T10:09:08.534085Z",
     "start_time": "2023-11-03T10:09:08.262581Z"
    }
   },
   "id": "cb1703feffd684a0"
  },
  {
   "cell_type": "code",
   "execution_count": 91,
   "outputs": [
    {
     "data": {
      "text/plain": "<Figure size 640x480 with 1 Axes>",
      "image/png": "[encoded data removed]"
     },
     "metadata": {},
     "output_type": "display_data"
    }
   ],
   "source": [
    "# plot the results\n",
    "\n",
    "plt.plot(depths, [r[1]*100 for r in dt_results], label=\"Training Accuracy\")\n",
    "plt.plot(depths, [r[2]*100 for r in dt_results], label=\"Test Accuracy\")\n",
    "plt.plot(depths, [r[3]*100 for r in dt_results], label=\"Validation Accuracy\")\n",
    "\n",
    "plt.xlabel(\"Depth\")\n",
    "plt.ylabel(\"Accuracy\")\n",
    "plt.legend()\n",
    "plt.savefig(\"(d)depth_vs_accuracy.png\")\n",
    "plt.show()"
   ],
   "metadata": {
    "collapsed": false,
    "ExecuteTime": {
     "end_time": "2023-11-03T10:11:46.428728Z",
     "start_time": "2023-11-03T10:11:46.157337Z"
    }
   },
   "id": "a9d2b4ecb736926f"
  },
  {
   "cell_type": "code",
   "execution_count": 98,
   "outputs": [
    {
     "name": "stdout",
     "output_type": "stream",
     "text": [
      "     CCP  Training Accuracy  Test Accuracy  Validation Accuracy\n",
      "0  0.001           0.684426       0.622544             0.636782\n",
      "1  0.010           0.534432       0.518097             0.500000\n",
      "2  0.100           0.503386       0.496381             0.473563\n",
      "3  0.200           0.503386       0.496381             0.473563\n"
     ]
    }
   ],
   "source": [
    "from sklearn.tree import DecisionTreeClassifier\n",
    "from sklearn.metrics import accuracy_score\n",
    "import pandas as pd\n",
    "from sklearn.preprocessing import OneHotEncoder\n",
    "\n",
    "\n",
    "X_val, y_val = get_np_array('val.csv')\n",
    "\n",
    "# Evaluate the decision tree for different max depths\n",
    "ccp_values = [0.001, 0.01, 0.1, 0.2]\n",
    "dt_results = []\n",
    "\n",
    "for ccp in ccp_values:\n",
    "    dt_clf = DecisionTreeClassifier(criterion='entropy', max_depth=15, ccp_alpha=ccp)\n",
    "    dt_clf.fit(X_train, y_train)\n",
    "    \n",
    "    train_acc = accuracy_score(y_train, dt_clf.predict(X_train))\n",
    "    test_acc = accuracy_score(y_test, dt_clf.predict(X_test))\n",
    "    val_acc = accuracy_score(y_val, dt_clf.predict(X_val))\n",
    "    \n",
    "    dt_results.append((ccp, train_acc, test_acc, val_acc))\n",
    "\n",
    "# Output the results in a structured format\n",
    "dt_results_df = pd.DataFrame(dt_results, columns=['CCP', 'Training Accuracy', 'Test Accuracy', 'Validation Accuracy'])\n",
    "print(dt_results_df)"
   ],
   "metadata": {
    "collapsed": false,
    "ExecuteTime": {
     "end_time": "2023-11-03T10:14:35.949124Z",
     "start_time": "2023-11-03T10:14:35.748100Z"
    }
   },
   "id": "7eb9684d27def3c6"
  },
  {
   "cell_type": "code",
   "execution_count": 99,
   "outputs": [
    {
     "data": {
      "text/plain": "<Figure size 640x480 with 1 Axes>",
      "image/png": "[encoded data removed]"
     },
     "metadata": {},
     "output_type": "display_data"
    }
   ],
   "source": [
    "# plot the results\n",
    "\n",
    "plt.plot(ccp_values, [r[1]*100 for r in dt_results], label=\"Training Accuracy\")\n",
    "plt.plot(ccp_values, [r[2]*100 for r in dt_results], label=\"Test Accuracy\")\n",
    "plt.plot(ccp_values, [r[3]*100 for r in dt_results], label=\"Validation Accuracy\")\n",
    "\n",
    "plt.xlabel(\"ccp_alpha\")\n",
    "plt.ylabel(\"Accuracy\")\n",
    "plt.legend()\n",
    "plt.savefig(\"(d)ccp_vs_accuracy.png\")\n",
    "plt.show()"
   ],
   "metadata": {
    "collapsed": false,
    "ExecuteTime": {
     "end_time": "2023-11-03T10:14:37.632989Z",
     "start_time": "2023-11-03T10:14:37.405701Z"
    }
   },
   "id": "9d0b8d67497e826f"
  },
  {
   "cell_type": "code",
   "execution_count": 102,
   "outputs": [
    {
     "name": "stdout",
     "output_type": "stream",
     "text": [
      "{'Best Parameters': {'max_features': 0.3, 'min_samples_split': 10, 'n_estimators': 350}, 'OOB Accuracy': 0.7281206081512712, 'Training Accuracy': 0.9457007793535198, 'Validation Accuracy': 0.7229885057471265, 'Test Accuracy': 0.7280248190279214}\n"
     ]
    }
   ],
   "source": [
    "from sklearn.ensemble import RandomForestClassifier\n",
    "from sklearn.model_selection import GridSearchCV\n",
    "from sklearn.metrics import accuracy_score\n",
    "import pandas as pd\n",
    "\n",
    "\n",
    "param_grid_rf = {\n",
    "    'n_estimators': [50, 150, 250, 350],\n",
    "    'max_features': [0.1, 0.3, 0.5, 0.7, 0.9],\n",
    "    'min_samples_split': [2, 4, 6, 8, 10]\n",
    "}\n",
    "\n",
    "rf_clf = RandomForestClassifier(oob_score=True, random_state=43)\n",
    "\n",
    "grid_search_rf = GridSearchCV(estimator=rf_clf, param_grid=param_grid_rf, scoring='accuracy')\n",
    "\n",
    "# Fit the grid search to the training data\n",
    "grid_search_rf.fit(X_train, y_train.ravel())\n",
    "\n",
    "# Extract the best estimator\n",
    "best_rf_clf = grid_search_rf.best_estimator_\n",
    "\n",
    "# Predict on training, validation and test sets with the best estimator\n",
    "y_train_pred_rf = best_rf_clf.predict(X_train)\n",
    "y_val_pred_rf = best_rf_clf.predict(X_val)\n",
    "y_test_pred_rf = best_rf_clf.predict(X_test)\n",
    "\n",
    "# Calculate accuracies\n",
    "train_accuracy_rf = accuracy_score(y_train, y_train_pred_rf)\n",
    "val_accuracy_rf = accuracy_score(y_val, y_val_pred_rf)\n",
    "test_accuracy_rf = accuracy_score(y_test, y_test_pred_rf)\n",
    "\n",
    "# OOB accuracy\n",
    "oob_accuracy_rf = best_rf_clf.oob_score_\n",
    "\n",
    "# Best parameters\n",
    "best_params_rf = grid_search_rf.best_params_\n",
    "\n",
    "# Compile the results\n",
    "random_forest_results = {\n",
    "    'Best Parameters': best_params_rf,\n",
    "    'OOB Accuracy': oob_accuracy_rf,\n",
    "    'Training Accuracy': train_accuracy_rf,\n",
    "    'Validation Accuracy': val_accuracy_rf,\n",
    "    'Test Accuracy': test_accuracy_rf\n",
    "}\n",
    "\n",
    "# Print the results\n",
    "print(random_forest_results)"
   ],
   "metadata": {
    "collapsed": false,
    "ExecuteTime": {
     "end_time": "2023-11-03T10:43:03.854717Z",
     "start_time": "2023-11-03T10:21:47.061235Z"
    }
   },
   "id": "f94dce50a7b2ea2c"
  }
 ],
 "metadata": {
  "kernelspec": {
   "display_name": "Python 3",
   "language": "python",
   "name": "python3"
  },
  "language_info": {
   "codemirror_mode": {
    "name": "ipython",
    "version": 2
   },
   "file_extension": ".py",
   "mimetype": "text/x-python",
   "name": "python",
   "nbconvert_exporter": "python",
   "pygments_lexer": "ipython2",
   "version": "2.7.6"
  }
 },
 "nbformat": 4,
 "nbformat_minor": 5
}
